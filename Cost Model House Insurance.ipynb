{
 "cells": [
  {
   "cell_type": "markdown",
   "id": "f4f16412",
   "metadata": {},
   "source": [
    "# HOUSEHOLD INSURANCE\n",
    "\n",
    "the last model to be implemented for the CLTV is the household cost model.\n",
    "\n",
    "The process is going to be similar to the one used for the automobile. The target variable is going to be the Pure Premium and a tweedie distribution will be used to follow the European standards in premium modelling matters.\n",
    "\n",
    "Since the database doesn't count on a variable for claim numbers, with a Poisson distribution we simulate it.\n",
    "\n",
    "As with previous analysis, the process of the analysis can be summed up with the following steps:\n",
    "\n",
    "1. General insights: load data, create variables, correct errors and detect outliers.\n",
    "2. Specific EDA: conduct an exploratory on categorical and numerical to get a better understanding and detect differential relationships\n",
    "3. Modelling Pure Premium which is the target variable and the mean cost for each policy for the later CLTV.\n",
    "4. Extract the predictions and concat them with the previous estimated components of the CLTV."
   ]
  },
  {
   "cell_type": "code",
   "execution_count": 84,
   "id": "34f26d1d",
   "metadata": {},
   "outputs": [],
   "source": [
    "# importar librerías\n",
    "import pandas as pd\n",
    "import numpy as np\n",
    "import os\n",
    "import dill\n",
    "import sys\n",
    "from datetime import datetime\n",
    "# seaborn\n",
    "import seaborn as sns\n",
    "# matplotlib\n",
    "import matplotlib.pyplot as plt\n",
    "from scipy.stats import chi2_contingency\n",
    "# plotly\n",
    "import plotly.express as px\n",
    "import plotly.graph_objs as go\n",
    "import dash\n",
    "from dash import dcc\n",
    "from dash import html\n",
    "from dash import Dash, dcc, html, Input, Output, State\n",
    "from plotly.subplots import make_subplots\n",
    "#from dash.dependencies import Input, Output, State\n",
    "\n",
    "from scipy.stats import poisson\n",
    "\n",
    "# scikit-learn\n",
    "from sklearn.impute import KNNImputer, SimpleImputer\n",
    "from sklearn.cluster import KMeans\n",
    "from sklearn.model_selection import train_test_split\n",
    "from sklearn.linear_model import LogisticRegression\n",
    "from sklearn.tree import DecisionTreeClassifier\n",
    "from sklearn.linear_model import TweedieRegressor\n",
    "from sklearn.dummy import DummyClassifier\n",
    "\n",
    "from sklearn.compose import ColumnTransformer\n",
    "from sklearn.pipeline import make_pipeline, Pipeline\n",
    "from sklearn.preprocessing import LabelEncoder, StandardScaler,OneHotEncoder,OrdinalEncoder,KBinsDiscretizer\n",
    "\n",
    "from sklearn.metrics import accuracy_score\n",
    "from sklearn.metrics import mean_absolute_error, mean_squared_error\n",
    "from sklearn.metrics import classification_report, confusion_matrix\n",
    "from sklearn.metrics import recall_score, make_scorer,mean_tweedie_deviance, d2_tweedie_score,auc,roc_auc_score\n",
    "\n",
    "from sklearn.metrics import accuracy_score, precision_score, recall_score,f1_score, confusion_matrix, roc_auc_score, log_loss\n",
    "\n",
    "from sklearn.model_selection import GridSearchCV, cross_val_score,RandomizedSearchCV\n",
    "\n",
    "from sklearn.ensemble import RandomForestClassifier\n",
    "from sklearn.tree import DecisionTreeClassifier\n",
    "import lightgbm as lgb\n",
    "import xgboost as xgb"
   ]
  },
  {
   "cell_type": "code",
   "execution_count": 85,
   "id": "6bc53a08",
   "metadata": {},
   "outputs": [],
   "source": [
    "# importing the auxiliar functions\n",
    "\n",
    "# Use raw string and ensure the path is absolute\n",
    "aux_path = os.path.abspath(r'C:\\Users\\boloma1\\OneDrive - MAPFRE\\Formación\\GitHub\\2025\\CLTV')\n",
    "if aux_path not in sys.path:\n",
    "    sys.path.append(aux_path)\n",
    "\n",
    "# Now import your auxiliary functions\n",
    "from aux_fun import *"
   ]
  },
  {
   "cell_type": "markdown",
   "id": "b3eb449a",
   "metadata": {},
   "source": [
    "# GENERAL INSIGHTS"
   ]
  },
  {
   "cell_type": "code",
   "execution_count": 86,
   "id": "831d505a",
   "metadata": {},
   "outputs": [],
   "source": [
    "# Load database\n",
    "save_dir = r'C:\\Users\\boloma1\\OneDrive - MAPFRE\\Formación\\GitHub\\2025\\CLTV\\Datos\\\\' # Adaptar segun tu ruta\n",
    "\n",
    "filename_list = ['bbdd_hogar','column_trans']\n",
    "\n",
    "# Diccionario para almacenar los objetos cargados\n",
    "loaded_objects = {}\n",
    "\n",
    "# Cargar cada archivo .pkl\n",
    "for i in range(len(filename_list)):\n",
    "  with open(save_dir + filename_list[i] + '.pkl', 'rb') as file:\n",
    "    loaded_objects[filename_list[i]] = dill.load(file)"
   ]
  },
  {
   "cell_type": "code",
   "execution_count": 87,
   "id": "73f37d09",
   "metadata": {},
   "outputs": [],
   "source": [
    "df= loaded_objects['bbdd_hogar']"
   ]
  },
  {
   "cell_type": "code",
   "execution_count": 88,
   "id": "d6ea7a73",
   "metadata": {},
   "outputs": [
    {
     "name": "stdout",
     "output_type": "stream",
     "text": [
      "<class 'pandas.core.frame.DataFrame'>\n",
      "RangeIndex: 59778 entries, 0 to 59777\n",
      "Data columns (total 16 columns):\n",
      " #   Column             Non-Null Count  Dtype  \n",
      "---  ------             --------------  -----  \n",
      " 0   cliente            59778 non-null  object \n",
      " 1   fecha_nacimiento   59778 non-null  object \n",
      " 2   Prod               59778 non-null  object \n",
      " 3   contactos_ult_año  59778 non-null  int64  \n",
      " 4   forma_pago         59778 non-null  object \n",
      " 5   valor_continente   59778 non-null  float64\n",
      " 6   valor_contenido    59778 non-null  float64\n",
      " 7   id_tran            59778 non-null  int64  \n",
      " 8   mes_trans          59778 non-null  int64  \n",
      " 9   prima              59778 non-null  float64\n",
      " 10  productos          59778 non-null  object \n",
      " 11  id_oficina         59778 non-null  object \n",
      " 12  localizacion       59778 non-null  object \n",
      " 13  id_sin             2172 non-null   float64\n",
      " 14  mes_sini           2172 non-null   float64\n",
      " 15  coste_siniestro    2172 non-null   float64\n",
      "dtypes: float64(6), int64(3), object(7)\n",
      "memory usage: 7.3+ MB\n"
     ]
    }
   ],
   "source": [
    "df.info()"
   ]
  },
  {
   "cell_type": "markdown",
   "id": "269ec1fa",
   "metadata": {},
   "source": [
    "## Creation New Variables\n",
    "\n",
    "In this section, new variables are created from existing ones as well as we simulate a series for number of claims with a Poisson distribution.\n",
    "Also some formats of the variables are changed for later analysis and drop those unused."
   ]
  },
  {
   "cell_type": "code",
   "execution_count": 89,
   "id": "11ab6551",
   "metadata": {},
   "outputs": [],
   "source": [
    "df['fecha_nacimiento'] = pd.to_datetime(df['fecha_nacimiento'])\n",
    "# Create new variables\n",
    "today = datetime.today()\n",
    "df['edad'] = (today - df['fecha_nacimiento']).dt.days // 365\n",
    "df['contactos_ult_año']=df['contactos_ult_año'].astype('category')\n",
    "df['exposicion']=1\n",
    "df['coste_siniestro']=df['coste_siniestro'].fillna(0)\n",
    "df['PrimaPura']=df['coste_siniestro']/df['exposicion']"
   ]
  },
  {
   "cell_type": "code",
   "execution_count": 90,
   "id": "40f8390e",
   "metadata": {},
   "outputs": [
    {
     "data": {
      "image/png": "[encoded data removed]",
      "text/plain": [
       "<Figure size 400x300 with 1 Axes>"
      ]
     },
     "metadata": {},
     "output_type": "display_data"
    }
   ],
   "source": [
    "import numpy as np\n",
    "import matplotlib.pyplot as plt\n",
    "from scipy.stats import poisson\n",
    "\n",
    "# Function to sample from a zero-truncated Poisson distribution\n",
    "def zero_truncated_poisson(mu, size):\n",
    "    samples = []\n",
    "    while len(samples) < size:\n",
    "        s = poisson.rvs(mu, size=size*2)\n",
    "        s = s[s > 0]\n",
    "        samples.extend(s.tolist())\n",
    "    return np.array(samples[:size])\n",
    "\n",
    "# Set parameters\n",
    "n_policies = len(df.loc[df['coste_siniestro']>0])\n",
    "mu_claims = n_policies/len(df)  # average number of claims per policy\n",
    "\n",
    "# Simulate number of claims using zero-truncated Poisson\n",
    "num_claims = zero_truncated_poisson(mu=mu_claims, size=n_policies)\n",
    "\n",
    "# Visualize the distribution of simulated claim counts\n",
    "plt.figure(figsize=(4, 3))\n",
    "plt.hist(num_claims, bins=np.arange(1, num_claims.max()+2)-0.5, edgecolor='black')\n",
    "plt.title('Distribution of Simulated Claim Counts per Policy')\n",
    "plt.xlabel('Number of Claims')\n",
    "plt.ylabel('Number of Policies')\n",
    "plt.xticks(range(1, num_claims.max()+1))\n",
    "plt.grid(axis='y', linestyle='--', alpha=0.7)\n",
    "plt.tight_layout()\n",
    "plt.show()\n",
    "\n"
   ]
  },
  {
   "cell_type": "code",
   "execution_count": 91,
   "id": "9ce75b2e",
   "metadata": {},
   "outputs": [],
   "source": [
    "# Create number of claims variable\n",
    "df.loc[df['coste_siniestro']>0,'NSin']=num_claims\n",
    "df.loc[df['coste_siniestro']==0,'NSin']=0"
   ]
  },
  {
   "cell_type": "code",
   "execution_count": 92,
   "id": "41eb2031",
   "metadata": {},
   "outputs": [],
   "source": [
    "df.drop(['fecha_nacimiento','id_tran','id_sin','mes_trans','mes_sini'],axis=1,inplace=True)"
   ]
  },
  {
   "cell_type": "code",
   "execution_count": 93,
   "id": "0e68c03d",
   "metadata": {},
   "outputs": [],
   "source": [
    "num_cols=[]\n",
    "cat_cols=[]\n",
    "\n",
    "# Listas con variables numéricas y categóricas\n",
    "[cat_cols.append(x) if df[x].dtypes in ('object','category','datetime') else num_cols.append(x) for x in df.columns ]\n",
    "num_cols.remove('exposicion');"
   ]
  },
  {
   "cell_type": "markdown",
   "id": "40d5ae9b",
   "metadata": {},
   "source": [
    "## Correct errors and outliers\n",
    "\n",
    "In this step, we look for outlier values in the numeric variables. Extreme values will be removed. For a deeper analysis of the metric used for detecting outliers, you can look at the auxiliary functions in a python script (aux_fun.py).\n",
    "\n",
    "Finally we can look at the distribution of the numeric variables once outliers are removed to check for consistency."
   ]
  },
  {
   "cell_type": "code",
   "execution_count": 94,
   "id": "26dee333",
   "metadata": {},
   "outputs": [
    {
     "data": {
      "application/vnd.microsoft.datawrangler.viewer.v0+json": {
       "columns": [
        {
         "name": "index",
         "rawType": "int64",
         "type": "integer"
        },
        {
         "name": "Variable",
         "rawType": "object",
         "type": "string"
        },
        {
         "name": "Num. outliers",
         "rawType": "int64",
         "type": "integer"
        },
        {
         "name": "Outlier Threshold",
         "rawType": "float64",
         "type": "float"
        },
        {
         "name": "% Outliers",
         "rawType": "float64",
         "type": "float"
        }
       ],
       "ref": "bb62d731-9f97-4dc9-acbf-8acd76050ee4",
       "rows": [
        [
         "0",
         "valor_continente",
         "764",
         "393544.0",
         "1.28"
        ],
        [
         "1",
         "valor_contenido",
         "3",
         "11692958.0",
         "0.01"
        ],
        [
         "2",
         "prima",
         "732",
         "443.0",
         "1.22"
        ],
        [
         "3",
         "coste_siniestro",
         "1149",
         "3544.0",
         "1.92"
        ],
        [
         "4",
         "edad",
         "52",
         "109.0",
         "0.09"
        ],
        [
         "5",
         "PrimaPura",
         "1149",
         "3544.0",
         "1.92"
        ],
        [
         "6",
         "NSin",
         "2172",
         "1.0",
         "3.63"
        ]
       ],
       "shape": {
        "columns": 4,
        "rows": 7
       }
      },
      "text/html": [
       "<div>\n",
       "<style scoped>\n",
       "    .dataframe tbody tr th:only-of-type {\n",
       "        vertical-align: middle;\n",
       "    }\n",
       "\n",
       "    .dataframe tbody tr th {\n",
       "        vertical-align: top;\n",
       "    }\n",
       "\n",
       "    .dataframe thead th {\n",
       "        text-align: right;\n",
       "    }\n",
       "</style>\n",
       "<table border=\"1\" class=\"dataframe\">\n",
       "  <thead>\n",
       "    <tr style=\"text-align: right;\">\n",
       "      <th></th>\n",
       "      <th>Variable</th>\n",
       "      <th>Num. outliers</th>\n",
       "      <th>Outlier Threshold</th>\n",
       "      <th>% Outliers</th>\n",
       "    </tr>\n",
       "  </thead>\n",
       "  <tbody>\n",
       "    <tr>\n",
       "      <th>0</th>\n",
       "      <td>valor_continente</td>\n",
       "      <td>764</td>\n",
       "      <td>393544.0</td>\n",
       "      <td>1.28</td>\n",
       "    </tr>\n",
       "    <tr>\n",
       "      <th>1</th>\n",
       "      <td>valor_contenido</td>\n",
       "      <td>3</td>\n",
       "      <td>11692958.0</td>\n",
       "      <td>0.01</td>\n",
       "    </tr>\n",
       "    <tr>\n",
       "      <th>2</th>\n",
       "      <td>prima</td>\n",
       "      <td>732</td>\n",
       "      <td>443.0</td>\n",
       "      <td>1.22</td>\n",
       "    </tr>\n",
       "    <tr>\n",
       "      <th>3</th>\n",
       "      <td>coste_siniestro</td>\n",
       "      <td>1149</td>\n",
       "      <td>3544.0</td>\n",
       "      <td>1.92</td>\n",
       "    </tr>\n",
       "    <tr>\n",
       "      <th>4</th>\n",
       "      <td>edad</td>\n",
       "      <td>52</td>\n",
       "      <td>109.0</td>\n",
       "      <td>0.09</td>\n",
       "    </tr>\n",
       "    <tr>\n",
       "      <th>5</th>\n",
       "      <td>PrimaPura</td>\n",
       "      <td>1149</td>\n",
       "      <td>3544.0</td>\n",
       "      <td>1.92</td>\n",
       "    </tr>\n",
       "    <tr>\n",
       "      <th>6</th>\n",
       "      <td>NSin</td>\n",
       "      <td>2172</td>\n",
       "      <td>1.0</td>\n",
       "      <td>3.63</td>\n",
       "    </tr>\n",
       "  </tbody>\n",
       "</table>\n",
       "</div>"
      ],
      "text/plain": [
       "           Variable  Num. outliers  Outlier Threshold  % Outliers\n",
       "0  valor_continente            764           393544.0        1.28\n",
       "1   valor_contenido              3         11692958.0        0.01\n",
       "2             prima            732              443.0        1.22\n",
       "3   coste_siniestro           1149             3544.0        1.92\n",
       "4              edad             52              109.0        0.09\n",
       "5         PrimaPura           1149             3544.0        1.92\n",
       "6              NSin           2172                1.0        3.63"
      ]
     },
     "execution_count": 94,
     "metadata": {},
     "output_type": "execute_result"
    }
   ],
   "source": [
    "detect_outliers(df,num_cols=num_cols)"
   ]
  },
  {
   "cell_type": "code",
   "execution_count": 95,
   "id": "56b16693",
   "metadata": {},
   "outputs": [],
   "source": [
    "clients_ids = []\n",
    "clients_ids.extend(df.loc[df['edad']>=108,'cliente'].to_list())\n",
    "clients_ids.extend(df.loc[df['edad']<=21,'cliente'].to_list())\n",
    "clients_ids.extend(df.loc[df['valor_continente']>=390000,'cliente'].to_list())\n",
    "clients_ids.extend(df.loc[df['valor_contenido']>=100000,'cliente'].to_list())\n",
    "\n",
    "#clients_ids.extend(df.loc[df['prima']>=732,'cliente'].to_list())\n"
   ]
  },
  {
   "cell_type": "code",
   "execution_count": 96,
   "id": "8d55742b",
   "metadata": {},
   "outputs": [],
   "source": [
    "df['Multiplier']=[x/15941 if x>15941 else 1 for x in df['coste_siniestro']]\n",
    "df.loc[df['coste_siniestro']>15941,'coste_siniestro']=15941\n",
    "df['coste_siniestro']=df['coste_siniestro'].fillna(0)"
   ]
  },
  {
   "cell_type": "code",
   "execution_count": 97,
   "id": "cfc560c5",
   "metadata": {},
   "outputs": [],
   "source": [
    "clients_ids = list(set(clients_ids))"
   ]
  },
  {
   "cell_type": "code",
   "execution_count": 98,
   "id": "cd310b59",
   "metadata": {},
   "outputs": [],
   "source": [
    "df = df[df['edad']<108]\n",
    "df = df[df['edad']>21]\n",
    "df = df[df['valor_continente']<390000]\n",
    "df = df[df['valor_contenido']<100000]"
   ]
  },
  {
   "cell_type": "code",
   "execution_count": 99,
   "id": "4d229363",
   "metadata": {},
   "outputs": [],
   "source": [
    "def graph_hist_numeric(\n",
    "        df:pd.DataFrame,\n",
    "        num_cols:list\n",
    "):\n",
    "    app = Dash(__name__)\n",
    "\n",
    "    app.layout = html.Div([\n",
    "        html.H4('Distribution of Numeric Columns'),\n",
    "        dcc.Dropdown(id='dropdown',options=num_cols,value='coste_siniestro'),\n",
    "        dcc.Graph(id='histogram')\n",
    "    ])\n",
    "\n",
    "    @app.callback(Output('histogram','figure'),\n",
    "                Input('dropdown','value'))\n",
    "\n",
    "    def histograma(col):\n",
    "        fig = px.histogram(df.loc[df['coste_siniestro']>0],x=col,marginal='box')\n",
    "        return fig\n",
    "\n",
    "    app.run(debug=True,port=1122)\n"
   ]
  },
  {
   "cell_type": "code",
   "execution_count": 100,
   "id": "d3b5dd3a",
   "metadata": {},
   "outputs": [
    {
     "data": {
      "text/html": [
       "\n",
       "        <iframe\n",
       "            width=\"100%\"\n",
       "            height=\"650\"\n",
       "            src=\"http://127.0.0.1:1122/\"\n",
       "            frameborder=\"0\"\n",
       "            allowfullscreen\n",
       "            \n",
       "        ></iframe>\n",
       "        "
      ],
      "text/plain": [
       "<IPython.lib.display.IFrame at 0x294891fba70>"
      ]
     },
     "metadata": {},
     "output_type": "display_data"
    }
   ],
   "source": [
    "graph_hist_numeric(df,num_cols)"
   ]
  },
  {
   "cell_type": "markdown",
   "id": "a6831249",
   "metadata": {},
   "source": [
    "# EDA\n",
    "\n",
    "A deeper analysis onto the categorical and numerical variables is conducted.\n",
    "\n",
    "* Tabla comparativa para variable categórica y numérica por tramos, con los valores de Loss Ratio (Siniestralidad/Primas) y Prima Pura (Incurrido/Num Siniestros).\n",
    "* Correlograma numéricas y categóricas (V Cramer)\n",
    "\n",
    "Hay que sacar los gastos de gestión y adquisición por oficina y luego aplicarlo a la bbdd total."
   ]
  },
  {
   "cell_type": "markdown",
   "id": "b99f086d",
   "metadata": {},
   "source": [
    "## Categorical variables\n",
    "\n",
    "Here we only show some plots and tables for categorical data but the analysis should be performed during the exploratory analysis to the entire dataset. The analysis consists on:\n",
    "\n",
    "* Distribution plot of the target variable against the categories of a variable.\n",
    "* Creation of an economic situation summary table with calculated measure such as frequency or loss ratio, to look for differential categories inside categorical variables.\n",
    "* Plotting target variable and loss ratio for categorical data."
   ]
  },
  {
   "cell_type": "code",
   "execution_count": 101,
   "id": "de6e5dfc",
   "metadata": {},
   "outputs": [
    {
     "data": {
      "image/png": "[encoded data removed]",
      "text/plain": [
       "<Figure size 1500x1000 with 1 Axes>"
      ]
     },
     "metadata": {},
     "output_type": "display_data"
    }
   ],
   "source": [
    "# Generate a violintplot for each category in y axis and distribution of numeric variable in x axis.\n",
    "plt.figure(figsize=(15,10))\n",
    "sns.violinplot(data=df.loc[df['coste_siniestro']>0], x=\"coste_siniestro\", y=\"localizacion\", split=True, inner=\"quart\",color='#cc0033')\n",
    "plt.show()"
   ]
  },
  {
   "cell_type": "code",
   "execution_count": 102,
   "id": "be043f14",
   "metadata": {},
   "outputs": [
    {
     "data": {
      "application/vnd.microsoft.datawrangler.viewer.v0+json": {
       "columns": [
        {
         "name": "localizacion",
         "rawType": "object",
         "type": "string"
        },
        {
         "name": "NSin",
         "rawType": "float64",
         "type": "float"
        },
        {
         "name": "coste_siniestro",
         "rawType": "float64",
         "type": "float"
        },
        {
         "name": "exposicion",
         "rawType": "int64",
         "type": "integer"
        },
        {
         "name": "prima",
         "rawType": "float64",
         "type": "float"
        },
        {
         "name": "severidad",
         "rawType": "float64",
         "type": "float"
        },
        {
         "name": "Frecuencia",
         "rawType": "float64",
         "type": "float"
        },
        {
         "name": "PrimaPura",
         "rawType": "float64",
         "type": "float"
        },
        {
         "name": "RC",
         "rawType": "float64",
         "type": "float"
        }
       ],
       "ref": "9cd75c4f-b7a7-4e40-aae7-605906e46f62",
       "rows": [
        [
         "Andalucia",
         "100.0",
         "477585.52",
         "3600",
         "774085.26",
         "4775.8552",
         "0.027777777777777776",
         "132.66264444444445",
         "0.6169675934663839"
        ],
        [
         "Aragon",
         "351.0",
         "1631465.05",
         "4380",
         "946176.16",
         "4648.048575498576",
         "0.08013698630136987",
         "372.48060502283107",
         "1.7242719896895309"
        ],
        [
         "Asturias",
         "433.0",
         "1981689.35",
         "8316",
         "1816338.39",
         "4576.649769053118",
         "0.05206830206830207",
         "238.29838263588266",
         "1.0910353273984372"
        ],
        [
         "Canarias",
         "127.0",
         "558862.22",
         "4068",
         "880790.42",
         "4400.489921259842",
         "0.03121927236971485",
         "137.38009341199606",
         "0.6345007930490433"
        ],
        [
         "Cantabria",
         "301.0",
         "1384885.55",
         "8382",
         "1810489.94",
         "4600.948671096346",
         "0.03591028394178",
         "165.22137318062516",
         "0.7649230848529321"
        ],
        [
         "Castilla y León",
         "80.0",
         "394464.34",
         "8300",
         "1782087.23",
         "4930.80425",
         "0.00963855421686747",
         "47.52582409638555",
         "0.22134962495634966"
        ],
        [
         "Cataluña",
         "150.0",
         "595793.61",
         "4633",
         "997008.75",
         "3971.9574",
         "0.03237642995898986",
         "128.59780056119146",
         "0.5975811245387767"
        ],
        [
         "Islas Baleares",
         "171.0",
         "774208.73",
         "5893",
         "1271135.24",
         "4527.536432748538",
         "0.029017478364160867",
         "131.37769048023077",
         "0.6090687329225488"
        ],
        [
         "Madrid",
         "90.0",
         "388309.95",
         "8249",
         "1777360.69",
         "4314.555",
         "0.010910413383440417",
         "47.07357861558977",
         "0.2184756038460601"
        ],
        [
         "País Vasco",
         "79.0",
         "303122.33",
         "2712",
         "584156.27",
         "3836.991518987342",
         "0.029129793510324485",
         "111.77077064896756",
         "0.5189062337720007"
        ]
       ],
       "shape": {
        "columns": 8,
        "rows": 10
       }
      },
      "text/html": [
       "<div>\n",
       "<style scoped>\n",
       "    .dataframe tbody tr th:only-of-type {\n",
       "        vertical-align: middle;\n",
       "    }\n",
       "\n",
       "    .dataframe tbody tr th {\n",
       "        vertical-align: top;\n",
       "    }\n",
       "\n",
       "    .dataframe thead th {\n",
       "        text-align: right;\n",
       "    }\n",
       "</style>\n",
       "<table border=\"1\" class=\"dataframe\">\n",
       "  <thead>\n",
       "    <tr style=\"text-align: right;\">\n",
       "      <th></th>\n",
       "      <th>NSin</th>\n",
       "      <th>coste_siniestro</th>\n",
       "      <th>exposicion</th>\n",
       "      <th>prima</th>\n",
       "      <th>severidad</th>\n",
       "      <th>Frecuencia</th>\n",
       "      <th>PrimaPura</th>\n",
       "      <th>RC</th>\n",
       "    </tr>\n",
       "    <tr>\n",
       "      <th>localizacion</th>\n",
       "      <th></th>\n",
       "      <th></th>\n",
       "      <th></th>\n",
       "      <th></th>\n",
       "      <th></th>\n",
       "      <th></th>\n",
       "      <th></th>\n",
       "      <th></th>\n",
       "    </tr>\n",
       "  </thead>\n",
       "  <tbody>\n",
       "    <tr>\n",
       "      <th>Andalucia</th>\n",
       "      <td>100.0</td>\n",
       "      <td>477585.52</td>\n",
       "      <td>3600</td>\n",
       "      <td>774085.26</td>\n",
       "      <td>4775.855200</td>\n",
       "      <td>0.027778</td>\n",
       "      <td>132.662644</td>\n",
       "      <td>0.616968</td>\n",
       "    </tr>\n",
       "    <tr>\n",
       "      <th>Aragon</th>\n",
       "      <td>351.0</td>\n",
       "      <td>1631465.05</td>\n",
       "      <td>4380</td>\n",
       "      <td>946176.16</td>\n",
       "      <td>4648.048575</td>\n",
       "      <td>0.080137</td>\n",
       "      <td>372.480605</td>\n",
       "      <td>1.724272</td>\n",
       "    </tr>\n",
       "    <tr>\n",
       "      <th>Asturias</th>\n",
       "      <td>433.0</td>\n",
       "      <td>1981689.35</td>\n",
       "      <td>8316</td>\n",
       "      <td>1816338.39</td>\n",
       "      <td>4576.649769</td>\n",
       "      <td>0.052068</td>\n",
       "      <td>238.298383</td>\n",
       "      <td>1.091035</td>\n",
       "    </tr>\n",
       "    <tr>\n",
       "      <th>Canarias</th>\n",
       "      <td>127.0</td>\n",
       "      <td>558862.22</td>\n",
       "      <td>4068</td>\n",
       "      <td>880790.42</td>\n",
       "      <td>4400.489921</td>\n",
       "      <td>0.031219</td>\n",
       "      <td>137.380093</td>\n",
       "      <td>0.634501</td>\n",
       "    </tr>\n",
       "    <tr>\n",
       "      <th>Cantabria</th>\n",
       "      <td>301.0</td>\n",
       "      <td>1384885.55</td>\n",
       "      <td>8382</td>\n",
       "      <td>1810489.94</td>\n",
       "      <td>4600.948671</td>\n",
       "      <td>0.035910</td>\n",
       "      <td>165.221373</td>\n",
       "      <td>0.764923</td>\n",
       "    </tr>\n",
       "    <tr>\n",
       "      <th>Castilla y León</th>\n",
       "      <td>80.0</td>\n",
       "      <td>394464.34</td>\n",
       "      <td>8300</td>\n",
       "      <td>1782087.23</td>\n",
       "      <td>4930.804250</td>\n",
       "      <td>0.009639</td>\n",
       "      <td>47.525824</td>\n",
       "      <td>0.221350</td>\n",
       "    </tr>\n",
       "    <tr>\n",
       "      <th>Cataluña</th>\n",
       "      <td>150.0</td>\n",
       "      <td>595793.61</td>\n",
       "      <td>4633</td>\n",
       "      <td>997008.75</td>\n",
       "      <td>3971.957400</td>\n",
       "      <td>0.032376</td>\n",
       "      <td>128.597801</td>\n",
       "      <td>0.597581</td>\n",
       "    </tr>\n",
       "    <tr>\n",
       "      <th>Islas Baleares</th>\n",
       "      <td>171.0</td>\n",
       "      <td>774208.73</td>\n",
       "      <td>5893</td>\n",
       "      <td>1271135.24</td>\n",
       "      <td>4527.536433</td>\n",
       "      <td>0.029017</td>\n",
       "      <td>131.377690</td>\n",
       "      <td>0.609069</td>\n",
       "    </tr>\n",
       "    <tr>\n",
       "      <th>Madrid</th>\n",
       "      <td>90.0</td>\n",
       "      <td>388309.95</td>\n",
       "      <td>8249</td>\n",
       "      <td>1777360.69</td>\n",
       "      <td>4314.555000</td>\n",
       "      <td>0.010910</td>\n",
       "      <td>47.073579</td>\n",
       "      <td>0.218476</td>\n",
       "    </tr>\n",
       "    <tr>\n",
       "      <th>País Vasco</th>\n",
       "      <td>79.0</td>\n",
       "      <td>303122.33</td>\n",
       "      <td>2712</td>\n",
       "      <td>584156.27</td>\n",
       "      <td>3836.991519</td>\n",
       "      <td>0.029130</td>\n",
       "      <td>111.770771</td>\n",
       "      <td>0.518906</td>\n",
       "    </tr>\n",
       "  </tbody>\n",
       "</table>\n",
       "</div>"
      ],
      "text/plain": [
       "                  NSin  coste_siniestro  exposicion       prima    severidad  \\\n",
       "localizacion                                                                   \n",
       "Andalucia        100.0        477585.52        3600   774085.26  4775.855200   \n",
       "Aragon           351.0       1631465.05        4380   946176.16  4648.048575   \n",
       "Asturias         433.0       1981689.35        8316  1816338.39  4576.649769   \n",
       "Canarias         127.0        558862.22        4068   880790.42  4400.489921   \n",
       "Cantabria        301.0       1384885.55        8382  1810489.94  4600.948671   \n",
       "Castilla y León   80.0        394464.34        8300  1782087.23  4930.804250   \n",
       "Cataluña         150.0        595793.61        4633   997008.75  3971.957400   \n",
       "Islas Baleares   171.0        774208.73        5893  1271135.24  4527.536433   \n",
       "Madrid            90.0        388309.95        8249  1777360.69  4314.555000   \n",
       "País Vasco        79.0        303122.33        2712   584156.27  3836.991519   \n",
       "\n",
       "                 Frecuencia   PrimaPura        RC  \n",
       "localizacion                                       \n",
       "Andalucia          0.027778  132.662644  0.616968  \n",
       "Aragon             0.080137  372.480605  1.724272  \n",
       "Asturias           0.052068  238.298383  1.091035  \n",
       "Canarias           0.031219  137.380093  0.634501  \n",
       "Cantabria          0.035910  165.221373  0.764923  \n",
       "Castilla y León    0.009639   47.525824  0.221350  \n",
       "Cataluña           0.032376  128.597801  0.597581  \n",
       "Islas Baleares     0.029017  131.377690  0.609069  \n",
       "Madrid             0.010910   47.073579  0.218476  \n",
       "País Vasco         0.029130  111.770771  0.518906  "
      ]
     },
     "execution_count": 102,
     "metadata": {},
     "output_type": "execute_result"
    }
   ],
   "source": [
    "tabla_siniestralidad_cat(df,['coste_siniestro','prima','NSin','exposicion'],'localizacion')"
   ]
  },
  {
   "cell_type": "code",
   "execution_count": 103,
   "id": "e345a33e",
   "metadata": {},
   "outputs": [
    {
     "data": {
      "application/vnd.plotly.v1+json": {
       "config": {
        "plotlyServerURL": "https://plot.ly"
       },
       "data": [
        {
         "name": "Pure Premium",
         "type": "bar",
         "x": [
          "ANUAL",
          "MENOR",
          "SEMESTRAL"
         ],
         "y": {
          "bdata": "xB6r3Wt1YUC9TSzMN21qQPyy4Q/7mWpA",
          "dtype": "f8"
         }
        },
        {
         "name": "Loss Ratio",
         "type": "scatter",
         "x": [
          "ANUAL",
          "MENOR",
          "SEMESTRAL"
         ],
         "xaxis": "x",
         "y": {
          "bdata": "nT1D8kAA5T/mOpdFO9nvP5FyyD3tdOk/",
          "dtype": "f8"
         },
         "yaxis": "y2"
        }
       ],
       "layout": {
        "shapes": [
         {
          "line": {
           "color": "red",
           "dash": "dash",
           "width": 3
          },
          "type": "line",
          "x0": 0,
          "x1": 1,
          "xref": "x domain",
          "y0": 1,
          "y1": 1,
          "yref": "y2"
         }
        ],
        "template": {
         "data": {
          "bar": [
           {
            "error_x": {
             "color": "#2a3f5f"
            },
            "error_y": {
             "color": "#2a3f5f"
            },
            "marker": {
             "line": {
              "color": "#E5ECF6",
              "width": 0.5
             },
             "pattern": {
              "fillmode": "overlay",
              "size": 10,
              "solidity": 0.2
             }
            },
            "type": "bar"
           }
          ],
          "barpolar": [
           {
            "marker": {
             "line": {
              "color": "#E5ECF6",
              "width": 0.5
             },
             "pattern": {
              "fillmode": "overlay",
              "size": 10,
              "solidity": 0.2
             }
            },
            "type": "barpolar"
           }
          ],
          "carpet": [
           {
            "aaxis": {
             "endlinecolor": "#2a3f5f",
             "gridcolor": "white",
             "linecolor": "white",
             "minorgridcolor": "white",
             "startlinecolor": "#2a3f5f"
            },
            "baxis": {
             "endlinecolor": "#2a3f5f",
             "gridcolor": "white",
             "linecolor": "white",
             "minorgridcolor": "white",
             "startlinecolor": "#2a3f5f"
            },
            "type": "carpet"
           }
          ],
          "choropleth": [
           {
            "colorbar": {
             "outlinewidth": 0,
             "ticks": ""
            },
            "type": "choropleth"
           }
          ],
          "contour": [
           {
            "colorbar": {
             "outlinewidth": 0,
             "ticks": ""
            },
            "colorscale": [
             [
              0,
              "#0d0887"
             ],
             [
              0.1111111111111111,
              "#46039f"
             ],
             [
              0.2222222222222222,
              "#7201a8"
             ],
             [
              0.3333333333333333,
              "#9c179e"
             ],
             [
              0.4444444444444444,
              "#bd3786"
             ],
             [
              0.5555555555555556,
              "#d8576b"
             ],
             [
              0.6666666666666666,
              "#ed7953"
             ],
             [
              0.7777777777777778,
              "#fb9f3a"
             ],
             [
              0.8888888888888888,
              "#fdca26"
             ],
             [
              1,
              "#f0f921"
             ]
            ],
            "type": "contour"
           }
          ],
          "contourcarpet": [
           {
            "colorbar": {
             "outlinewidth": 0,
             "ticks": ""
            },
            "type": "contourcarpet"
           }
          ],
          "heatmap": [
           {
            "colorbar": {
             "outlinewidth": 0,
             "ticks": ""
            },
            "colorscale": [
             [
              0,
              "#0d0887"
             ],
             [
              0.1111111111111111,
              "#46039f"
             ],
             [
              0.2222222222222222,
              "#7201a8"
             ],
             [
              0.3333333333333333,
              "#9c179e"
             ],
             [
              0.4444444444444444,
              "#bd3786"
             ],
             [
              0.5555555555555556,
              "#d8576b"
             ],
             [
              0.6666666666666666,
              "#ed7953"
             ],
             [
              0.7777777777777778,
              "#fb9f3a"
             ],
             [
              0.8888888888888888,
              "#fdca26"
             ],
             [
              1,
              "#f0f921"
             ]
            ],
            "type": "heatmap"
           }
          ],
          "histogram": [
           {
            "marker": {
             "pattern": {
              "fillmode": "overlay",
              "size": 10,
              "solidity": 0.2
             }
            },
            "type": "histogram"
           }
          ],
          "histogram2d": [
           {
            "colorbar": {
             "outlinewidth": 0,
             "ticks": ""
            },
            "colorscale": [
             [
              0,
              "#0d0887"
             ],
             [
              0.1111111111111111,
              "#46039f"
             ],
             [
              0.2222222222222222,
              "#7201a8"
             ],
             [
              0.3333333333333333,
              "#9c179e"
             ],
             [
              0.4444444444444444,
              "#bd3786"
             ],
             [
              0.5555555555555556,
              "#d8576b"
             ],
             [
              0.6666666666666666,
              "#ed7953"
             ],
             [
              0.7777777777777778,
              "#fb9f3a"
             ],
             [
              0.8888888888888888,
              "#fdca26"
             ],
             [
              1,
              "#f0f921"
             ]
            ],
            "type": "histogram2d"
           }
          ],
          "histogram2dcontour": [
           {
            "colorbar": {
             "outlinewidth": 0,
             "ticks": ""
            },
            "colorscale": [
             [
              0,
              "#0d0887"
             ],
             [
              0.1111111111111111,
              "#46039f"
             ],
             [
              0.2222222222222222,
              "#7201a8"
             ],
             [
              0.3333333333333333,
              "#9c179e"
             ],
             [
              0.4444444444444444,
              "#bd3786"
             ],
             [
              0.5555555555555556,
              "#d8576b"
             ],
             [
              0.6666666666666666,
              "#ed7953"
             ],
             [
              0.7777777777777778,
              "#fb9f3a"
             ],
             [
              0.8888888888888888,
              "#fdca26"
             ],
             [
              1,
              "#f0f921"
             ]
            ],
            "type": "histogram2dcontour"
           }
          ],
          "mesh3d": [
           {
            "colorbar": {
             "outlinewidth": 0,
             "ticks": ""
            },
            "type": "mesh3d"
           }
          ],
          "parcoords": [
           {
            "line": {
             "colorbar": {
              "outlinewidth": 0,
              "ticks": ""
             }
            },
            "type": "parcoords"
           }
          ],
          "pie": [
           {
            "automargin": true,
            "type": "pie"
           }
          ],
          "scatter": [
           {
            "fillpattern": {
             "fillmode": "overlay",
             "size": 10,
             "solidity": 0.2
            },
            "type": "scatter"
           }
          ],
          "scatter3d": [
           {
            "line": {
             "colorbar": {
              "outlinewidth": 0,
              "ticks": ""
             }
            },
            "marker": {
             "colorbar": {
              "outlinewidth": 0,
              "ticks": ""
             }
            },
            "type": "scatter3d"
           }
          ],
          "scattercarpet": [
           {
            "marker": {
             "colorbar": {
              "outlinewidth": 0,
              "ticks": ""
             }
            },
            "type": "scattercarpet"
           }
          ],
          "scattergeo": [
           {
            "marker": {
             "colorbar": {
              "outlinewidth": 0,
              "ticks": ""
             }
            },
            "type": "scattergeo"
           }
          ],
          "scattergl": [
           {
            "marker": {
             "colorbar": {
              "outlinewidth": 0,
              "ticks": ""
             }
            },
            "type": "scattergl"
           }
          ],
          "scattermap": [
           {
            "marker": {
             "colorbar": {
              "outlinewidth": 0,
              "ticks": ""
             }
            },
            "type": "scattermap"
           }
          ],
          "scattermapbox": [
           {
            "marker": {
             "colorbar": {
              "outlinewidth": 0,
              "ticks": ""
             }
            },
            "type": "scattermapbox"
           }
          ],
          "scatterpolar": [
           {
            "marker": {
             "colorbar": {
              "outlinewidth": 0,
              "ticks": ""
             }
            },
            "type": "scatterpolar"
           }
          ],
          "scatterpolargl": [
           {
            "marker": {
             "colorbar": {
              "outlinewidth": 0,
              "ticks": ""
             }
            },
            "type": "scatterpolargl"
           }
          ],
          "scatterternary": [
           {
            "marker": {
             "colorbar": {
              "outlinewidth": 0,
              "ticks": ""
             }
            },
            "type": "scatterternary"
           }
          ],
          "surface": [
           {
            "colorbar": {
             "outlinewidth": 0,
             "ticks": ""
            },
            "colorscale": [
             [
              0,
              "#0d0887"
             ],
             [
              0.1111111111111111,
              "#46039f"
             ],
             [
              0.2222222222222222,
              "#7201a8"
             ],
             [
              0.3333333333333333,
              "#9c179e"
             ],
             [
              0.4444444444444444,
              "#bd3786"
             ],
             [
              0.5555555555555556,
              "#d8576b"
             ],
             [
              0.6666666666666666,
              "#ed7953"
             ],
             [
              0.7777777777777778,
              "#fb9f3a"
             ],
             [
              0.8888888888888888,
              "#fdca26"
             ],
             [
              1,
              "#f0f921"
             ]
            ],
            "type": "surface"
           }
          ],
          "table": [
           {
            "cells": {
             "fill": {
              "color": "#EBF0F8"
             },
             "line": {
              "color": "white"
             }
            },
            "header": {
             "fill": {
              "color": "#C8D4E3"
             },
             "line": {
              "color": "white"
             }
            },
            "type": "table"
           }
          ]
         },
         "layout": {
          "annotationdefaults": {
           "arrowcolor": "#2a3f5f",
           "arrowhead": 0,
           "arrowwidth": 1
          },
          "autotypenumbers": "strict",
          "coloraxis": {
           "colorbar": {
            "outlinewidth": 0,
            "ticks": ""
           }
          },
          "colorscale": {
           "diverging": [
            [
             0,
             "#8e0152"
            ],
            [
             0.1,
             "#c51b7d"
            ],
            [
             0.2,
             "#de77ae"
            ],
            [
             0.3,
             "#f1b6da"
            ],
            [
             0.4,
             "#fde0ef"
            ],
            [
             0.5,
             "#f7f7f7"
            ],
            [
             0.6,
             "#e6f5d0"
            ],
            [
             0.7,
             "#b8e186"
            ],
            [
             0.8,
             "#7fbc41"
            ],
            [
             0.9,
             "#4d9221"
            ],
            [
             1,
             "#276419"
            ]
           ],
           "sequential": [
            [
             0,
             "#0d0887"
            ],
            [
             0.1111111111111111,
             "#46039f"
            ],
            [
             0.2222222222222222,
             "#7201a8"
            ],
            [
             0.3333333333333333,
             "#9c179e"
            ],
            [
             0.4444444444444444,
             "#bd3786"
            ],
            [
             0.5555555555555556,
             "#d8576b"
            ],
            [
             0.6666666666666666,
             "#ed7953"
            ],
            [
             0.7777777777777778,
             "#fb9f3a"
            ],
            [
             0.8888888888888888,
             "#fdca26"
            ],
            [
             1,
             "#f0f921"
            ]
           ],
           "sequentialminus": [
            [
             0,
             "#0d0887"
            ],
            [
             0.1111111111111111,
             "#46039f"
            ],
            [
             0.2222222222222222,
             "#7201a8"
            ],
            [
             0.3333333333333333,
             "#9c179e"
            ],
            [
             0.4444444444444444,
             "#bd3786"
            ],
            [
             0.5555555555555556,
             "#d8576b"
            ],
            [
             0.6666666666666666,
             "#ed7953"
            ],
            [
             0.7777777777777778,
             "#fb9f3a"
            ],
            [
             0.8888888888888888,
             "#fdca26"
            ],
            [
             1,
             "#f0f921"
            ]
           ]
          },
          "colorway": [
           "#636efa",
           "#EF553B",
           "#00cc96",
           "#ab63fa",
           "#FFA15A",
           "#19d3f3",
           "#FF6692",
           "#B6E880",
           "#FF97FF",
           "#FECB52"
          ],
          "font": {
           "color": "#2a3f5f"
          },
          "geo": {
           "bgcolor": "white",
           "lakecolor": "white",
           "landcolor": "#E5ECF6",
           "showlakes": true,
           "showland": true,
           "subunitcolor": "white"
          },
          "hoverlabel": {
           "align": "left"
          },
          "hovermode": "closest",
          "mapbox": {
           "style": "light"
          },
          "paper_bgcolor": "white",
          "plot_bgcolor": "#E5ECF6",
          "polar": {
           "angularaxis": {
            "gridcolor": "white",
            "linecolor": "white",
            "ticks": ""
           },
           "bgcolor": "#E5ECF6",
           "radialaxis": {
            "gridcolor": "white",
            "linecolor": "white",
            "ticks": ""
           }
          },
          "scene": {
           "xaxis": {
            "backgroundcolor": "#E5ECF6",
            "gridcolor": "white",
            "gridwidth": 2,
            "linecolor": "white",
            "showbackground": true,
            "ticks": "",
            "zerolinecolor": "white"
           },
           "yaxis": {
            "backgroundcolor": "#E5ECF6",
            "gridcolor": "white",
            "gridwidth": 2,
            "linecolor": "white",
            "showbackground": true,
            "ticks": "",
            "zerolinecolor": "white"
           },
           "zaxis": {
            "backgroundcolor": "#E5ECF6",
            "gridcolor": "white",
            "gridwidth": 2,
            "linecolor": "white",
            "showbackground": true,
            "ticks": "",
            "zerolinecolor": "white"
           }
          },
          "shapedefaults": {
           "line": {
            "color": "#2a3f5f"
           }
          },
          "ternary": {
           "aaxis": {
            "gridcolor": "white",
            "linecolor": "white",
            "ticks": ""
           },
           "baxis": {
            "gridcolor": "white",
            "linecolor": "white",
            "ticks": ""
           },
           "bgcolor": "#E5ECF6",
           "caxis": {
            "gridcolor": "white",
            "linecolor": "white",
            "ticks": ""
           }
          },
          "title": {
           "x": 0.05
          },
          "xaxis": {
           "automargin": true,
           "gridcolor": "white",
           "linecolor": "white",
           "ticks": "",
           "title": {
            "standoff": 15
           },
           "zerolinecolor": "white",
           "zerolinewidth": 2
          },
          "yaxis": {
           "automargin": true,
           "gridcolor": "white",
           "linecolor": "white",
           "ticks": "",
           "title": {
            "standoff": 15
           },
           "zerolinecolor": "white",
           "zerolinewidth": 2
          }
         }
        },
        "title": {
         "text": "Economic Situation Summary"
        },
        "xaxis": {
         "anchor": "y",
         "domain": [
          0,
          0.94
         ],
         "title": {
          "text": "FORMA_PAGO"
         }
        },
        "yaxis": {
         "anchor": "x",
         "domain": [
          0,
          1
         ],
         "title": {
          "text": "Mean <b>Premium</b>"
         }
        },
        "yaxis2": {
         "anchor": "x",
         "overlaying": "y",
         "side": "right",
         "title": {
          "text": "<b>Loss Ratio</b> value"
         }
        }
       }
      }
     },
     "metadata": {},
     "output_type": "display_data"
    }
   ],
   "source": [
    "lossratio_graph(df,category='forma_pago')"
   ]
  },
  {
   "cell_type": "code",
   "execution_count": 104,
   "id": "3360347b",
   "metadata": {},
   "outputs": [
    {
     "data": {
      "application/vnd.plotly.v1+json": {
       "config": {
        "plotlyServerURL": "https://plot.ly"
       },
       "data": [
        {
         "cells": {
          "align": "center",
          "fill": {
           "color": [
            [
             "white",
             "white",
             "white",
             "white",
             "white",
             "white",
             "white",
             "white",
             "white",
             "white"
            ],
            [
             "white",
             "white",
             "white",
             "white",
             "white",
             "white",
             "white",
             "white",
             "white",
             "white"
            ],
            [
             "white",
             "white",
             "white",
             "white",
             "white",
             "white",
             "white",
             "white",
             "white",
             "white"
            ],
            [
             "white",
             "white",
             "white",
             "white",
             "white",
             "white",
             "white",
             "white",
             "white",
             "white"
            ],
            [
             "white",
             "white",
             "white",
             "white",
             "white",
             "white",
             "white",
             "white",
             "white",
             "white"
            ],
            [
             "white",
             "white",
             "white",
             "white",
             "white",
             "white",
             "white",
             "white",
             "white",
             "white"
            ],
            [
             "white",
             "white",
             "white",
             "white",
             "white",
             "white",
             "white",
             "white",
             "white",
             "white"
            ],
            [
             "white",
             "white",
             "white",
             "white",
             "white",
             "white",
             "white",
             "white",
             "white",
             "white"
            ],
            [
             "green",
             "red",
             "red",
             "green",
             "orange",
             "green",
             "green",
             "green",
             "green",
             "green"
            ]
           ]
          },
          "values": [
           [
            "Andalucia",
            "Aragon",
            "Asturias",
            "Canarias",
            "Cantabria",
            "Castilla y León",
            "Cataluña",
            "Islas Baleares",
            "Madrid",
            "País Vasco"
           ],
           [
            "100.00",
            "351.00",
            "433.00",
            "127.00",
            "301.00",
            "80.00",
            "150.00",
            "171.00",
            "90.00",
            "79.00"
           ],
           [
            "477,585.52",
            "1,631,465.05",
            "1,981,689.35",
            "558,862.22",
            "1,384,885.55",
            "394,464.34",
            "595,793.61",
            "774,208.73",
            "388,309.95",
            "303,122.33"
           ],
           [
            "3,600.00",
            "4,380.00",
            "8,316.00",
            "4,068.00",
            "8,382.00",
            "8,300.00",
            "4,633.00",
            "5,893.00",
            "8,249.00",
            "2,712.00"
           ],
           [
            "774,085.26",
            "946,176.16",
            "1,816,338.39",
            "880,790.42",
            "1,810,489.94",
            "1,782,087.23",
            "997,008.75",
            "1,271,135.24",
            "1,777,360.69",
            "584,156.27"
           ],
           [
            "4,775.86",
            "4,648.05",
            "4,576.65",
            "4,400.49",
            "4,600.95",
            "4,930.80",
            "3,971.96",
            "4,527.54",
            "4,314.56",
            "3,836.99"
           ],
           [
            "0.03",
            "0.08",
            "0.05",
            "0.03",
            "0.04",
            "0.01",
            "0.03",
            "0.03",
            "0.01",
            "0.03"
           ],
           [
            "132.66",
            "372.48",
            "238.30",
            "137.38",
            "165.22",
            "47.53",
            "128.60",
            "131.38",
            "47.07",
            "111.77"
           ],
           [
            "0.62",
            "1.72",
            "1.09",
            "0.63",
            "0.76",
            "0.22",
            "0.60",
            "0.61",
            "0.22",
            "0.52"
           ]
          ]
         },
         "header": {
          "align": "center",
          "fill": {
           "color": "lightgrey"
          },
          "values": [
           "localizacion",
           "NSin",
           "coste_siniestro",
           "exposicion",
           "prima",
           "severidad",
           "Frecuencia",
           "PrimaPura",
           "RC"
          ]
         },
         "type": "table"
        }
       ],
       "layout": {
        "height": 400,
        "template": {
         "data": {
          "bar": [
           {
            "error_x": {
             "color": "#2a3f5f"
            },
            "error_y": {
             "color": "#2a3f5f"
            },
            "marker": {
             "line": {
              "color": "#E5ECF6",
              "width": 0.5
             },
             "pattern": {
              "fillmode": "overlay",
              "size": 10,
              "solidity": 0.2
             }
            },
            "type": "bar"
           }
          ],
          "barpolar": [
           {
            "marker": {
             "line": {
              "color": "#E5ECF6",
              "width": 0.5
             },
             "pattern": {
              "fillmode": "overlay",
              "size": 10,
              "solidity": 0.2
             }
            },
            "type": "barpolar"
           }
          ],
          "carpet": [
           {
            "aaxis": {
             "endlinecolor": "#2a3f5f",
             "gridcolor": "white",
             "linecolor": "white",
             "minorgridcolor": "white",
             "startlinecolor": "#2a3f5f"
            },
            "baxis": {
             "endlinecolor": "#2a3f5f",
             "gridcolor": "white",
             "linecolor": "white",
             "minorgridcolor": "white",
             "startlinecolor": "#2a3f5f"
            },
            "type": "carpet"
           }
          ],
          "choropleth": [
           {
            "colorbar": {
             "outlinewidth": 0,
             "ticks": ""
            },
            "type": "choropleth"
           }
          ],
          "contour": [
           {
            "colorbar": {
             "outlinewidth": 0,
             "ticks": ""
            },
            "colorscale": [
             [
              0,
              "#0d0887"
             ],
             [
              0.1111111111111111,
              "#46039f"
             ],
             [
              0.2222222222222222,
              "#7201a8"
             ],
             [
              0.3333333333333333,
              "#9c179e"
             ],
             [
              0.4444444444444444,
              "#bd3786"
             ],
             [
              0.5555555555555556,
              "#d8576b"
             ],
             [
              0.6666666666666666,
              "#ed7953"
             ],
             [
              0.7777777777777778,
              "#fb9f3a"
             ],
             [
              0.8888888888888888,
              "#fdca26"
             ],
             [
              1,
              "#f0f921"
             ]
            ],
            "type": "contour"
           }
          ],
          "contourcarpet": [
           {
            "colorbar": {
             "outlinewidth": 0,
             "ticks": ""
            },
            "type": "contourcarpet"
           }
          ],
          "heatmap": [
           {
            "colorbar": {
             "outlinewidth": 0,
             "ticks": ""
            },
            "colorscale": [
             [
              0,
              "#0d0887"
             ],
             [
              0.1111111111111111,
              "#46039f"
             ],
             [
              0.2222222222222222,
              "#7201a8"
             ],
             [
              0.3333333333333333,
              "#9c179e"
             ],
             [
              0.4444444444444444,
              "#bd3786"
             ],
             [
              0.5555555555555556,
              "#d8576b"
             ],
             [
              0.6666666666666666,
              "#ed7953"
             ],
             [
              0.7777777777777778,
              "#fb9f3a"
             ],
             [
              0.8888888888888888,
              "#fdca26"
             ],
             [
              1,
              "#f0f921"
             ]
            ],
            "type": "heatmap"
           }
          ],
          "histogram": [
           {
            "marker": {
             "pattern": {
              "fillmode": "overlay",
              "size": 10,
              "solidity": 0.2
             }
            },
            "type": "histogram"
           }
          ],
          "histogram2d": [
           {
            "colorbar": {
             "outlinewidth": 0,
             "ticks": ""
            },
            "colorscale": [
             [
              0,
              "#0d0887"
             ],
             [
              0.1111111111111111,
              "#46039f"
             ],
             [
              0.2222222222222222,
              "#7201a8"
             ],
             [
              0.3333333333333333,
              "#9c179e"
             ],
             [
              0.4444444444444444,
              "#bd3786"
             ],
             [
              0.5555555555555556,
              "#d8576b"
             ],
             [
              0.6666666666666666,
              "#ed7953"
             ],
             [
              0.7777777777777778,
              "#fb9f3a"
             ],
             [
              0.8888888888888888,
              "#fdca26"
             ],
             [
              1,
              "#f0f921"
             ]
            ],
            "type": "histogram2d"
           }
          ],
          "histogram2dcontour": [
           {
            "colorbar": {
             "outlinewidth": 0,
             "ticks": ""
            },
            "colorscale": [
             [
              0,
              "#0d0887"
             ],
             [
              0.1111111111111111,
              "#46039f"
             ],
             [
              0.2222222222222222,
              "#7201a8"
             ],
             [
              0.3333333333333333,
              "#9c179e"
             ],
             [
              0.4444444444444444,
              "#bd3786"
             ],
             [
              0.5555555555555556,
              "#d8576b"
             ],
             [
              0.6666666666666666,
              "#ed7953"
             ],
             [
              0.7777777777777778,
              "#fb9f3a"
             ],
             [
              0.8888888888888888,
              "#fdca26"
             ],
             [
              1,
              "#f0f921"
             ]
            ],
            "type": "histogram2dcontour"
           }
          ],
          "mesh3d": [
           {
            "colorbar": {
             "outlinewidth": 0,
             "ticks": ""
            },
            "type": "mesh3d"
           }
          ],
          "parcoords": [
           {
            "line": {
             "colorbar": {
              "outlinewidth": 0,
              "ticks": ""
             }
            },
            "type": "parcoords"
           }
          ],
          "pie": [
           {
            "automargin": true,
            "type": "pie"
           }
          ],
          "scatter": [
           {
            "fillpattern": {
             "fillmode": "overlay",
             "size": 10,
             "solidity": 0.2
            },
            "type": "scatter"
           }
          ],
          "scatter3d": [
           {
            "line": {
             "colorbar": {
              "outlinewidth": 0,
              "ticks": ""
             }
            },
            "marker": {
             "colorbar": {
              "outlinewidth": 0,
              "ticks": ""
             }
            },
            "type": "scatter3d"
           }
          ],
          "scattercarpet": [
           {
            "marker": {
             "colorbar": {
              "outlinewidth": 0,
              "ticks": ""
             }
            },
            "type": "scattercarpet"
           }
          ],
          "scattergeo": [
           {
            "marker": {
             "colorbar": {
              "outlinewidth": 0,
              "ticks": ""
             }
            },
            "type": "scattergeo"
           }
          ],
          "scattergl": [
           {
            "marker": {
             "colorbar": {
              "outlinewidth": 0,
              "ticks": ""
             }
            },
            "type": "scattergl"
           }
          ],
          "scattermap": [
           {
            "marker": {
             "colorbar": {
              "outlinewidth": 0,
              "ticks": ""
             }
            },
            "type": "scattermap"
           }
          ],
          "scattermapbox": [
           {
            "marker": {
             "colorbar": {
              "outlinewidth": 0,
              "ticks": ""
             }
            },
            "type": "scattermapbox"
           }
          ],
          "scatterpolar": [
           {
            "marker": {
             "colorbar": {
              "outlinewidth": 0,
              "ticks": ""
             }
            },
            "type": "scatterpolar"
           }
          ],
          "scatterpolargl": [
           {
            "marker": {
             "colorbar": {
              "outlinewidth": 0,
              "ticks": ""
             }
            },
            "type": "scatterpolargl"
           }
          ],
          "scatterternary": [
           {
            "marker": {
             "colorbar": {
              "outlinewidth": 0,
              "ticks": ""
             }
            },
            "type": "scatterternary"
           }
          ],
          "surface": [
           {
            "colorbar": {
             "outlinewidth": 0,
             "ticks": ""
            },
            "colorscale": [
             [
              0,
              "#0d0887"
             ],
             [
              0.1111111111111111,
              "#46039f"
             ],
             [
              0.2222222222222222,
              "#7201a8"
             ],
             [
              0.3333333333333333,
              "#9c179e"
             ],
             [
              0.4444444444444444,
              "#bd3786"
             ],
             [
              0.5555555555555556,
              "#d8576b"
             ],
             [
              0.6666666666666666,
              "#ed7953"
             ],
             [
              0.7777777777777778,
              "#fb9f3a"
             ],
             [
              0.8888888888888888,
              "#fdca26"
             ],
             [
              1,
              "#f0f921"
             ]
            ],
            "type": "surface"
           }
          ],
          "table": [
           {
            "cells": {
             "fill": {
              "color": "#EBF0F8"
             },
             "line": {
              "color": "white"
             }
            },
            "header": {
             "fill": {
              "color": "#C8D4E3"
             },
             "line": {
              "color": "white"
             }
            },
            "type": "table"
           }
          ]
         },
         "layout": {
          "annotationdefaults": {
           "arrowcolor": "#2a3f5f",
           "arrowhead": 0,
           "arrowwidth": 1
          },
          "autotypenumbers": "strict",
          "coloraxis": {
           "colorbar": {
            "outlinewidth": 0,
            "ticks": ""
           }
          },
          "colorscale": {
           "diverging": [
            [
             0,
             "#8e0152"
            ],
            [
             0.1,
             "#c51b7d"
            ],
            [
             0.2,
             "#de77ae"
            ],
            [
             0.3,
             "#f1b6da"
            ],
            [
             0.4,
             "#fde0ef"
            ],
            [
             0.5,
             "#f7f7f7"
            ],
            [
             0.6,
             "#e6f5d0"
            ],
            [
             0.7,
             "#b8e186"
            ],
            [
             0.8,
             "#7fbc41"
            ],
            [
             0.9,
             "#4d9221"
            ],
            [
             1,
             "#276419"
            ]
           ],
           "sequential": [
            [
             0,
             "#0d0887"
            ],
            [
             0.1111111111111111,
             "#46039f"
            ],
            [
             0.2222222222222222,
             "#7201a8"
            ],
            [
             0.3333333333333333,
             "#9c179e"
            ],
            [
             0.4444444444444444,
             "#bd3786"
            ],
            [
             0.5555555555555556,
             "#d8576b"
            ],
            [
             0.6666666666666666,
             "#ed7953"
            ],
            [
             0.7777777777777778,
             "#fb9f3a"
            ],
            [
             0.8888888888888888,
             "#fdca26"
            ],
            [
             1,
             "#f0f921"
            ]
           ],
           "sequentialminus": [
            [
             0,
             "#0d0887"
            ],
            [
             0.1111111111111111,
             "#46039f"
            ],
            [
             0.2222222222222222,
             "#7201a8"
            ],
            [
             0.3333333333333333,
             "#9c179e"
            ],
            [
             0.4444444444444444,
             "#bd3786"
            ],
            [
             0.5555555555555556,
             "#d8576b"
            ],
            [
             0.6666666666666666,
             "#ed7953"
            ],
            [
             0.7777777777777778,
             "#fb9f3a"
            ],
            [
             0.8888888888888888,
             "#fdca26"
            ],
            [
             1,
             "#f0f921"
            ]
           ]
          },
          "colorway": [
           "#636efa",
           "#EF553B",
           "#00cc96",
           "#ab63fa",
           "#FFA15A",
           "#19d3f3",
           "#FF6692",
           "#B6E880",
           "#FF97FF",
           "#FECB52"
          ],
          "font": {
           "color": "#2a3f5f"
          },
          "geo": {
           "bgcolor": "white",
           "lakecolor": "white",
           "landcolor": "#E5ECF6",
           "showlakes": true,
           "showland": true,
           "subunitcolor": "white"
          },
          "hoverlabel": {
           "align": "left"
          },
          "hovermode": "closest",
          "mapbox": {
           "style": "light"
          },
          "paper_bgcolor": "white",
          "plot_bgcolor": "#E5ECF6",
          "polar": {
           "angularaxis": {
            "gridcolor": "white",
            "linecolor": "white",
            "ticks": ""
           },
           "bgcolor": "#E5ECF6",
           "radialaxis": {
            "gridcolor": "white",
            "linecolor": "white",
            "ticks": ""
           }
          },
          "scene": {
           "xaxis": {
            "backgroundcolor": "#E5ECF6",
            "gridcolor": "white",
            "gridwidth": 2,
            "linecolor": "white",
            "showbackground": true,
            "ticks": "",
            "zerolinecolor": "white"
           },
           "yaxis": {
            "backgroundcolor": "#E5ECF6",
            "gridcolor": "white",
            "gridwidth": 2,
            "linecolor": "white",
            "showbackground": true,
            "ticks": "",
            "zerolinecolor": "white"
           },
           "zaxis": {
            "backgroundcolor": "#E5ECF6",
            "gridcolor": "white",
            "gridwidth": 2,
            "linecolor": "white",
            "showbackground": true,
            "ticks": "",
            "zerolinecolor": "white"
           }
          },
          "shapedefaults": {
           "line": {
            "color": "#2a3f5f"
           }
          },
          "ternary": {
           "aaxis": {
            "gridcolor": "white",
            "linecolor": "white",
            "ticks": ""
           },
           "baxis": {
            "gridcolor": "white",
            "linecolor": "white",
            "ticks": ""
           },
           "bgcolor": "#E5ECF6",
           "caxis": {
            "gridcolor": "white",
            "linecolor": "white",
            "ticks": ""
           }
          },
          "title": {
           "x": 0.05
          },
          "xaxis": {
           "automargin": true,
           "gridcolor": "white",
           "linecolor": "white",
           "ticks": "",
           "title": {
            "standoff": 15
           },
           "zerolinecolor": "white",
           "zerolinewidth": 2
          },
          "yaxis": {
           "automargin": true,
           "gridcolor": "white",
           "linecolor": "white",
           "ticks": "",
           "title": {
            "standoff": 15
           },
           "zerolinecolor": "white",
           "zerolinewidth": 2
          }
         }
        },
        "title": {
         "text": "Economic Situation Summary"
        },
        "width": 1000
       }
      }
     },
     "metadata": {},
     "output_type": "display_data"
    }
   ],
   "source": [
    "accident_summary(df,'localizacion')"
   ]
  },
  {
   "cell_type": "markdown",
   "id": "4ec995e4",
   "metadata": {},
   "source": [
    "## Numerical variables\n",
    "\n",
    "For numeric variables the attention will be paid on:\n",
    "\n",
    "* Correlations. With the help of a correlogram, one can hover over the variables to look for the correlation between them.\n",
    "* A table as with categorical data to summarize KPI's ordering the data by ranges."
   ]
  },
  {
   "cell_type": "code",
   "execution_count": 105,
   "id": "1a2c82d1",
   "metadata": {},
   "outputs": [
    {
     "data": {
      "application/vnd.plotly.v1+json": {
       "config": {
        "plotlyServerURL": "https://plot.ly"
       },
       "data": [
        {
         "colorscale": [
          [
           0,
           "rgb(165,0,38)"
          ],
          [
           0.1,
           "rgb(215,48,39)"
          ],
          [
           0.2,
           "rgb(244,109,67)"
          ],
          [
           0.3,
           "rgb(253,174,97)"
          ],
          [
           0.4,
           "rgb(254,224,139)"
          ],
          [
           0.5,
           "rgb(255,255,191)"
          ],
          [
           0.6,
           "rgb(217,239,139)"
          ],
          [
           0.7,
           "rgb(166,217,106)"
          ],
          [
           0.8,
           "rgb(102,189,99)"
          ],
          [
           0.9,
           "rgb(26,152,80)"
          ],
          [
           1,
           "rgb(0,104,55)"
          ]
         ],
         "type": "heatmap",
         "x": [
          "valor_continente",
          "valor_contenido",
          "prima",
          "coste_siniestro",
          "edad",
          "PrimaPura",
          "NSin"
         ],
         "y": [
          "valor_continente",
          "valor_contenido",
          "prima",
          "coste_siniestro",
          "edad",
          "PrimaPura",
          "NSin"
         ],
         "z": [
          [
           1,
           0.45137606703563193,
           0.9683018374225689,
           0.11343253886669917,
           0.055366216220815764,
           0.1130968106981793,
           0.1458860553991211
          ],
          [
           0.45137606703563193,
           1,
           0.47908568360492304,
           0.03647229118821602,
           0.05878099635016193,
           0.03633858624759356,
           0.042988529292927416
          ],
          [
           0.9683018374225689,
           0.47908568360492304,
           1,
           0.09674055093448236,
           0.1069136537125611,
           0.09643789449705417,
           0.12336812076089179
          ],
          [
           0.11343253886669917,
           0.03647229118821602,
           0.09674055093448236,
           1,
           -0.21518037525415815,
           0.9990582906814697,
           0.765869862633968
          ],
          [
           0.055366216220815764,
           0.05878099635016193,
           0.1069136537125611,
           -0.21518037525415815,
           1,
           -0.2138670230103738,
           -0.27740712574535037
          ],
          [
           0.1130968106981793,
           0.03633858624759356,
           0.09643789449705417,
           0.9990582906814697,
           -0.2138670230103738,
           1,
           0.7620039817611061
          ],
          [
           0.1458860553991211,
           0.042988529292927416,
           0.12336812076089179,
           0.765869862633968,
           -0.27740712574535037,
           0.7620039817611061,
           1
          ]
         ],
         "zmax": 1,
         "zmin": -1
        }
       ],
       "layout": {
        "autosize": false,
        "height": 500,
        "margin": {
         "b": 100,
         "l": 100,
         "r": 100,
         "t": 100
        },
        "template": {
         "data": {
          "bar": [
           {
            "error_x": {
             "color": "#2a3f5f"
            },
            "error_y": {
             "color": "#2a3f5f"
            },
            "marker": {
             "line": {
              "color": "#E5ECF6",
              "width": 0.5
             },
             "pattern": {
              "fillmode": "overlay",
              "size": 10,
              "solidity": 0.2
             }
            },
            "type": "bar"
           }
          ],
          "barpolar": [
           {
            "marker": {
             "line": {
              "color": "#E5ECF6",
              "width": 0.5
             },
             "pattern": {
              "fillmode": "overlay",
              "size": 10,
              "solidity": 0.2
             }
            },
            "type": "barpolar"
           }
          ],
          "carpet": [
           {
            "aaxis": {
             "endlinecolor": "#2a3f5f",
             "gridcolor": "white",
             "linecolor": "white",
             "minorgridcolor": "white",
             "startlinecolor": "#2a3f5f"
            },
            "baxis": {
             "endlinecolor": "#2a3f5f",
             "gridcolor": "white",
             "linecolor": "white",
             "minorgridcolor": "white",
             "startlinecolor": "#2a3f5f"
            },
            "type": "carpet"
           }
          ],
          "choropleth": [
           {
            "colorbar": {
             "outlinewidth": 0,
             "ticks": ""
            },
            "type": "choropleth"
           }
          ],
          "contour": [
           {
            "colorbar": {
             "outlinewidth": 0,
             "ticks": ""
            },
            "colorscale": [
             [
              0,
              "#0d0887"
             ],
             [
              0.1111111111111111,
              "#46039f"
             ],
             [
              0.2222222222222222,
              "#7201a8"
             ],
             [
              0.3333333333333333,
              "#9c179e"
             ],
             [
              0.4444444444444444,
              "#bd3786"
             ],
             [
              0.5555555555555556,
              "#d8576b"
             ],
             [
              0.6666666666666666,
              "#ed7953"
             ],
             [
              0.7777777777777778,
              "#fb9f3a"
             ],
             [
              0.8888888888888888,
              "#fdca26"
             ],
             [
              1,
              "#f0f921"
             ]
            ],
            "type": "contour"
           }
          ],
          "contourcarpet": [
           {
            "colorbar": {
             "outlinewidth": 0,
             "ticks": ""
            },
            "type": "contourcarpet"
           }
          ],
          "heatmap": [
           {
            "colorbar": {
             "outlinewidth": 0,
             "ticks": ""
            },
            "colorscale": [
             [
              0,
              "#0d0887"
             ],
             [
              0.1111111111111111,
              "#46039f"
             ],
             [
              0.2222222222222222,
              "#7201a8"
             ],
             [
              0.3333333333333333,
              "#9c179e"
             ],
             [
              0.4444444444444444,
              "#bd3786"
             ],
             [
              0.5555555555555556,
              "#d8576b"
             ],
             [
              0.6666666666666666,
              "#ed7953"
             ],
             [
              0.7777777777777778,
              "#fb9f3a"
             ],
             [
              0.8888888888888888,
              "#fdca26"
             ],
             [
              1,
              "#f0f921"
             ]
            ],
            "type": "heatmap"
           }
          ],
          "histogram": [
           {
            "marker": {
             "pattern": {
              "fillmode": "overlay",
              "size": 10,
              "solidity": 0.2
             }
            },
            "type": "histogram"
           }
          ],
          "histogram2d": [
           {
            "colorbar": {
             "outlinewidth": 0,
             "ticks": ""
            },
            "colorscale": [
             [
              0,
              "#0d0887"
             ],
             [
              0.1111111111111111,
              "#46039f"
             ],
             [
              0.2222222222222222,
              "#7201a8"
             ],
             [
              0.3333333333333333,
              "#9c179e"
             ],
             [
              0.4444444444444444,
              "#bd3786"
             ],
             [
              0.5555555555555556,
              "#d8576b"
             ],
             [
              0.6666666666666666,
              "#ed7953"
             ],
             [
              0.7777777777777778,
              "#fb9f3a"
             ],
             [
              0.8888888888888888,
              "#fdca26"
             ],
             [
              1,
              "#f0f921"
             ]
            ],
            "type": "histogram2d"
           }
          ],
          "histogram2dcontour": [
           {
            "colorbar": {
             "outlinewidth": 0,
             "ticks": ""
            },
            "colorscale": [
             [
              0,
              "#0d0887"
             ],
             [
              0.1111111111111111,
              "#46039f"
             ],
             [
              0.2222222222222222,
              "#7201a8"
             ],
             [
              0.3333333333333333,
              "#9c179e"
             ],
             [
              0.4444444444444444,
              "#bd3786"
             ],
             [
              0.5555555555555556,
              "#d8576b"
             ],
             [
              0.6666666666666666,
              "#ed7953"
             ],
             [
              0.7777777777777778,
              "#fb9f3a"
             ],
             [
              0.8888888888888888,
              "#fdca26"
             ],
             [
              1,
              "#f0f921"
             ]
            ],
            "type": "histogram2dcontour"
           }
          ],
          "mesh3d": [
           {
            "colorbar": {
             "outlinewidth": 0,
             "ticks": ""
            },
            "type": "mesh3d"
           }
          ],
          "parcoords": [
           {
            "line": {
             "colorbar": {
              "outlinewidth": 0,
              "ticks": ""
             }
            },
            "type": "parcoords"
           }
          ],
          "pie": [
           {
            "automargin": true,
            "type": "pie"
           }
          ],
          "scatter": [
           {
            "fillpattern": {
             "fillmode": "overlay",
             "size": 10,
             "solidity": 0.2
            },
            "type": "scatter"
           }
          ],
          "scatter3d": [
           {
            "line": {
             "colorbar": {
              "outlinewidth": 0,
              "ticks": ""
             }
            },
            "marker": {
             "colorbar": {
              "outlinewidth": 0,
              "ticks": ""
             }
            },
            "type": "scatter3d"
           }
          ],
          "scattercarpet": [
           {
            "marker": {
             "colorbar": {
              "outlinewidth": 0,
              "ticks": ""
             }
            },
            "type": "scattercarpet"
           }
          ],
          "scattergeo": [
           {
            "marker": {
             "colorbar": {
              "outlinewidth": 0,
              "ticks": ""
             }
            },
            "type": "scattergeo"
           }
          ],
          "scattergl": [
           {
            "marker": {
             "colorbar": {
              "outlinewidth": 0,
              "ticks": ""
             }
            },
            "type": "scattergl"
           }
          ],
          "scattermap": [
           {
            "marker": {
             "colorbar": {
              "outlinewidth": 0,
              "ticks": ""
             }
            },
            "type": "scattermap"
           }
          ],
          "scattermapbox": [
           {
            "marker": {
             "colorbar": {
              "outlinewidth": 0,
              "ticks": ""
             }
            },
            "type": "scattermapbox"
           }
          ],
          "scatterpolar": [
           {
            "marker": {
             "colorbar": {
              "outlinewidth": 0,
              "ticks": ""
             }
            },
            "type": "scatterpolar"
           }
          ],
          "scatterpolargl": [
           {
            "marker": {
             "colorbar": {
              "outlinewidth": 0,
              "ticks": ""
             }
            },
            "type": "scatterpolargl"
           }
          ],
          "scatterternary": [
           {
            "marker": {
             "colorbar": {
              "outlinewidth": 0,
              "ticks": ""
             }
            },
            "type": "scatterternary"
           }
          ],
          "surface": [
           {
            "colorbar": {
             "outlinewidth": 0,
             "ticks": ""
            },
            "colorscale": [
             [
              0,
              "#0d0887"
             ],
             [
              0.1111111111111111,
              "#46039f"
             ],
             [
              0.2222222222222222,
              "#7201a8"
             ],
             [
              0.3333333333333333,
              "#9c179e"
             ],
             [
              0.4444444444444444,
              "#bd3786"
             ],
             [
              0.5555555555555556,
              "#d8576b"
             ],
             [
              0.6666666666666666,
              "#ed7953"
             ],
             [
              0.7777777777777778,
              "#fb9f3a"
             ],
             [
              0.8888888888888888,
              "#fdca26"
             ],
             [
              1,
              "#f0f921"
             ]
            ],
            "type": "surface"
           }
          ],
          "table": [
           {
            "cells": {
             "fill": {
              "color": "#EBF0F8"
             },
             "line": {
              "color": "white"
             }
            },
            "header": {
             "fill": {
              "color": "#C8D4E3"
             },
             "line": {
              "color": "white"
             }
            },
            "type": "table"
           }
          ]
         },
         "layout": {
          "annotationdefaults": {
           "arrowcolor": "#2a3f5f",
           "arrowhead": 0,
           "arrowwidth": 1
          },
          "autotypenumbers": "strict",
          "coloraxis": {
           "colorbar": {
            "outlinewidth": 0,
            "ticks": ""
           }
          },
          "colorscale": {
           "diverging": [
            [
             0,
             "#8e0152"
            ],
            [
             0.1,
             "#c51b7d"
            ],
            [
             0.2,
             "#de77ae"
            ],
            [
             0.3,
             "#f1b6da"
            ],
            [
             0.4,
             "#fde0ef"
            ],
            [
             0.5,
             "#f7f7f7"
            ],
            [
             0.6,
             "#e6f5d0"
            ],
            [
             0.7,
             "#b8e186"
            ],
            [
             0.8,
             "#7fbc41"
            ],
            [
             0.9,
             "#4d9221"
            ],
            [
             1,
             "#276419"
            ]
           ],
           "sequential": [
            [
             0,
             "#0d0887"
            ],
            [
             0.1111111111111111,
             "#46039f"
            ],
            [
             0.2222222222222222,
             "#7201a8"
            ],
            [
             0.3333333333333333,
             "#9c179e"
            ],
            [
             0.4444444444444444,
             "#bd3786"
            ],
            [
             0.5555555555555556,
             "#d8576b"
            ],
            [
             0.6666666666666666,
             "#ed7953"
            ],
            [
             0.7777777777777778,
             "#fb9f3a"
            ],
            [
             0.8888888888888888,
             "#fdca26"
            ],
            [
             1,
             "#f0f921"
            ]
           ],
           "sequentialminus": [
            [
             0,
             "#0d0887"
            ],
            [
             0.1111111111111111,
             "#46039f"
            ],
            [
             0.2222222222222222,
             "#7201a8"
            ],
            [
             0.3333333333333333,
             "#9c179e"
            ],
            [
             0.4444444444444444,
             "#bd3786"
            ],
            [
             0.5555555555555556,
             "#d8576b"
            ],
            [
             0.6666666666666666,
             "#ed7953"
            ],
            [
             0.7777777777777778,
             "#fb9f3a"
            ],
            [
             0.8888888888888888,
             "#fdca26"
            ],
            [
             1,
             "#f0f921"
            ]
           ]
          },
          "colorway": [
           "#636efa",
           "#EF553B",
           "#00cc96",
           "#ab63fa",
           "#FFA15A",
           "#19d3f3",
           "#FF6692",
           "#B6E880",
           "#FF97FF",
           "#FECB52"
          ],
          "font": {
           "color": "#2a3f5f"
          },
          "geo": {
           "bgcolor": "white",
           "lakecolor": "white",
           "landcolor": "#E5ECF6",
           "showlakes": true,
           "showland": true,
           "subunitcolor": "white"
          },
          "hoverlabel": {
           "align": "left"
          },
          "hovermode": "closest",
          "mapbox": {
           "style": "light"
          },
          "paper_bgcolor": "white",
          "plot_bgcolor": "#E5ECF6",
          "polar": {
           "angularaxis": {
            "gridcolor": "white",
            "linecolor": "white",
            "ticks": ""
           },
           "bgcolor": "#E5ECF6",
           "radialaxis": {
            "gridcolor": "white",
            "linecolor": "white",
            "ticks": ""
           }
          },
          "scene": {
           "xaxis": {
            "backgroundcolor": "#E5ECF6",
            "gridcolor": "white",
            "gridwidth": 2,
            "linecolor": "white",
            "showbackground": true,
            "ticks": "",
            "zerolinecolor": "white"
           },
           "yaxis": {
            "backgroundcolor": "#E5ECF6",
            "gridcolor": "white",
            "gridwidth": 2,
            "linecolor": "white",
            "showbackground": true,
            "ticks": "",
            "zerolinecolor": "white"
           },
           "zaxis": {
            "backgroundcolor": "#E5ECF6",
            "gridcolor": "white",
            "gridwidth": 2,
            "linecolor": "white",
            "showbackground": true,
            "ticks": "",
            "zerolinecolor": "white"
           }
          },
          "shapedefaults": {
           "line": {
            "color": "#2a3f5f"
           }
          },
          "ternary": {
           "aaxis": {
            "gridcolor": "white",
            "linecolor": "white",
            "ticks": ""
           },
           "baxis": {
            "gridcolor": "white",
            "linecolor": "white",
            "ticks": ""
           },
           "bgcolor": "#E5ECF6",
           "caxis": {
            "gridcolor": "white",
            "linecolor": "white",
            "ticks": ""
           }
          },
          "title": {
           "x": 0.05
          },
          "xaxis": {
           "automargin": true,
           "gridcolor": "white",
           "linecolor": "white",
           "ticks": "",
           "title": {
            "standoff": 15
           },
           "zerolinecolor": "white",
           "zerolinewidth": 2
          },
          "yaxis": {
           "automargin": true,
           "gridcolor": "white",
           "linecolor": "white",
           "ticks": "",
           "title": {
            "standoff": 15
           },
           "zerolinecolor": "white",
           "zerolinewidth": 2
          }
         }
        },
        "title": {
         "text": "Correlation Numeric Variables"
        },
        "width": 500,
        "xaxis": {
         "tickangle": 45
        }
       }
      }
     },
     "metadata": {},
     "output_type": "display_data"
    }
   ],
   "source": [
    "# Correlogram\n",
    "correlation = df[num_cols].corr()\n",
    "fig = go.Figure(go.Heatmap(\n",
    "    x=correlation.columns,\n",
    "    y=correlation.columns,\n",
    "    z=correlation.values.tolist(),\n",
    "    zmin=-1,zmax=1,colorscale='rdylgn'\n",
    "))\n",
    "\n",
    "fig.update_layout(title='Correlation Numeric Variables',\n",
    "    autosize=False,\n",
    "     width=500,\n",
    "     height=500,\n",
    "     margin=dict(l=100, r=100, b=100, t=100),\n",
    "     xaxis=dict(tickangle=45)\n",
    ")\n",
    "\n",
    "fig.show()"
   ]
  },
  {
   "cell_type": "code",
   "execution_count": 106,
   "id": "ad7d6aca",
   "metadata": {},
   "outputs": [],
   "source": [
    "def tabla_siniestralidad_num(\n",
    "        df:pd.DataFrame,\n",
    "        col: str,\n",
    "        range: int):\n",
    "    num_grupos = np.linspace(df[col].min(),df[col].max(),range)\n",
    "    tabla= df.groupby(by=pd.cut(df[col],num_grupos),observed=True)[['coste_siniestro','NSin','exposicion','prima']].sum()\\\n",
    "                                                                                        .assign(severidad=lambda x: x['coste_siniestro']/x['NSin'])\\\n",
    "                                                                                        .assign(Frecuencia = lambda x : x['NSin']/x['exposicion'])\\\n",
    "                                                                                        .assign(PrimaPura = lambda x : x['coste_siniestro']/x['exposicion'])\\\n",
    "                                                                                        .assign(LossRatio= lambda x : x['coste_siniestro']/x['prima'])\n",
    "    return tabla"
   ]
  },
  {
   "cell_type": "code",
   "execution_count": 107,
   "id": "3409e118",
   "metadata": {},
   "outputs": [
    {
     "data": {
      "application/vnd.plotly.v1+json": {
       "config": {
        "plotlyServerURL": "https://plot.ly"
       },
       "data": [
        {
         "cells": {
          "align": "left",
          "fill": {
           "color": "lavender"
          },
          "values": [
           [
            2609010.13,
            4898687.43,
            968879.07,
            12691.16,
            0,
            0
           ],
           [
            583,
            1081,
            212,
            4,
            0,
            0
           ],
           [
            1171,
            10965,
            19384,
            17078,
            8626,
            1306
           ],
           [
            229425.26,
            2269126.16,
            4175417.25,
            3767292.4,
            1910109.48,
            287710.09
           ],
           [
            4475.15,
            4531.63,
            4570.18,
            3172.79,
            null,
            null
           ],
           [
            0.5,
            0.1,
            0.01,
            0,
            0,
            0
           ],
           [
            2228.02,
            446.76,
            49.98,
            0.74,
            0,
            0
           ],
           [
            11.37,
            2.16,
            0.23,
            0,
            0,
            0
           ]
          ]
         },
         "header": {
          "align": "left",
          "fill": {
           "color": "paleturquoise"
          },
          "values": [
           "coste_siniestro",
           "NSin",
           "exposicion",
           "prima",
           "severidad",
           "Frecuencia",
           "PrimaPura",
           "LossRatio"
          ]
         },
         "type": "table"
        }
       ],
       "layout": {
        "template": {
         "data": {
          "bar": [
           {
            "error_x": {
             "color": "#2a3f5f"
            },
            "error_y": {
             "color": "#2a3f5f"
            },
            "marker": {
             "line": {
              "color": "#E5ECF6",
              "width": 0.5
             },
             "pattern": {
              "fillmode": "overlay",
              "size": 10,
              "solidity": 0.2
             }
            },
            "type": "bar"
           }
          ],
          "barpolar": [
           {
            "marker": {
             "line": {
              "color": "#E5ECF6",
              "width": 0.5
             },
             "pattern": {
              "fillmode": "overlay",
              "size": 10,
              "solidity": 0.2
             }
            },
            "type": "barpolar"
           }
          ],
          "carpet": [
           {
            "aaxis": {
             "endlinecolor": "#2a3f5f",
             "gridcolor": "white",
             "linecolor": "white",
             "minorgridcolor": "white",
             "startlinecolor": "#2a3f5f"
            },
            "baxis": {
             "endlinecolor": "#2a3f5f",
             "gridcolor": "white",
             "linecolor": "white",
             "minorgridcolor": "white",
             "startlinecolor": "#2a3f5f"
            },
            "type": "carpet"
           }
          ],
          "choropleth": [
           {
            "colorbar": {
             "outlinewidth": 0,
             "ticks": ""
            },
            "type": "choropleth"
           }
          ],
          "contour": [
           {
            "colorbar": {
             "outlinewidth": 0,
             "ticks": ""
            },
            "colorscale": [
             [
              0,
              "#0d0887"
             ],
             [
              0.1111111111111111,
              "#46039f"
             ],
             [
              0.2222222222222222,
              "#7201a8"
             ],
             [
              0.3333333333333333,
              "#9c179e"
             ],
             [
              0.4444444444444444,
              "#bd3786"
             ],
             [
              0.5555555555555556,
              "#d8576b"
             ],
             [
              0.6666666666666666,
              "#ed7953"
             ],
             [
              0.7777777777777778,
              "#fb9f3a"
             ],
             [
              0.8888888888888888,
              "#fdca26"
             ],
             [
              1,
              "#f0f921"
             ]
            ],
            "type": "contour"
           }
          ],
          "contourcarpet": [
           {
            "colorbar": {
             "outlinewidth": 0,
             "ticks": ""
            },
            "type": "contourcarpet"
           }
          ],
          "heatmap": [
           {
            "colorbar": {
             "outlinewidth": 0,
             "ticks": ""
            },
            "colorscale": [
             [
              0,
              "#0d0887"
             ],
             [
              0.1111111111111111,
              "#46039f"
             ],
             [
              0.2222222222222222,
              "#7201a8"
             ],
             [
              0.3333333333333333,
              "#9c179e"
             ],
             [
              0.4444444444444444,
              "#bd3786"
             ],
             [
              0.5555555555555556,
              "#d8576b"
             ],
             [
              0.6666666666666666,
              "#ed7953"
             ],
             [
              0.7777777777777778,
              "#fb9f3a"
             ],
             [
              0.8888888888888888,
              "#fdca26"
             ],
             [
              1,
              "#f0f921"
             ]
            ],
            "type": "heatmap"
           }
          ],
          "histogram": [
           {
            "marker": {
             "pattern": {
              "fillmode": "overlay",
              "size": 10,
              "solidity": 0.2
             }
            },
            "type": "histogram"
           }
          ],
          "histogram2d": [
           {
            "colorbar": {
             "outlinewidth": 0,
             "ticks": ""
            },
            "colorscale": [
             [
              0,
              "#0d0887"
             ],
             [
              0.1111111111111111,
              "#46039f"
             ],
             [
              0.2222222222222222,
              "#7201a8"
             ],
             [
              0.3333333333333333,
              "#9c179e"
             ],
             [
              0.4444444444444444,
              "#bd3786"
             ],
             [
              0.5555555555555556,
              "#d8576b"
             ],
             [
              0.6666666666666666,
              "#ed7953"
             ],
             [
              0.7777777777777778,
              "#fb9f3a"
             ],
             [
              0.8888888888888888,
              "#fdca26"
             ],
             [
              1,
              "#f0f921"
             ]
            ],
            "type": "histogram2d"
           }
          ],
          "histogram2dcontour": [
           {
            "colorbar": {
             "outlinewidth": 0,
             "ticks": ""
            },
            "colorscale": [
             [
              0,
              "#0d0887"
             ],
             [
              0.1111111111111111,
              "#46039f"
             ],
             [
              0.2222222222222222,
              "#7201a8"
             ],
             [
              0.3333333333333333,
              "#9c179e"
             ],
             [
              0.4444444444444444,
              "#bd3786"
             ],
             [
              0.5555555555555556,
              "#d8576b"
             ],
             [
              0.6666666666666666,
              "#ed7953"
             ],
             [
              0.7777777777777778,
              "#fb9f3a"
             ],
             [
              0.8888888888888888,
              "#fdca26"
             ],
             [
              1,
              "#f0f921"
             ]
            ],
            "type": "histogram2dcontour"
           }
          ],
          "mesh3d": [
           {
            "colorbar": {
             "outlinewidth": 0,
             "ticks": ""
            },
            "type": "mesh3d"
           }
          ],
          "parcoords": [
           {
            "line": {
             "colorbar": {
              "outlinewidth": 0,
              "ticks": ""
             }
            },
            "type": "parcoords"
           }
          ],
          "pie": [
           {
            "automargin": true,
            "type": "pie"
           }
          ],
          "scatter": [
           {
            "fillpattern": {
             "fillmode": "overlay",
             "size": 10,
             "solidity": 0.2
            },
            "type": "scatter"
           }
          ],
          "scatter3d": [
           {
            "line": {
             "colorbar": {
              "outlinewidth": 0,
              "ticks": ""
             }
            },
            "marker": {
             "colorbar": {
              "outlinewidth": 0,
              "ticks": ""
             }
            },
            "type": "scatter3d"
           }
          ],
          "scattercarpet": [
           {
            "marker": {
             "colorbar": {
              "outlinewidth": 0,
              "ticks": ""
             }
            },
            "type": "scattercarpet"
           }
          ],
          "scattergeo": [
           {
            "marker": {
             "colorbar": {
              "outlinewidth": 0,
              "ticks": ""
             }
            },
            "type": "scattergeo"
           }
          ],
          "scattergl": [
           {
            "marker": {
             "colorbar": {
              "outlinewidth": 0,
              "ticks": ""
             }
            },
            "type": "scattergl"
           }
          ],
          "scattermap": [
           {
            "marker": {
             "colorbar": {
              "outlinewidth": 0,
              "ticks": ""
             }
            },
            "type": "scattermap"
           }
          ],
          "scattermapbox": [
           {
            "marker": {
             "colorbar": {
              "outlinewidth": 0,
              "ticks": ""
             }
            },
            "type": "scattermapbox"
           }
          ],
          "scatterpolar": [
           {
            "marker": {
             "colorbar": {
              "outlinewidth": 0,
              "ticks": ""
             }
            },
            "type": "scatterpolar"
           }
          ],
          "scatterpolargl": [
           {
            "marker": {
             "colorbar": {
              "outlinewidth": 0,
              "ticks": ""
             }
            },
            "type": "scatterpolargl"
           }
          ],
          "scatterternary": [
           {
            "marker": {
             "colorbar": {
              "outlinewidth": 0,
              "ticks": ""
             }
            },
            "type": "scatterternary"
           }
          ],
          "surface": [
           {
            "colorbar": {
             "outlinewidth": 0,
             "ticks": ""
            },
            "colorscale": [
             [
              0,
              "#0d0887"
             ],
             [
              0.1111111111111111,
              "#46039f"
             ],
             [
              0.2222222222222222,
              "#7201a8"
             ],
             [
              0.3333333333333333,
              "#9c179e"
             ],
             [
              0.4444444444444444,
              "#bd3786"
             ],
             [
              0.5555555555555556,
              "#d8576b"
             ],
             [
              0.6666666666666666,
              "#ed7953"
             ],
             [
              0.7777777777777778,
              "#fb9f3a"
             ],
             [
              0.8888888888888888,
              "#fdca26"
             ],
             [
              1,
              "#f0f921"
             ]
            ],
            "type": "surface"
           }
          ],
          "table": [
           {
            "cells": {
             "fill": {
              "color": "#EBF0F8"
             },
             "line": {
              "color": "white"
             }
            },
            "header": {
             "fill": {
              "color": "#C8D4E3"
             },
             "line": {
              "color": "white"
             }
            },
            "type": "table"
           }
          ]
         },
         "layout": {
          "annotationdefaults": {
           "arrowcolor": "#2a3f5f",
           "arrowhead": 0,
           "arrowwidth": 1
          },
          "autotypenumbers": "strict",
          "coloraxis": {
           "colorbar": {
            "outlinewidth": 0,
            "ticks": ""
           }
          },
          "colorscale": {
           "diverging": [
            [
             0,
             "#8e0152"
            ],
            [
             0.1,
             "#c51b7d"
            ],
            [
             0.2,
             "#de77ae"
            ],
            [
             0.3,
             "#f1b6da"
            ],
            [
             0.4,
             "#fde0ef"
            ],
            [
             0.5,
             "#f7f7f7"
            ],
            [
             0.6,
             "#e6f5d0"
            ],
            [
             0.7,
             "#b8e186"
            ],
            [
             0.8,
             "#7fbc41"
            ],
            [
             0.9,
             "#4d9221"
            ],
            [
             1,
             "#276419"
            ]
           ],
           "sequential": [
            [
             0,
             "#0d0887"
            ],
            [
             0.1111111111111111,
             "#46039f"
            ],
            [
             0.2222222222222222,
             "#7201a8"
            ],
            [
             0.3333333333333333,
             "#9c179e"
            ],
            [
             0.4444444444444444,
             "#bd3786"
            ],
            [
             0.5555555555555556,
             "#d8576b"
            ],
            [
             0.6666666666666666,
             "#ed7953"
            ],
            [
             0.7777777777777778,
             "#fb9f3a"
            ],
            [
             0.8888888888888888,
             "#fdca26"
            ],
            [
             1,
             "#f0f921"
            ]
           ],
           "sequentialminus": [
            [
             0,
             "#0d0887"
            ],
            [
             0.1111111111111111,
             "#46039f"
            ],
            [
             0.2222222222222222,
             "#7201a8"
            ],
            [
             0.3333333333333333,
             "#9c179e"
            ],
            [
             0.4444444444444444,
             "#bd3786"
            ],
            [
             0.5555555555555556,
             "#d8576b"
            ],
            [
             0.6666666666666666,
             "#ed7953"
            ],
            [
             0.7777777777777778,
             "#fb9f3a"
            ],
            [
             0.8888888888888888,
             "#fdca26"
            ],
            [
             1,
             "#f0f921"
            ]
           ]
          },
          "colorway": [
           "#636efa",
           "#EF553B",
           "#00cc96",
           "#ab63fa",
           "#FFA15A",
           "#19d3f3",
           "#FF6692",
           "#B6E880",
           "#FF97FF",
           "#FECB52"
          ],
          "font": {
           "color": "#2a3f5f"
          },
          "geo": {
           "bgcolor": "white",
           "lakecolor": "white",
           "landcolor": "#E5ECF6",
           "showlakes": true,
           "showland": true,
           "subunitcolor": "white"
          },
          "hoverlabel": {
           "align": "left"
          },
          "hovermode": "closest",
          "mapbox": {
           "style": "light"
          },
          "paper_bgcolor": "white",
          "plot_bgcolor": "#E5ECF6",
          "polar": {
           "angularaxis": {
            "gridcolor": "white",
            "linecolor": "white",
            "ticks": ""
           },
           "bgcolor": "#E5ECF6",
           "radialaxis": {
            "gridcolor": "white",
            "linecolor": "white",
            "ticks": ""
           }
          },
          "scene": {
           "xaxis": {
            "backgroundcolor": "#E5ECF6",
            "gridcolor": "white",
            "gridwidth": 2,
            "linecolor": "white",
            "showbackground": true,
            "ticks": "",
            "zerolinecolor": "white"
           },
           "yaxis": {
            "backgroundcolor": "#E5ECF6",
            "gridcolor": "white",
            "gridwidth": 2,
            "linecolor": "white",
            "showbackground": true,
            "ticks": "",
            "zerolinecolor": "white"
           },
           "zaxis": {
            "backgroundcolor": "#E5ECF6",
            "gridcolor": "white",
            "gridwidth": 2,
            "linecolor": "white",
            "showbackground": true,
            "ticks": "",
            "zerolinecolor": "white"
           }
          },
          "shapedefaults": {
           "line": {
            "color": "#2a3f5f"
           }
          },
          "ternary": {
           "aaxis": {
            "gridcolor": "white",
            "linecolor": "white",
            "ticks": ""
           },
           "baxis": {
            "gridcolor": "white",
            "linecolor": "white",
            "ticks": ""
           },
           "bgcolor": "#E5ECF6",
           "caxis": {
            "gridcolor": "white",
            "linecolor": "white",
            "ticks": ""
           }
          },
          "title": {
           "x": 0.05
          },
          "xaxis": {
           "automargin": true,
           "gridcolor": "white",
           "linecolor": "white",
           "ticks": "",
           "title": {
            "standoff": 15
           },
           "zerolinecolor": "white",
           "zerolinewidth": 2
          },
          "yaxis": {
           "automargin": true,
           "gridcolor": "white",
           "linecolor": "white",
           "ticks": "",
           "title": {
            "standoff": 15
           },
           "zerolinecolor": "white",
           "zerolinewidth": 2
          }
         }
        }
       }
      }
     },
     "metadata": {},
     "output_type": "display_data"
    }
   ],
   "source": [
    "\n",
    "edad_accident = tabla_siniestralidad_num(df,'edad',7).round(2)\n",
    "\n",
    "\n",
    "# Create a Plotly table\n",
    "fig = go.Figure(data=[go.Table(\n",
    "    header=dict(values=list(edad_accident.columns),\n",
    "                fill_color='paleturquoise',\n",
    "                align='left'),\n",
    "    cells=dict(values=[edad_accident[col] for col in edad_accident.columns],\n",
    "               fill_color='lavender',\n",
    "               align='left'))\n",
    "])\n",
    "fig.show()"
   ]
  },
  {
   "cell_type": "code",
   "execution_count": 108,
   "id": "e561a38a",
   "metadata": {},
   "outputs": [
    {
     "data": {
      "application/vnd.microsoft.datawrangler.viewer.v0+json": {
       "columns": [
        {
         "name": "edad",
         "rawType": "category",
         "type": "unknown"
        },
        {
         "name": "coste_siniestro",
         "rawType": "float64",
         "type": "float"
        },
        {
         "name": "NSin",
         "rawType": "float64",
         "type": "float"
        },
        {
         "name": "exposicion",
         "rawType": "int64",
         "type": "integer"
        },
        {
         "name": "prima",
         "rawType": "float64",
         "type": "float"
        },
        {
         "name": "severidad",
         "rawType": "float64",
         "type": "float"
        },
        {
         "name": "Frecuencia",
         "rawType": "float64",
         "type": "float"
        },
        {
         "name": "PrimaPura",
         "rawType": "float64",
         "type": "float"
        },
        {
         "name": "LossRatio",
         "rawType": "float64",
         "type": "float"
        }
       ],
       "ref": "5938f52f-25b7-45d6-8c58-15a903242cd7",
       "rows": [
        [
         "(22.0, 36.167]",
         "2609010.13",
         "583.0",
         "1171",
         "229425.26",
         "4475.15",
         "0.5",
         "2228.02",
         "11.37"
        ],
        [
         "(36.167, 50.333]",
         "4898687.43",
         "1081.0",
         "10965",
         "2269126.16",
         "4531.63",
         "0.1",
         "446.76",
         "2.16"
        ],
        [
         "(50.333, 64.5]",
         "968879.07",
         "212.0",
         "19384",
         "4175417.25",
         "4570.18",
         "0.01",
         "49.98",
         "0.23"
        ],
        [
         "(64.5, 78.667]",
         "12691.16",
         "4.0",
         "17078",
         "3767292.4",
         "3172.79",
         "0.0",
         "0.74",
         "0.0"
        ],
        [
         "(78.667, 92.833]",
         "0.0",
         "0.0",
         "8626",
         "1910109.48",
         null,
         "0.0",
         "0.0",
         "0.0"
        ],
        [
         "(92.833, 107.0]",
         "0.0",
         "0.0",
         "1306",
         "287710.09",
         null,
         "0.0",
         "0.0",
         "0.0"
        ]
       ],
       "shape": {
        "columns": 8,
        "rows": 6
       }
      },
      "text/html": [
       "<div>\n",
       "<style scoped>\n",
       "    .dataframe tbody tr th:only-of-type {\n",
       "        vertical-align: middle;\n",
       "    }\n",
       "\n",
       "    .dataframe tbody tr th {\n",
       "        vertical-align: top;\n",
       "    }\n",
       "\n",
       "    .dataframe thead th {\n",
       "        text-align: right;\n",
       "    }\n",
       "</style>\n",
       "<table border=\"1\" class=\"dataframe\">\n",
       "  <thead>\n",
       "    <tr style=\"text-align: right;\">\n",
       "      <th></th>\n",
       "      <th>coste_siniestro</th>\n",
       "      <th>NSin</th>\n",
       "      <th>exposicion</th>\n",
       "      <th>prima</th>\n",
       "      <th>severidad</th>\n",
       "      <th>Frecuencia</th>\n",
       "      <th>PrimaPura</th>\n",
       "      <th>LossRatio</th>\n",
       "    </tr>\n",
       "    <tr>\n",
       "      <th>edad</th>\n",
       "      <th></th>\n",
       "      <th></th>\n",
       "      <th></th>\n",
       "      <th></th>\n",
       "      <th></th>\n",
       "      <th></th>\n",
       "      <th></th>\n",
       "      <th></th>\n",
       "    </tr>\n",
       "  </thead>\n",
       "  <tbody>\n",
       "    <tr>\n",
       "      <th>(22.0, 36.167]</th>\n",
       "      <td>2609010.13</td>\n",
       "      <td>583.0</td>\n",
       "      <td>1171</td>\n",
       "      <td>229425.26</td>\n",
       "      <td>4475.15</td>\n",
       "      <td>0.50</td>\n",
       "      <td>2228.02</td>\n",
       "      <td>11.37</td>\n",
       "    </tr>\n",
       "    <tr>\n",
       "      <th>(36.167, 50.333]</th>\n",
       "      <td>4898687.43</td>\n",
       "      <td>1081.0</td>\n",
       "      <td>10965</td>\n",
       "      <td>2269126.16</td>\n",
       "      <td>4531.63</td>\n",
       "      <td>0.10</td>\n",
       "      <td>446.76</td>\n",
       "      <td>2.16</td>\n",
       "    </tr>\n",
       "    <tr>\n",
       "      <th>(50.333, 64.5]</th>\n",
       "      <td>968879.07</td>\n",
       "      <td>212.0</td>\n",
       "      <td>19384</td>\n",
       "      <td>4175417.25</td>\n",
       "      <td>4570.18</td>\n",
       "      <td>0.01</td>\n",
       "      <td>49.98</td>\n",
       "      <td>0.23</td>\n",
       "    </tr>\n",
       "    <tr>\n",
       "      <th>(64.5, 78.667]</th>\n",
       "      <td>12691.16</td>\n",
       "      <td>4.0</td>\n",
       "      <td>17078</td>\n",
       "      <td>3767292.40</td>\n",
       "      <td>3172.79</td>\n",
       "      <td>0.00</td>\n",
       "      <td>0.74</td>\n",
       "      <td>0.00</td>\n",
       "    </tr>\n",
       "    <tr>\n",
       "      <th>(78.667, 92.833]</th>\n",
       "      <td>0.00</td>\n",
       "      <td>0.0</td>\n",
       "      <td>8626</td>\n",
       "      <td>1910109.48</td>\n",
       "      <td>NaN</td>\n",
       "      <td>0.00</td>\n",
       "      <td>0.00</td>\n",
       "      <td>0.00</td>\n",
       "    </tr>\n",
       "    <tr>\n",
       "      <th>(92.833, 107.0]</th>\n",
       "      <td>0.00</td>\n",
       "      <td>0.0</td>\n",
       "      <td>1306</td>\n",
       "      <td>287710.09</td>\n",
       "      <td>NaN</td>\n",
       "      <td>0.00</td>\n",
       "      <td>0.00</td>\n",
       "      <td>0.00</td>\n",
       "    </tr>\n",
       "  </tbody>\n",
       "</table>\n",
       "</div>"
      ],
      "text/plain": [
       "                  coste_siniestro    NSin  exposicion       prima  severidad  \\\n",
       "edad                                                                           \n",
       "(22.0, 36.167]         2609010.13   583.0        1171   229425.26    4475.15   \n",
       "(36.167, 50.333]       4898687.43  1081.0       10965  2269126.16    4531.63   \n",
       "(50.333, 64.5]          968879.07   212.0       19384  4175417.25    4570.18   \n",
       "(64.5, 78.667]           12691.16     4.0       17078  3767292.40    3172.79   \n",
       "(78.667, 92.833]             0.00     0.0        8626  1910109.48        NaN   \n",
       "(92.833, 107.0]              0.00     0.0        1306   287710.09        NaN   \n",
       "\n",
       "                  Frecuencia  PrimaPura  LossRatio  \n",
       "edad                                                \n",
       "(22.0, 36.167]          0.50    2228.02      11.37  \n",
       "(36.167, 50.333]        0.10     446.76       2.16  \n",
       "(50.333, 64.5]          0.01      49.98       0.23  \n",
       "(64.5, 78.667]          0.00       0.74       0.00  \n",
       "(78.667, 92.833]        0.00       0.00       0.00  \n",
       "(92.833, 107.0]         0.00       0.00       0.00  "
      ]
     },
     "execution_count": 108,
     "metadata": {},
     "output_type": "execute_result"
    }
   ],
   "source": [
    "edad_accident"
   ]
  },
  {
   "cell_type": "markdown",
   "id": "46044ec4",
   "metadata": {},
   "source": [
    "# REGRESSION MODEL\n",
    "\n",
    "After conducting the exploratory analysis, we are familiarized with the main characteristics of the variables contained in the dataset. Thus, we are able to start modelling the target variable \"Pure Premium\" to try predict the cost of the policy after one year in the company.\n",
    "\n",
    "This estimated cost will be applied in the CLTV and aged along the n years that lasts the analysis. For the premiums, the actual data will be used for those that already have an auto and household insurance. For the remaining policies, those only with auto insurance, we will take the pure premium and increase it as if we would offer a commercial premium, so we can estimate a CLTV for the whole portfolio (may be we just use the clients with both, auto and house insurance).\n",
    "\n",
    "The process for modelling will be as follows:\n",
    "\n",
    "* Create a preprocessor to standarize or categorize for numeric variables and convert to dummy variables with the OneHotEncoder the categorical data.\n",
    "* Definition of the model to be implemented. In this case to be homogeneous, the Tweedie Regressor will be used with a power of 1.5.\n",
    "* Creation of a dummy regressor to make comparable the results obtained from a random model with respect the tweedie model.\n",
    "* Lorenz curve to compare the best possible model (oracle) to the tweedie model. It uses the GINI metric for calculating goodness of fit.\n",
    "* Plot the predictions and the actual values summarized against a continuous variable, to see whether the observed target variable adjusts similar to the predicted ones.\n",
    "* Table that holds both coefficients as log odds and the odds ratio so one can examinate feature importance. A barplot is also represented to better look for the covariates with a stronger influence into the model.\n",
    "\n",
    "* EXPLINAIBILITY with FEATURE importance SCORES (from Datacamp course)\n",
    "* SHAP explainers:\n",
    "    * General explainer\n",
    "    * Type-specific explainer\n",
    "* Eliminar valor_contenido, valor_continente para hacerlo escalable a los clientes de solo autos de los cuales no tenemos estos datos."
   ]
  },
  {
   "cell_type": "code",
   "execution_count": 109,
   "id": "ba803ed5",
   "metadata": {},
   "outputs": [],
   "source": [
    "\n",
    "# Definition of the column transformer that will be used as the preprocessor\n",
    "column_trans = ColumnTransformer(\n",
    "    [\n",
    "        (\n",
    "            \"binned_numeric\",\n",
    "            KBinsDiscretizer(n_bins=7, random_state=0),\n",
    "            [\"edad\"],\n",
    "        ),\n",
    "        #('std_scaler',\n",
    "        # StandardScaler(),\n",
    "        # ['valor_continente','valor_contenido']),\n",
    "        (\n",
    "            \"onehot_categorical\",\n",
    "            OneHotEncoder(),\n",
    "            [ \"forma_pago\", \"localizacion\"],\n",
    "        ),\n",
    "        (\n",
    "            'ordinal_encoder',\n",
    "            OrdinalEncoder(),\n",
    "            ['contactos_ult_año']\n",
    "        )\n",
    "    ],\n",
    "    remainder=\"drop\",verbose_feature_names_out=False\n",
    ")\n",
    "X = column_trans.fit_transform(df)\n"
   ]
  },
  {
   "cell_type": "code",
   "execution_count": 110,
   "id": "2295abb3",
   "metadata": {},
   "outputs": [
    {
     "data": {
      "text/plain": [
       "array(['edad_0.0', 'edad_1.0', 'edad_2.0', 'edad_3.0', 'edad_4.0',\n",
       "       'edad_5.0', 'edad_6.0', 'forma_pago_ANUAL', 'forma_pago_MENOR',\n",
       "       'forma_pago_SEMESTRAL', 'localizacion_Andalucia',\n",
       "       'localizacion_Aragon', 'localizacion_Asturias',\n",
       "       'localizacion_Canarias', 'localizacion_Cantabria',\n",
       "       'localizacion_Castilla y León', 'localizacion_Cataluña',\n",
       "       'localizacion_Islas Baleares', 'localizacion_Madrid',\n",
       "       'localizacion_País Vasco', 'contactos_ult_año'], dtype=object)"
      ]
     },
     "execution_count": 110,
     "metadata": {},
     "output_type": "execute_result"
    }
   ],
   "source": [
    "\n",
    "# Get feature names\n",
    "feature_names = column_trans.get_feature_names_out()\n",
    "\n",
    "# Create a DataFrame with the transformed data and feature names\n",
    "#X_df = pd.DataFrame(X, columns=feature_names)\n",
    "feature_names\n"
   ]
  },
  {
   "cell_type": "code",
   "execution_count": 111,
   "id": "a5468135",
   "metadata": {},
   "outputs": [],
   "source": [
    "# Split the original dataframe and the transformed for later purposes\n",
    "df_train, df_test, X_train, X_test = train_test_split(df, X, random_state=0)"
   ]
  },
  {
   "cell_type": "code",
   "execution_count": 112,
   "id": "0af8b6b4",
   "metadata": {},
   "outputs": [],
   "source": [
    "# W check that tweediepower of 1.5 is the best option with a grid search\n",
    "modelo_tweedie = TweedieRegressor(solver=\"newton-cholesky\")\n",
    "\n",
    "param_grid = {'power':[1.5, 1.7, 1.8, 1.9, 1.99, 1.999, 1.9999]}\n",
    "\n",
    "deviance_scorer = make_scorer(mean_tweedie_deviance, greater_is_better=False, power=1.5)\n",
    "\n",
    "grid_search = GridSearchCV(estimator=modelo_tweedie,\n",
    "                           param_grid=param_grid,\n",
    "                           scoring=deviance_scorer,\n",
    "                           cv=5)"
   ]
  },
  {
   "cell_type": "code",
   "execution_count": 113,
   "id": "f1603f9f",
   "metadata": {},
   "outputs": [
    {
     "name": "stdout",
     "output_type": "stream",
     "text": [
      "Best parameters found:  {'power': 1.5}\n"
     ]
    }
   ],
   "source": [
    "grid_search.fit(\n",
    "    X_train, df_train[\"PrimaPura\"], sample_weight=df_train[\"exposicion\"]\n",
    ")\n",
    "# Get the best parameters\n",
    "best_params = grid_search.best_params_\n",
    "print(\"Best parameters found: \", best_params)\n",
    "\n",
    "# Predict using the best model\n",
    "y_pred = grid_search.predict(X_test)"
   ]
  },
  {
   "cell_type": "markdown",
   "id": "26234fca",
   "metadata": {},
   "source": [
    "Once fitted the model, we calculate metrics to compare the goodness of fit against a dummy regressor."
   ]
  },
  {
   "cell_type": "code",
   "execution_count": 114,
   "id": "3f2c5c56",
   "metadata": {},
   "outputs": [
    {
     "name": "stdout",
     "output_type": "stream",
     "text": [
      "Mean Tweedie Deviance:  49.36645034772879\n",
      "D² Tweedie score: 0.3906\n"
     ]
    }
   ],
   "source": [
    "# Evaluate the model\n",
    "deviance = mean_tweedie_deviance(df_test['PrimaPura'], y_pred, power=1.5)\n",
    "print(\"Mean Tweedie Deviance: \", deviance)\n",
    "\n",
    "# Calculate the D² Tweedie score\n",
    "d2_score = d2_tweedie_score(df_test['PrimaPura'], y_pred, power=1.5)\n",
    "\n",
    "print('D² Tweedie score:',round(d2_score,4))"
   ]
  },
  {
   "cell_type": "markdown",
   "id": "bbd9689e",
   "metadata": {},
   "source": [
    "Obtain the dummy model and its predictions."
   ]
  },
  {
   "cell_type": "code",
   "execution_count": 115,
   "id": "cff2a083",
   "metadata": {},
   "outputs": [],
   "source": [
    "from sklearn.dummy import DummyRegressor\n",
    "\n",
    "dummy_model = DummyRegressor(strategy=\"mean\")\n",
    "dummy_model.fit(\n",
    "    X_train,\n",
    "    df_train[\"PrimaPura\"],\n",
    "    sample_weight=df_train[\"PrimaPura\"],\n",
    ")\n",
    "\n",
    "y_dummy_pred = dummy_model.predict(X_test)\n"
   ]
  },
  {
   "cell_type": "markdown",
   "id": "a8702be6",
   "metadata": {},
   "source": [
    "Comparing the deviance and the d2 score, the tweedie model overcomes the dummy model, presenting good results."
   ]
  },
  {
   "cell_type": "code",
   "execution_count": 116,
   "id": "9650ca3a",
   "metadata": {},
   "outputs": [
    {
     "name": "stdout",
     "output_type": "stream",
     "text": [
      "Mean Tweedie Deviance:  49.36645034772879\n",
      "Mean Dummy Deviance:  341.86031262239385\n",
      "D² Tweedie score: 0.3906\n",
      "D² Dummy score: -3.2202\n"
     ]
    }
   ],
   "source": [
    "# Evaluate the model\n",
    "deviance = mean_tweedie_deviance(df_test['PrimaPura'], y_pred, power=1.5)\n",
    "print(\"Mean Tweedie Deviance: \", deviance)\n",
    "\n",
    "dummy_deviance = mean_tweedie_deviance(df_test['PrimaPura'], y_dummy_pred, power=1.5)\n",
    "print(\"Mean Dummy Deviance: \", dummy_deviance)\n",
    "\n",
    "print('D² Tweedie score:',round(d2_score,4))\n",
    "\n",
    "d2_score_dummy = d2_tweedie_score(df_test['PrimaPura'], y_dummy_pred, power=1.5)\n",
    "\n",
    "print('D² Dummy score:',round(d2_score_dummy,4))"
   ]
  },
  {
   "cell_type": "markdown",
   "id": "22849377",
   "metadata": {},
   "source": [
    "Plot the lorenz curve to obtain GINI from the tweedie model."
   ]
  },
  {
   "cell_type": "code",
   "execution_count": 33,
   "id": "27415519",
   "metadata": {},
   "outputs": [],
   "source": [
    "def lorenz_curve(y_true, y_pred, exposure):\n",
    "\n",
    "    y_true, y_pred = np.asarray(y_true), np.asarray(y_pred)\n",
    "    exposure = np.asarray(exposure)\n",
    "\n",
    "    # Ordeno la muestra según el riesgo predicho (de menor a mayor riesgo):\n",
    "    ranking = np.argsort(y_pred)\n",
    "    ranked_exposure = exposure[ranking]\n",
    "    ranked_pure_premium = y_true[ranking]\n",
    "\n",
    "    # Calculo la prima pura acumulada:\n",
    "    cumulated_claim_amount = np.cumsum(ranked_pure_premium * ranked_exposure)\n",
    "    cumulated_claim_amount /= cumulated_claim_amount[-1]\n",
    "    cumulated_samples = np.linspace(0, 1, len(cumulated_claim_amount))\n",
    "\n",
    "    return cumulated_samples, cumulated_claim_amount\n",
    "\n",
    "def add_lorenz_plot(ax, y_test, y_pred, exposure, label, linestyle='-', color='gray'):\n",
    "\n",
    "  # Construyo la curva de Lorenz\n",
    "  ordered_samples, cum_claims = lorenz_curve(y_test, y_pred, exposure)\n",
    "\n",
    "  # Determino el coeficiente de Gini:\n",
    "  gini = 1 - 2 * auc(ordered_samples, cum_claims) # Tambien se calcula con el area de la curva de ROC\n",
    "  label += \" (Gini: {:.3f})\".format(gini)\n",
    "\n",
    "  # Dibujo la curva de Lorenz\n",
    "  ax.plot(ordered_samples, cum_claims, linestyle=linestyle, color=color,\n",
    "        label=label)"
   ]
  },
  {
   "cell_type": "code",
   "execution_count": 117,
   "id": "ae1d15d8",
   "metadata": {},
   "outputs": [
    {
     "data": {
      "text/plain": [
       "<matplotlib.legend.Legend at 0x294812098e0>"
      ]
     },
     "execution_count": 117,
     "metadata": {},
     "output_type": "execute_result"
    },
    {
     "data": {
      "image/png": "[encoded data removed]",
      "text/plain": [
       "<Figure size 600x600 with 1 Axes>"
      ]
     },
     "metadata": {},
     "output_type": "display_data"
    }
   ],
   "source": [
    "fig, ax = plt.subplots(figsize=(6, 6))\n",
    "\n",
    "# Random baseline\n",
    "ax.plot([0, 1], [0, 1], linestyle=\"--\", color=\"black\",\n",
    "        label=\"Random baseline\")\n",
    "\n",
    "# Oracle model: y_pred == y_test\n",
    "add_lorenz_plot(ax, df_test['PrimaPura'], df_test['PrimaPura'], df_test['exposicion'], 'Oracle', linestyle=\"-.\", color=\"gray\")\n",
    "\n",
    "# Regressor\n",
    "add_lorenz_plot(ax, df_test['PrimaPura'], y_pred, df_test['exposicion'], 'Tweedie', linestyle=\"-\", color=\"coral\")\n",
    "\n",
    "\n",
    "ax.set(\n",
    "    title=\"Lorenz Curves\",\n",
    "    xlabel=('Fraction of policyholders\\n'\n",
    "            '(ordered by model from safest to riskiest)'),\n",
    "    ylabel='Fraction of total claim amount'\n",
    ")\n",
    "ax.legend(loc=\"upper left\")"
   ]
  },
  {
   "cell_type": "markdown",
   "id": "0eb86fae",
   "metadata": {},
   "source": [
    "In the following graph we look at the numeric variable age and compare the observed data against the predicted. We can deduct that age has a relevant weigth in the model, from the shape of the line. Younger ages present a riskier profile to older ones, however, the data looks overdispersed at early ages and with less exposure. This has to be taken into account if we want to extract conclusions from the analysis. Since the objective of this work is to give the necessary tools to conduct a CLTV, we won't get deeper."
   ]
  },
  {
   "cell_type": "code",
   "execution_count": 35,
   "id": "db0992ac",
   "metadata": {},
   "outputs": [],
   "source": [
    "def plot_obs_pred(\n",
    "    df,\n",
    "    feature,\n",
    "    weight,\n",
    "    observed,\n",
    "    predicted,\n",
    "    y_label=None,\n",
    "    title=None,\n",
    "    ax=None,\n",
    "    fill_legend=False,\n",
    "):\n",
    "    \"\"\"Plot observed and predicted - aggregated per feature level.\n",
    "\n",
    "    Parameters\n",
    "    ----------\n",
    "    df : DataFrame\n",
    "        input data\n",
    "    feature: str\n",
    "        a column name of df for the feature to be plotted\n",
    "    weight : str\n",
    "        column name of df with the values of weights or exposure\n",
    "    observed : str\n",
    "        a column name of df with the observed target\n",
    "    predicted : DataFrame\n",
    "        a dataframe, with the same index as df, with the predicted target\n",
    "    fill_legend : bool, default=False\n",
    "        whether to show fill_between legend\n",
    "    \"\"\"\n",
    "    # aggregate observed and predicted variables by feature level\n",
    "    df_ = df.loc[:, [feature, weight]].copy()\n",
    "    df_[\"observed\"] = df[observed] * df[weight]\n",
    "    df_[\"predicted\"] = predicted * df[weight]\n",
    "    df_ = (\n",
    "        df_.groupby([feature])[[weight, \"observed\", \"predicted\"]]\n",
    "        .sum()\n",
    "        .assign(observed=lambda x: x[\"observed\"] / x[weight])\n",
    "        .assign(predicted=lambda x: x[\"predicted\"] / x[weight])\n",
    "    )\n",
    "\n",
    "    ax = df_.loc[:, [\"observed\", \"predicted\"]].plot(style=\".\", ax=ax)\n",
    "    y_max = df_.loc[:, [\"observed\", \"predicted\"]].values.max() * 0.8\n",
    "    p2 = ax.fill_between(\n",
    "        df_.index,\n",
    "        0,\n",
    "        y_max * df_[weight] / df_[weight].values.max(),\n",
    "        color=\"g\",\n",
    "        alpha=0.1,\n",
    "    )\n",
    "    if fill_legend:\n",
    "        ax.legend([p2], [\"{} distribution\".format(feature)])\n",
    "    ax.set(\n",
    "        ylabel=y_label if y_label is not None else None,\n",
    "        title=title if title is not None else \"Train: Observed vs Predicted\",\n",
    "    )\n"
   ]
  },
  {
   "cell_type": "code",
   "execution_count": 118,
   "id": "4ecec9c0",
   "metadata": {},
   "outputs": [
    {
     "data": {
      "image/png": "[encoded data removed]",
      "text/plain": [
       "<Figure size 1600x600 with 2 Axes>"
      ]
     },
     "metadata": {},
     "output_type": "display_data"
    }
   ],
   "source": [
    "fig,ax = plt.subplots(1,2,figsize=(16,6))\n",
    "fig.subplots_adjust(hspace=0.3, wspace=0.2)\n",
    "\n",
    "plot_obs_pred(df=df_train,\n",
    "              feature='edad',\n",
    "              weight='exposicion',\n",
    "              observed='PrimaPura',\n",
    "              predicted=grid_search.predict(X_train),\n",
    "              y_label='Prima Pura',\n",
    "              title='Train Data',\n",
    "              ax=ax[0])\n",
    "\n",
    "plot_obs_pred(df=df_test,\n",
    "              feature='edad',\n",
    "              weight='exposicion',\n",
    "              observed='PrimaPura',\n",
    "              predicted=grid_search.predict(X_test),\n",
    "              y_label='Prima Pura',\n",
    "              title='Test Data',\n",
    "              ax=ax[1])"
   ]
  },
  {
   "cell_type": "markdown",
   "id": "3c8e0842",
   "metadata": {},
   "source": [
    "The last point of analysis is a summary table with the coefficients as log odds and the odds ratio, which is the exponential value of the coefficients. With these we can interpret the feature importance. Generally explained, odds ratio close to the vertical line in 0 (x axis), means the variable has no or little effect on the model. As we go to either sides (positive or negative) the feature importance gains weight.\n",
    "As commented just before, early ages increase the likelihood to have a higher premium while as people get older they tend to have lower costs. Another interesting analysis is to look at the differences in the location of the policy of the household."
   ]
  },
  {
   "cell_type": "code",
   "execution_count": 119,
   "id": "60e21aa7",
   "metadata": {},
   "outputs": [
    {
     "data": {
      "application/vnd.microsoft.datawrangler.viewer.v0+json": {
       "columns": [
        {
         "name": "index",
         "rawType": "int64",
         "type": "integer"
        },
        {
         "name": "Features",
         "rawType": "object",
         "type": "string"
        },
        {
         "name": "Coefficients",
         "rawType": "float64",
         "type": "float"
        },
        {
         "name": "Odds Ratio",
         "rawType": "float64",
         "type": "float"
        }
       ],
       "ref": "22748a18-ded3-43d9-9cfa-0121d2781e1b",
       "rows": [
        [
         "0",
         "edad_0.0",
         "2.1669662741727307",
         "8.731754070918564"
        ],
        [
         "1",
         "edad_1.0",
         "0.6566442636240943",
         "1.9283105630262314"
        ],
        [
         "12",
         "localizacion_Asturias",
         "0.5631603964103681",
         "1.7562140715502343"
        ],
        [
         "11",
         "localizacion_Aragon",
         "0.5618232559137335",
         "1.753867335901693"
        ],
        [
         "9",
         "forma_pago_SEMESTRAL",
         "0.1251236680388138",
         "1.133288595979123"
        ],
        [
         "14",
         "localizacion_Cantabria",
         "0.08242726679453796",
         "1.0859196881468713"
        ],
        [
         "20",
         "contactos_ult_año",
         "0.07834771744039834",
         "1.0814986492391634"
        ],
        [
         "16",
         "localizacion_Cataluña",
         "0.008918798770357672",
         "1.0089586897611558"
        ],
        [
         "13",
         "localizacion_Canarias",
         "-0.005284159270661626",
         "0.994729777340374"
        ],
        [
         "10",
         "localizacion_Andalucia",
         "-0.015411670840878574",
         "0.9847064812059526"
        ],
        [
         "8",
         "forma_pago_MENOR",
         "-0.049074725239760926",
         "0.9521099803936498"
        ],
        [
         "2",
         "edad_2.0",
         "-0.07048938750321627",
         "0.9319376296584181"
        ],
        [
         "7",
         "forma_pago_ANUAL",
         "-0.0760489427990558",
         "0.9267708466900515"
        ],
        [
         "17",
         "localizacion_Islas Baleares",
         "-0.09721694105599168",
         "0.9073591413297318"
        ],
        [
         "19",
         "localizacion_País Vasco",
         "-0.09903340644987434",
         "0.9057124508805685"
        ],
        [
         "15",
         "localizacion_Castilla y León",
         "-0.4757322962799971",
         "0.6214298190562592"
        ],
        [
         "18",
         "localizacion_Madrid",
         "-0.5236512439915775",
         "0.5923537665226378"
        ],
        [
         "3",
         "edad_3.0",
         "-0.5704787171559167",
         "0.5652547767603502"
        ],
        [
         "4",
         "edad_4.0",
         "-0.6524322821631",
         "0.5207775570891537"
        ],
        [
         "5",
         "edad_5.0",
         "-0.7554212437961515",
         "0.46981266736993327"
        ],
        [
         "6",
         "edad_6.0",
         "-0.7747889071784299",
         "0.4608010425252488"
        ]
       ],
       "shape": {
        "columns": 3,
        "rows": 21
       }
      },
      "text/html": [
       "<div>\n",
       "<style scoped>\n",
       "    .dataframe tbody tr th:only-of-type {\n",
       "        vertical-align: middle;\n",
       "    }\n",
       "\n",
       "    .dataframe tbody tr th {\n",
       "        vertical-align: top;\n",
       "    }\n",
       "\n",
       "    .dataframe thead th {\n",
       "        text-align: right;\n",
       "    }\n",
       "</style>\n",
       "<table border=\"1\" class=\"dataframe\">\n",
       "  <thead>\n",
       "    <tr style=\"text-align: right;\">\n",
       "      <th></th>\n",
       "      <th>Features</th>\n",
       "      <th>Coefficients</th>\n",
       "      <th>Odds Ratio</th>\n",
       "    </tr>\n",
       "  </thead>\n",
       "  <tbody>\n",
       "    <tr>\n",
       "      <th>0</th>\n",
       "      <td>edad_0.0</td>\n",
       "      <td>2.166966</td>\n",
       "      <td>8.731754</td>\n",
       "    </tr>\n",
       "    <tr>\n",
       "      <th>1</th>\n",
       "      <td>edad_1.0</td>\n",
       "      <td>0.656644</td>\n",
       "      <td>1.928311</td>\n",
       "    </tr>\n",
       "    <tr>\n",
       "      <th>12</th>\n",
       "      <td>localizacion_Asturias</td>\n",
       "      <td>0.563160</td>\n",
       "      <td>1.756214</td>\n",
       "    </tr>\n",
       "    <tr>\n",
       "      <th>11</th>\n",
       "      <td>localizacion_Aragon</td>\n",
       "      <td>0.561823</td>\n",
       "      <td>1.753867</td>\n",
       "    </tr>\n",
       "    <tr>\n",
       "      <th>9</th>\n",
       "      <td>forma_pago_SEMESTRAL</td>\n",
       "      <td>0.125124</td>\n",
       "      <td>1.133289</td>\n",
       "    </tr>\n",
       "    <tr>\n",
       "      <th>14</th>\n",
       "      <td>localizacion_Cantabria</td>\n",
       "      <td>0.082427</td>\n",
       "      <td>1.085920</td>\n",
       "    </tr>\n",
       "    <tr>\n",
       "      <th>20</th>\n",
       "      <td>contactos_ult_año</td>\n",
       "      <td>0.078348</td>\n",
       "      <td>1.081499</td>\n",
       "    </tr>\n",
       "    <tr>\n",
       "      <th>16</th>\n",
       "      <td>localizacion_Cataluña</td>\n",
       "      <td>0.008919</td>\n",
       "      <td>1.008959</td>\n",
       "    </tr>\n",
       "    <tr>\n",
       "      <th>13</th>\n",
       "      <td>localizacion_Canarias</td>\n",
       "      <td>-0.005284</td>\n",
       "      <td>0.994730</td>\n",
       "    </tr>\n",
       "    <tr>\n",
       "      <th>10</th>\n",
       "      <td>localizacion_Andalucia</td>\n",
       "      <td>-0.015412</td>\n",
       "      <td>0.984706</td>\n",
       "    </tr>\n",
       "    <tr>\n",
       "      <th>8</th>\n",
       "      <td>forma_pago_MENOR</td>\n",
       "      <td>-0.049075</td>\n",
       "      <td>0.952110</td>\n",
       "    </tr>\n",
       "    <tr>\n",
       "      <th>2</th>\n",
       "      <td>edad_2.0</td>\n",
       "      <td>-0.070489</td>\n",
       "      <td>0.931938</td>\n",
       "    </tr>\n",
       "    <tr>\n",
       "      <th>7</th>\n",
       "      <td>forma_pago_ANUAL</td>\n",
       "      <td>-0.076049</td>\n",
       "      <td>0.926771</td>\n",
       "    </tr>\n",
       "    <tr>\n",
       "      <th>17</th>\n",
       "      <td>localizacion_Islas Baleares</td>\n",
       "      <td>-0.097217</td>\n",
       "      <td>0.907359</td>\n",
       "    </tr>\n",
       "    <tr>\n",
       "      <th>19</th>\n",
       "      <td>localizacion_País Vasco</td>\n",
       "      <td>-0.099033</td>\n",
       "      <td>0.905712</td>\n",
       "    </tr>\n",
       "    <tr>\n",
       "      <th>15</th>\n",
       "      <td>localizacion_Castilla y León</td>\n",
       "      <td>-0.475732</td>\n",
       "      <td>0.621430</td>\n",
       "    </tr>\n",
       "    <tr>\n",
       "      <th>18</th>\n",
       "      <td>localizacion_Madrid</td>\n",
       "      <td>-0.523651</td>\n",
       "      <td>0.592354</td>\n",
       "    </tr>\n",
       "    <tr>\n",
       "      <th>3</th>\n",
       "      <td>edad_3.0</td>\n",
       "      <td>-0.570479</td>\n",
       "      <td>0.565255</td>\n",
       "    </tr>\n",
       "    <tr>\n",
       "      <th>4</th>\n",
       "      <td>edad_4.0</td>\n",
       "      <td>-0.652432</td>\n",
       "      <td>0.520778</td>\n",
       "    </tr>\n",
       "    <tr>\n",
       "      <th>5</th>\n",
       "      <td>edad_5.0</td>\n",
       "      <td>-0.755421</td>\n",
       "      <td>0.469813</td>\n",
       "    </tr>\n",
       "    <tr>\n",
       "      <th>6</th>\n",
       "      <td>edad_6.0</td>\n",
       "      <td>-0.774789</td>\n",
       "      <td>0.460801</td>\n",
       "    </tr>\n",
       "  </tbody>\n",
       "</table>\n",
       "</div>"
      ],
      "text/plain": [
       "                        Features  Coefficients  Odds Ratio\n",
       "0                       edad_0.0      2.166966    8.731754\n",
       "1                       edad_1.0      0.656644    1.928311\n",
       "12         localizacion_Asturias      0.563160    1.756214\n",
       "11           localizacion_Aragon      0.561823    1.753867\n",
       "9           forma_pago_SEMESTRAL      0.125124    1.133289\n",
       "14        localizacion_Cantabria      0.082427    1.085920\n",
       "20             contactos_ult_año      0.078348    1.081499\n",
       "16         localizacion_Cataluña      0.008919    1.008959\n",
       "13         localizacion_Canarias     -0.005284    0.994730\n",
       "10        localizacion_Andalucia     -0.015412    0.984706\n",
       "8               forma_pago_MENOR     -0.049075    0.952110\n",
       "2                       edad_2.0     -0.070489    0.931938\n",
       "7               forma_pago_ANUAL     -0.076049    0.926771\n",
       "17   localizacion_Islas Baleares     -0.097217    0.907359\n",
       "19       localizacion_País Vasco     -0.099033    0.905712\n",
       "15  localizacion_Castilla y León     -0.475732    0.621430\n",
       "18           localizacion_Madrid     -0.523651    0.592354\n",
       "3                       edad_3.0     -0.570479    0.565255\n",
       "4                       edad_4.0     -0.652432    0.520778\n",
       "5                       edad_5.0     -0.755421    0.469813\n",
       "6                       edad_6.0     -0.774789    0.460801"
      ]
     },
     "execution_count": 119,
     "metadata": {},
     "output_type": "execute_result"
    }
   ],
   "source": [
    "model_def = grid_search.best_estimator_\n",
    "coefficients = model_def.coef_\n",
    "summary = pd.DataFrame({\n",
    "    'Features':feature_names,\n",
    "    'Coefficients':coefficients,\n",
    "    'Odds Ratio':np.exp(coefficients)\n",
    "}).sort_values(by='Odds Ratio',ascending=False)\n",
    "summary"
   ]
  },
  {
   "cell_type": "code",
   "execution_count": 120,
   "id": "95442fbd",
   "metadata": {},
   "outputs": [
    {
     "data": {
      "application/vnd.plotly.v1+json": {
       "config": {
        "plotlyServerURL": "https://plot.ly"
       },
       "data": [
        {
         "customdata": {
          "bdata": "xZ42eKh2IUAHqkstXNr+PwlVIe1zGfw/1YYTMtcP/D+7jwo58yHyP/fFqlLtX/E/92cSh9FN8T91oPjdsSTwP7oYwYrT1O8/sQqeKreC7z+3jH9Zr3fuP+ZtKd1u0u0/pnCtVRuo7T9jnLcJFgntP+aVg62Y++w/92KzycDi4z+bEdzij/TiP9T9gi+RFuI/vAkGsjWq4D/JbGYmaRHePxr05qfDfd0/",
          "dtype": "f8",
          "shape": "21, 1"
         },
         "hovertemplate": "Coefficients=%{x}<br>Features=%{y}<br>Odds Ratio=%{customdata[0]}<extra></extra>",
         "legendgroup": "",
         "marker": {
          "color": "#636efa",
          "pattern": {
           "shape": ""
          }
         },
         "name": "",
         "orientation": "h",
         "showlegend": false,
         "textposition": "auto",
         "type": "bar",
         "x": {
          "bdata": "09r4afJVAUA646vUOgPlP4WEn/NoBeI/4gPJw3T64T98VBdnDQTAP5pjLg/0GbU/Lm0flJgOtD+ga07oBESCPw3OEbTXpHW/vgTocSeQj78ZD+6HUiCpvzWYCq6XC7K/PqI3ivF3s7964HOeNeO4v0/n6dlAWrm/xRuL32Vy3r9qg+5AwMHgv1L1J5VcQeK/V9hXqrng5L8R3BksaSzov2VRNBsSy+i/",
          "dtype": "f8"
         },
         "xaxis": "x",
         "y": [
          "edad_0.0",
          "edad_1.0",
          "localizacion_Asturias",
          "localizacion_Aragon",
          "forma_pago_SEMESTRAL",
          "localizacion_Cantabria",
          "contactos_ult_año",
          "localizacion_Cataluña",
          "localizacion_Canarias",
          "localizacion_Andalucia",
          "forma_pago_MENOR",
          "edad_2.0",
          "forma_pago_ANUAL",
          "localizacion_Islas Baleares",
          "localizacion_País Vasco",
          "localizacion_Castilla y León",
          "localizacion_Madrid",
          "edad_3.0",
          "edad_4.0",
          "edad_5.0",
          "edad_6.0"
         ],
         "yaxis": "y"
        }
       ],
       "layout": {
        "barmode": "relative",
        "legend": {
         "tracegroupgap": 0
        },
        "margin": {
         "t": 60
        },
        "shapes": [
         {
          "line": {
           "color": "black",
           "width": 3
          },
          "type": "line",
          "x0": 0,
          "x1": 0,
          "xref": "x",
          "y0": 0,
          "y1": 1,
          "yref": "y domain"
         }
        ],
        "template": {
         "data": {
          "bar": [
           {
            "error_x": {
             "color": "#2a3f5f"
            },
            "error_y": {
             "color": "#2a3f5f"
            },
            "marker": {
             "line": {
              "color": "#E5ECF6",
              "width": 0.5
             },
             "pattern": {
              "fillmode": "overlay",
              "size": 10,
              "solidity": 0.2
             }
            },
            "type": "bar"
           }
          ],
          "barpolar": [
           {
            "marker": {
             "line": {
              "color": "#E5ECF6",
              "width": 0.5
             },
             "pattern": {
              "fillmode": "overlay",
              "size": 10,
              "solidity": 0.2
             }
            },
            "type": "barpolar"
           }
          ],
          "carpet": [
           {
            "aaxis": {
             "endlinecolor": "#2a3f5f",
             "gridcolor": "white",
             "linecolor": "white",
             "minorgridcolor": "white",
             "startlinecolor": "#2a3f5f"
            },
            "baxis": {
             "endlinecolor": "#2a3f5f",
             "gridcolor": "white",
             "linecolor": "white",
             "minorgridcolor": "white",
             "startlinecolor": "#2a3f5f"
            },
            "type": "carpet"
           }
          ],
          "choropleth": [
           {
            "colorbar": {
             "outlinewidth": 0,
             "ticks": ""
            },
            "type": "choropleth"
           }
          ],
          "contour": [
           {
            "colorbar": {
             "outlinewidth": 0,
             "ticks": ""
            },
            "colorscale": [
             [
              0,
              "#0d0887"
             ],
             [
              0.1111111111111111,
              "#46039f"
             ],
             [
              0.2222222222222222,
              "#7201a8"
             ],
             [
              0.3333333333333333,
              "#9c179e"
             ],
             [
              0.4444444444444444,
              "#bd3786"
             ],
             [
              0.5555555555555556,
              "#d8576b"
             ],
             [
              0.6666666666666666,
              "#ed7953"
             ],
             [
              0.7777777777777778,
              "#fb9f3a"
             ],
             [
              0.8888888888888888,
              "#fdca26"
             ],
             [
              1,
              "#f0f921"
             ]
            ],
            "type": "contour"
           }
          ],
          "contourcarpet": [
           {
            "colorbar": {
             "outlinewidth": 0,
             "ticks": ""
            },
            "type": "contourcarpet"
           }
          ],
          "heatmap": [
           {
            "colorbar": {
             "outlinewidth": 0,
             "ticks": ""
            },
            "colorscale": [
             [
              0,
              "#0d0887"
             ],
             [
              0.1111111111111111,
              "#46039f"
             ],
             [
              0.2222222222222222,
              "#7201a8"
             ],
             [
              0.3333333333333333,
              "#9c179e"
             ],
             [
              0.4444444444444444,
              "#bd3786"
             ],
             [
              0.5555555555555556,
              "#d8576b"
             ],
             [
              0.6666666666666666,
              "#ed7953"
             ],
             [
              0.7777777777777778,
              "#fb9f3a"
             ],
             [
              0.8888888888888888,
              "#fdca26"
             ],
             [
              1,
              "#f0f921"
             ]
            ],
            "type": "heatmap"
           }
          ],
          "histogram": [
           {
            "marker": {
             "pattern": {
              "fillmode": "overlay",
              "size": 10,
              "solidity": 0.2
             }
            },
            "type": "histogram"
           }
          ],
          "histogram2d": [
           {
            "colorbar": {
             "outlinewidth": 0,
             "ticks": ""
            },
            "colorscale": [
             [
              0,
              "#0d0887"
             ],
             [
              0.1111111111111111,
              "#46039f"
             ],
             [
              0.2222222222222222,
              "#7201a8"
             ],
             [
              0.3333333333333333,
              "#9c179e"
             ],
             [
              0.4444444444444444,
              "#bd3786"
             ],
             [
              0.5555555555555556,
              "#d8576b"
             ],
             [
              0.6666666666666666,
              "#ed7953"
             ],
             [
              0.7777777777777778,
              "#fb9f3a"
             ],
             [
              0.8888888888888888,
              "#fdca26"
             ],
             [
              1,
              "#f0f921"
             ]
            ],
            "type": "histogram2d"
           }
          ],
          "histogram2dcontour": [
           {
            "colorbar": {
             "outlinewidth": 0,
             "ticks": ""
            },
            "colorscale": [
             [
              0,
              "#0d0887"
             ],
             [
              0.1111111111111111,
              "#46039f"
             ],
             [
              0.2222222222222222,
              "#7201a8"
             ],
             [
              0.3333333333333333,
              "#9c179e"
             ],
             [
              0.4444444444444444,
              "#bd3786"
             ],
             [
              0.5555555555555556,
              "#d8576b"
             ],
             [
              0.6666666666666666,
              "#ed7953"
             ],
             [
              0.7777777777777778,
              "#fb9f3a"
             ],
             [
              0.8888888888888888,
              "#fdca26"
             ],
             [
              1,
              "#f0f921"
             ]
            ],
            "type": "histogram2dcontour"
           }
          ],
          "mesh3d": [
           {
            "colorbar": {
             "outlinewidth": 0,
             "ticks": ""
            },
            "type": "mesh3d"
           }
          ],
          "parcoords": [
           {
            "line": {
             "colorbar": {
              "outlinewidth": 0,
              "ticks": ""
             }
            },
            "type": "parcoords"
           }
          ],
          "pie": [
           {
            "automargin": true,
            "type": "pie"
           }
          ],
          "scatter": [
           {
            "fillpattern": {
             "fillmode": "overlay",
             "size": 10,
             "solidity": 0.2
            },
            "type": "scatter"
           }
          ],
          "scatter3d": [
           {
            "line": {
             "colorbar": {
              "outlinewidth": 0,
              "ticks": ""
             }
            },
            "marker": {
             "colorbar": {
              "outlinewidth": 0,
              "ticks": ""
             }
            },
            "type": "scatter3d"
           }
          ],
          "scattercarpet": [
           {
            "marker": {
             "colorbar": {
              "outlinewidth": 0,
              "ticks": ""
             }
            },
            "type": "scattercarpet"
           }
          ],
          "scattergeo": [
           {
            "marker": {
             "colorbar": {
              "outlinewidth": 0,
              "ticks": ""
             }
            },
            "type": "scattergeo"
           }
          ],
          "scattergl": [
           {
            "marker": {
             "colorbar": {
              "outlinewidth": 0,
              "ticks": ""
             }
            },
            "type": "scattergl"
           }
          ],
          "scattermap": [
           {
            "marker": {
             "colorbar": {
              "outlinewidth": 0,
              "ticks": ""
             }
            },
            "type": "scattermap"
           }
          ],
          "scattermapbox": [
           {
            "marker": {
             "colorbar": {
              "outlinewidth": 0,
              "ticks": ""
             }
            },
            "type": "scattermapbox"
           }
          ],
          "scatterpolar": [
           {
            "marker": {
             "colorbar": {
              "outlinewidth": 0,
              "ticks": ""
             }
            },
            "type": "scatterpolar"
           }
          ],
          "scatterpolargl": [
           {
            "marker": {
             "colorbar": {
              "outlinewidth": 0,
              "ticks": ""
             }
            },
            "type": "scatterpolargl"
           }
          ],
          "scatterternary": [
           {
            "marker": {
             "colorbar": {
              "outlinewidth": 0,
              "ticks": ""
             }
            },
            "type": "scatterternary"
           }
          ],
          "surface": [
           {
            "colorbar": {
             "outlinewidth": 0,
             "ticks": ""
            },
            "colorscale": [
             [
              0,
              "#0d0887"
             ],
             [
              0.1111111111111111,
              "#46039f"
             ],
             [
              0.2222222222222222,
              "#7201a8"
             ],
             [
              0.3333333333333333,
              "#9c179e"
             ],
             [
              0.4444444444444444,
              "#bd3786"
             ],
             [
              0.5555555555555556,
              "#d8576b"
             ],
             [
              0.6666666666666666,
              "#ed7953"
             ],
             [
              0.7777777777777778,
              "#fb9f3a"
             ],
             [
              0.8888888888888888,
              "#fdca26"
             ],
             [
              1,
              "#f0f921"
             ]
            ],
            "type": "surface"
           }
          ],
          "table": [
           {
            "cells": {
             "fill": {
              "color": "#EBF0F8"
             },
             "line": {
              "color": "white"
             }
            },
            "header": {
             "fill": {
              "color": "#C8D4E3"
             },
             "line": {
              "color": "white"
             }
            },
            "type": "table"
           }
          ]
         },
         "layout": {
          "annotationdefaults": {
           "arrowcolor": "#2a3f5f",
           "arrowhead": 0,
           "arrowwidth": 1
          },
          "autotypenumbers": "strict",
          "coloraxis": {
           "colorbar": {
            "outlinewidth": 0,
            "ticks": ""
           }
          },
          "colorscale": {
           "diverging": [
            [
             0,
             "#8e0152"
            ],
            [
             0.1,
             "#c51b7d"
            ],
            [
             0.2,
             "#de77ae"
            ],
            [
             0.3,
             "#f1b6da"
            ],
            [
             0.4,
             "#fde0ef"
            ],
            [
             0.5,
             "#f7f7f7"
            ],
            [
             0.6,
             "#e6f5d0"
            ],
            [
             0.7,
             "#b8e186"
            ],
            [
             0.8,
             "#7fbc41"
            ],
            [
             0.9,
             "#4d9221"
            ],
            [
             1,
             "#276419"
            ]
           ],
           "sequential": [
            [
             0,
             "#0d0887"
            ],
            [
             0.1111111111111111,
             "#46039f"
            ],
            [
             0.2222222222222222,
             "#7201a8"
            ],
            [
             0.3333333333333333,
             "#9c179e"
            ],
            [
             0.4444444444444444,
             "#bd3786"
            ],
            [
             0.5555555555555556,
             "#d8576b"
            ],
            [
             0.6666666666666666,
             "#ed7953"
            ],
            [
             0.7777777777777778,
             "#fb9f3a"
            ],
            [
             0.8888888888888888,
             "#fdca26"
            ],
            [
             1,
             "#f0f921"
            ]
           ],
           "sequentialminus": [
            [
             0,
             "#0d0887"
            ],
            [
             0.1111111111111111,
             "#46039f"
            ],
            [
             0.2222222222222222,
             "#7201a8"
            ],
            [
             0.3333333333333333,
             "#9c179e"
            ],
            [
             0.4444444444444444,
             "#bd3786"
            ],
            [
             0.5555555555555556,
             "#d8576b"
            ],
            [
             0.6666666666666666,
             "#ed7953"
            ],
            [
             0.7777777777777778,
             "#fb9f3a"
            ],
            [
             0.8888888888888888,
             "#fdca26"
            ],
            [
             1,
             "#f0f921"
            ]
           ]
          },
          "colorway": [
           "#636efa",
           "#EF553B",
           "#00cc96",
           "#ab63fa",
           "#FFA15A",
           "#19d3f3",
           "#FF6692",
           "#B6E880",
           "#FF97FF",
           "#FECB52"
          ],
          "font": {
           "color": "#2a3f5f"
          },
          "geo": {
           "bgcolor": "white",
           "lakecolor": "white",
           "landcolor": "#E5ECF6",
           "showlakes": true,
           "showland": true,
           "subunitcolor": "white"
          },
          "hoverlabel": {
           "align": "left"
          },
          "hovermode": "closest",
          "mapbox": {
           "style": "light"
          },
          "paper_bgcolor": "white",
          "plot_bgcolor": "#E5ECF6",
          "polar": {
           "angularaxis": {
            "gridcolor": "white",
            "linecolor": "white",
            "ticks": ""
           },
           "bgcolor": "#E5ECF6",
           "radialaxis": {
            "gridcolor": "white",
            "linecolor": "white",
            "ticks": ""
           }
          },
          "scene": {
           "xaxis": {
            "backgroundcolor": "#E5ECF6",
            "gridcolor": "white",
            "gridwidth": 2,
            "linecolor": "white",
            "showbackground": true,
            "ticks": "",
            "zerolinecolor": "white"
           },
           "yaxis": {
            "backgroundcolor": "#E5ECF6",
            "gridcolor": "white",
            "gridwidth": 2,
            "linecolor": "white",
            "showbackground": true,
            "ticks": "",
            "zerolinecolor": "white"
           },
           "zaxis": {
            "backgroundcolor": "#E5ECF6",
            "gridcolor": "white",
            "gridwidth": 2,
            "linecolor": "white",
            "showbackground": true,
            "ticks": "",
            "zerolinecolor": "white"
           }
          },
          "shapedefaults": {
           "line": {
            "color": "#2a3f5f"
           }
          },
          "ternary": {
           "aaxis": {
            "gridcolor": "white",
            "linecolor": "white",
            "ticks": ""
           },
           "baxis": {
            "gridcolor": "white",
            "linecolor": "white",
            "ticks": ""
           },
           "bgcolor": "#E5ECF6",
           "caxis": {
            "gridcolor": "white",
            "linecolor": "white",
            "ticks": ""
           }
          },
          "title": {
           "x": 0.05
          },
          "xaxis": {
           "automargin": true,
           "gridcolor": "white",
           "linecolor": "white",
           "ticks": "",
           "title": {
            "standoff": 15
           },
           "zerolinecolor": "white",
           "zerolinewidth": 2
          },
          "yaxis": {
           "automargin": true,
           "gridcolor": "white",
           "linecolor": "white",
           "ticks": "",
           "title": {
            "standoff": 15
           },
           "zerolinecolor": "white",
           "zerolinewidth": 2
          }
         }
        },
        "xaxis": {
         "anchor": "y",
         "domain": [
          0,
          1
         ],
         "title": {
          "text": "Coefficients"
         }
        },
        "yaxis": {
         "anchor": "x",
         "domain": [
          0,
          1
         ],
         "title": {
          "text": "Features"
         }
        }
       }
      }
     },
     "metadata": {},
     "output_type": "display_data"
    }
   ],
   "source": [
    "fig = px.bar(data_frame=summary,x='Coefficients',y='Features',hover_data=['Odds Ratio'])\n",
    "fig.add_vline(x=0,line_width=3,line_color='black')\n",
    "fig.show()"
   ]
  },
  {
   "cell_type": "markdown",
   "id": "0fffc0f8",
   "metadata": {},
   "source": [
    "## PREDICTIONS\n",
    "\n",
    "Finally, extract the predictions for the cost model and we are able to put all together the final CLTV."
   ]
  },
  {
   "cell_type": "code",
   "execution_count": 121,
   "id": "5c2064ec",
   "metadata": {},
   "outputs": [],
   "source": [
    "X = df\n",
    "y = df['PrimaPura']"
   ]
  },
  {
   "cell_type": "code",
   "execution_count": 122,
   "id": "244813c7",
   "metadata": {},
   "outputs": [],
   "source": [
    "X_train,X_test,y_train,y_test = train_test_split(X,y,random_state=43)"
   ]
  },
  {
   "cell_type": "code",
   "execution_count": 123,
   "id": "b28125c4",
   "metadata": {},
   "outputs": [],
   "source": [
    "model_def = grid_search.best_estimator_"
   ]
  },
  {
   "cell_type": "code",
   "execution_count": 124,
   "id": "738793bd",
   "metadata": {},
   "outputs": [],
   "source": [
    "preprocessor_cost = Pipeline([('column_transformer',column_trans),\n",
    "                              ( 'modelo_coste',model_def)])"
   ]
  },
  {
   "cell_type": "code",
   "execution_count": 125,
   "id": "65211b06",
   "metadata": {},
   "outputs": [
    {
     "data": {
      "text/html": [
       "<style>#sk-container-id-2 {\n",
       "  /* Definition of color scheme common for light and dark mode */\n",
       "  --sklearn-color-text: #000;\n",
       "  --sklearn-color-text-muted: #666;\n",
       "  --sklearn-color-line: gray;\n",
       "  /* Definition of color scheme for unfitted estimators */\n",
       "  --sklearn-color-unfitted-level-0: #fff5e6;\n",
       "  --sklearn-color-unfitted-level-1: #f6e4d2;\n",
       "  --sklearn-color-unfitted-level-2: #ffe0b3;\n",
       "  --sklearn-color-unfitted-level-3: chocolate;\n",
       "  /* Definition of color scheme for fitted estimators */\n",
       "  --sklearn-color-fitted-level-0: #f0f8ff;\n",
       "  --sklearn-color-fitted-level-1: #d4ebff;\n",
       "  --sklearn-color-fitted-level-2: #b3dbfd;\n",
       "  --sklearn-color-fitted-level-3: cornflowerblue;\n",
       "\n",
       "  /* Specific color for light theme */\n",
       "  --sklearn-color-text-on-default-background: var(--sg-text-color, var(--theme-code-foreground, var(--jp-content-font-color1, black)));\n",
       "  --sklearn-color-background: var(--sg-background-color, var(--theme-background, var(--jp-layout-color0, white)));\n",
       "  --sklearn-color-border-box: var(--sg-text-color, var(--theme-code-foreground, var(--jp-content-font-color1, black)));\n",
       "  --sklearn-color-icon: #696969;\n",
       "\n",
       "  @media (prefers-color-scheme: dark) {\n",
       "    /* Redefinition of color scheme for dark theme */\n",
       "    --sklearn-color-text-on-default-background: var(--sg-text-color, var(--theme-code-foreground, var(--jp-content-font-color1, white)));\n",
       "    --sklearn-color-background: var(--sg-background-color, var(--theme-background, var(--jp-layout-color0, #111)));\n",
       "    --sklearn-color-border-box: var(--sg-text-color, var(--theme-code-foreground, var(--jp-content-font-color1, white)));\n",
       "    --sklearn-color-icon: #878787;\n",
       "  }\n",
       "}\n",
       "\n",
       "#sk-container-id-2 {\n",
       "  color: var(--sklearn-color-text);\n",
       "}\n",
       "\n",
       "#sk-container-id-2 pre {\n",
       "  padding: 0;\n",
       "}\n",
       "\n",
       "#sk-container-id-2 input.sk-hidden--visually {\n",
       "  border: 0;\n",
       "  clip: rect(1px 1px 1px 1px);\n",
       "  clip: rect(1px, 1px, 1px, 1px);\n",
       "  height: 1px;\n",
       "  margin: -1px;\n",
       "  overflow: hidden;\n",
       "  padding: 0;\n",
       "  position: absolute;\n",
       "  width: 1px;\n",
       "}\n",
       "\n",
       "#sk-container-id-2 div.sk-dashed-wrapped {\n",
       "  border: 1px dashed var(--sklearn-color-line);\n",
       "  margin: 0 0.4em 0.5em 0.4em;\n",
       "  box-sizing: border-box;\n",
       "  padding-bottom: 0.4em;\n",
       "  background-color: var(--sklearn-color-background);\n",
       "}\n",
       "\n",
       "#sk-container-id-2 div.sk-container {\n",
       "  /* jupyter's `normalize.less` sets `[hidden] { display: none; }`\n",
       "     but bootstrap.min.css set `[hidden] { display: none !important; }`\n",
       "     so we also need the `!important` here to be able to override the\n",
       "     default hidden behavior on the sphinx rendered scikit-learn.org.\n",
       "     See: https://github.com/scikit-learn/scikit-learn/issues/21755 */\n",
       "  display: inline-block !important;\n",
       "  position: relative;\n",
       "}\n",
       "\n",
       "#sk-container-id-2 div.sk-text-repr-fallback {\n",
       "  display: none;\n",
       "}\n",
       "\n",
       "div.sk-parallel-item,\n",
       "div.sk-serial,\n",
       "div.sk-item {\n",
       "  /* draw centered vertical line to link estimators */\n",
       "  background-image: linear-gradient(var(--sklearn-color-text-on-default-background), var(--sklearn-color-text-on-default-background));\n",
       "  background-size: 2px 100%;\n",
       "  background-repeat: no-repeat;\n",
       "  background-position: center center;\n",
       "}\n",
       "\n",
       "/* Parallel-specific style estimator block */\n",
       "\n",
       "#sk-container-id-2 div.sk-parallel-item::after {\n",
       "  content: \"\";\n",
       "  width: 100%;\n",
       "  border-bottom: 2px solid var(--sklearn-color-text-on-default-background);\n",
       "  flex-grow: 1;\n",
       "}\n",
       "\n",
       "#sk-container-id-2 div.sk-parallel {\n",
       "  display: flex;\n",
       "  align-items: stretch;\n",
       "  justify-content: center;\n",
       "  background-color: var(--sklearn-color-background);\n",
       "  position: relative;\n",
       "}\n",
       "\n",
       "#sk-container-id-2 div.sk-parallel-item {\n",
       "  display: flex;\n",
       "  flex-direction: column;\n",
       "}\n",
       "\n",
       "#sk-container-id-2 div.sk-parallel-item:first-child::after {\n",
       "  align-self: flex-end;\n",
       "  width: 50%;\n",
       "}\n",
       "\n",
       "#sk-container-id-2 div.sk-parallel-item:last-child::after {\n",
       "  align-self: flex-start;\n",
       "  width: 50%;\n",
       "}\n",
       "\n",
       "#sk-container-id-2 div.sk-parallel-item:only-child::after {\n",
       "  width: 0;\n",
       "}\n",
       "\n",
       "/* Serial-specific style estimator block */\n",
       "\n",
       "#sk-container-id-2 div.sk-serial {\n",
       "  display: flex;\n",
       "  flex-direction: column;\n",
       "  align-items: center;\n",
       "  background-color: var(--sklearn-color-background);\n",
       "  padding-right: 1em;\n",
       "  padding-left: 1em;\n",
       "}\n",
       "\n",
       "\n",
       "/* Toggleable style: style used for estimator/Pipeline/ColumnTransformer box that is\n",
       "clickable and can be expanded/collapsed.\n",
       "- Pipeline and ColumnTransformer use this feature and define the default style\n",
       "- Estimators will overwrite some part of the style using the `sk-estimator` class\n",
       "*/\n",
       "\n",
       "/* Pipeline and ColumnTransformer style (default) */\n",
       "\n",
       "#sk-container-id-2 div.sk-toggleable {\n",
       "  /* Default theme specific background. It is overwritten whether we have a\n",
       "  specific estimator or a Pipeline/ColumnTransformer */\n",
       "  background-color: var(--sklearn-color-background);\n",
       "}\n",
       "\n",
       "/* Toggleable label */\n",
       "#sk-container-id-2 label.sk-toggleable__label {\n",
       "  cursor: pointer;\n",
       "  display: flex;\n",
       "  width: 100%;\n",
       "  margin-bottom: 0;\n",
       "  padding: 0.5em;\n",
       "  box-sizing: border-box;\n",
       "  text-align: center;\n",
       "  align-items: start;\n",
       "  justify-content: space-between;\n",
       "  gap: 0.5em;\n",
       "}\n",
       "\n",
       "#sk-container-id-2 label.sk-toggleable__label .caption {\n",
       "  font-size: 0.6rem;\n",
       "  font-weight: lighter;\n",
       "  color: var(--sklearn-color-text-muted);\n",
       "}\n",
       "\n",
       "#sk-container-id-2 label.sk-toggleable__label-arrow:before {\n",
       "  /* Arrow on the left of the label */\n",
       "  content: \"▸\";\n",
       "  float: left;\n",
       "  margin-right: 0.25em;\n",
       "  color: var(--sklearn-color-icon);\n",
       "}\n",
       "\n",
       "#sk-container-id-2 label.sk-toggleable__label-arrow:hover:before {\n",
       "  color: var(--sklearn-color-text);\n",
       "}\n",
       "\n",
       "/* Toggleable content - dropdown */\n",
       "\n",
       "#sk-container-id-2 div.sk-toggleable__content {\n",
       "  max-height: 0;\n",
       "  max-width: 0;\n",
       "  overflow: hidden;\n",
       "  text-align: left;\n",
       "  /* unfitted */\n",
       "  background-color: var(--sklearn-color-unfitted-level-0);\n",
       "}\n",
       "\n",
       "#sk-container-id-2 div.sk-toggleable__content.fitted {\n",
       "  /* fitted */\n",
       "  background-color: var(--sklearn-color-fitted-level-0);\n",
       "}\n",
       "\n",
       "#sk-container-id-2 div.sk-toggleable__content pre {\n",
       "  margin: 0.2em;\n",
       "  border-radius: 0.25em;\n",
       "  color: var(--sklearn-color-text);\n",
       "  /* unfitted */\n",
       "  background-color: var(--sklearn-color-unfitted-level-0);\n",
       "}\n",
       "\n",
       "#sk-container-id-2 div.sk-toggleable__content.fitted pre {\n",
       "  /* unfitted */\n",
       "  background-color: var(--sklearn-color-fitted-level-0);\n",
       "}\n",
       "\n",
       "#sk-container-id-2 input.sk-toggleable__control:checked~div.sk-toggleable__content {\n",
       "  /* Expand drop-down */\n",
       "  max-height: 200px;\n",
       "  max-width: 100%;\n",
       "  overflow: auto;\n",
       "}\n",
       "\n",
       "#sk-container-id-2 input.sk-toggleable__control:checked~label.sk-toggleable__label-arrow:before {\n",
       "  content: \"▾\";\n",
       "}\n",
       "\n",
       "/* Pipeline/ColumnTransformer-specific style */\n",
       "\n",
       "#sk-container-id-2 div.sk-label input.sk-toggleable__control:checked~label.sk-toggleable__label {\n",
       "  color: var(--sklearn-color-text);\n",
       "  background-color: var(--sklearn-color-unfitted-level-2);\n",
       "}\n",
       "\n",
       "#sk-container-id-2 div.sk-label.fitted input.sk-toggleable__control:checked~label.sk-toggleable__label {\n",
       "  background-color: var(--sklearn-color-fitted-level-2);\n",
       "}\n",
       "\n",
       "/* Estimator-specific style */\n",
       "\n",
       "/* Colorize estimator box */\n",
       "#sk-container-id-2 div.sk-estimator input.sk-toggleable__control:checked~label.sk-toggleable__label {\n",
       "  /* unfitted */\n",
       "  background-color: var(--sklearn-color-unfitted-level-2);\n",
       "}\n",
       "\n",
       "#sk-container-id-2 div.sk-estimator.fitted input.sk-toggleable__control:checked~label.sk-toggleable__label {\n",
       "  /* fitted */\n",
       "  background-color: var(--sklearn-color-fitted-level-2);\n",
       "}\n",
       "\n",
       "#sk-container-id-2 div.sk-label label.sk-toggleable__label,\n",
       "#sk-container-id-2 div.sk-label label {\n",
       "  /* The background is the default theme color */\n",
       "  color: var(--sklearn-color-text-on-default-background);\n",
       "}\n",
       "\n",
       "/* On hover, darken the color of the background */\n",
       "#sk-container-id-2 div.sk-label:hover label.sk-toggleable__label {\n",
       "  color: var(--sklearn-color-text);\n",
       "  background-color: var(--sklearn-color-unfitted-level-2);\n",
       "}\n",
       "\n",
       "/* Label box, darken color on hover, fitted */\n",
       "#sk-container-id-2 div.sk-label.fitted:hover label.sk-toggleable__label.fitted {\n",
       "  color: var(--sklearn-color-text);\n",
       "  background-color: var(--sklearn-color-fitted-level-2);\n",
       "}\n",
       "\n",
       "/* Estimator label */\n",
       "\n",
       "#sk-container-id-2 div.sk-label label {\n",
       "  font-family: monospace;\n",
       "  font-weight: bold;\n",
       "  display: inline-block;\n",
       "  line-height: 1.2em;\n",
       "}\n",
       "\n",
       "#sk-container-id-2 div.sk-label-container {\n",
       "  text-align: center;\n",
       "}\n",
       "\n",
       "/* Estimator-specific */\n",
       "#sk-container-id-2 div.sk-estimator {\n",
       "  font-family: monospace;\n",
       "  border: 1px dotted var(--sklearn-color-border-box);\n",
       "  border-radius: 0.25em;\n",
       "  box-sizing: border-box;\n",
       "  margin-bottom: 0.5em;\n",
       "  /* unfitted */\n",
       "  background-color: var(--sklearn-color-unfitted-level-0);\n",
       "}\n",
       "\n",
       "#sk-container-id-2 div.sk-estimator.fitted {\n",
       "  /* fitted */\n",
       "  background-color: var(--sklearn-color-fitted-level-0);\n",
       "}\n",
       "\n",
       "/* on hover */\n",
       "#sk-container-id-2 div.sk-estimator:hover {\n",
       "  /* unfitted */\n",
       "  background-color: var(--sklearn-color-unfitted-level-2);\n",
       "}\n",
       "\n",
       "#sk-container-id-2 div.sk-estimator.fitted:hover {\n",
       "  /* fitted */\n",
       "  background-color: var(--sklearn-color-fitted-level-2);\n",
       "}\n",
       "\n",
       "/* Specification for estimator info (e.g. \"i\" and \"?\") */\n",
       "\n",
       "/* Common style for \"i\" and \"?\" */\n",
       "\n",
       ".sk-estimator-doc-link,\n",
       "a:link.sk-estimator-doc-link,\n",
       "a:visited.sk-estimator-doc-link {\n",
       "  float: right;\n",
       "  font-size: smaller;\n",
       "  line-height: 1em;\n",
       "  font-family: monospace;\n",
       "  background-color: var(--sklearn-color-background);\n",
       "  border-radius: 1em;\n",
       "  height: 1em;\n",
       "  width: 1em;\n",
       "  text-decoration: none !important;\n",
       "  margin-left: 0.5em;\n",
       "  text-align: center;\n",
       "  /* unfitted */\n",
       "  border: var(--sklearn-color-unfitted-level-1) 1pt solid;\n",
       "  color: var(--sklearn-color-unfitted-level-1);\n",
       "}\n",
       "\n",
       ".sk-estimator-doc-link.fitted,\n",
       "a:link.sk-estimator-doc-link.fitted,\n",
       "a:visited.sk-estimator-doc-link.fitted {\n",
       "  /* fitted */\n",
       "  border: var(--sklearn-color-fitted-level-1) 1pt solid;\n",
       "  color: var(--sklearn-color-fitted-level-1);\n",
       "}\n",
       "\n",
       "/* On hover */\n",
       "div.sk-estimator:hover .sk-estimator-doc-link:hover,\n",
       ".sk-estimator-doc-link:hover,\n",
       "div.sk-label-container:hover .sk-estimator-doc-link:hover,\n",
       ".sk-estimator-doc-link:hover {\n",
       "  /* unfitted */\n",
       "  background-color: var(--sklearn-color-unfitted-level-3);\n",
       "  color: var(--sklearn-color-background);\n",
       "  text-decoration: none;\n",
       "}\n",
       "\n",
       "div.sk-estimator.fitted:hover .sk-estimator-doc-link.fitted:hover,\n",
       ".sk-estimator-doc-link.fitted:hover,\n",
       "div.sk-label-container:hover .sk-estimator-doc-link.fitted:hover,\n",
       ".sk-estimator-doc-link.fitted:hover {\n",
       "  /* fitted */\n",
       "  background-color: var(--sklearn-color-fitted-level-3);\n",
       "  color: var(--sklearn-color-background);\n",
       "  text-decoration: none;\n",
       "}\n",
       "\n",
       "/* Span, style for the box shown on hovering the info icon */\n",
       ".sk-estimator-doc-link span {\n",
       "  display: none;\n",
       "  z-index: 9999;\n",
       "  position: relative;\n",
       "  font-weight: normal;\n",
       "  right: .2ex;\n",
       "  padding: .5ex;\n",
       "  margin: .5ex;\n",
       "  width: min-content;\n",
       "  min-width: 20ex;\n",
       "  max-width: 50ex;\n",
       "  color: var(--sklearn-color-text);\n",
       "  box-shadow: 2pt 2pt 4pt #999;\n",
       "  /* unfitted */\n",
       "  background: var(--sklearn-color-unfitted-level-0);\n",
       "  border: .5pt solid var(--sklearn-color-unfitted-level-3);\n",
       "}\n",
       "\n",
       ".sk-estimator-doc-link.fitted span {\n",
       "  /* fitted */\n",
       "  background: var(--sklearn-color-fitted-level-0);\n",
       "  border: var(--sklearn-color-fitted-level-3);\n",
       "}\n",
       "\n",
       ".sk-estimator-doc-link:hover span {\n",
       "  display: block;\n",
       "}\n",
       "\n",
       "/* \"?\"-specific style due to the `<a>` HTML tag */\n",
       "\n",
       "#sk-container-id-2 a.estimator_doc_link {\n",
       "  float: right;\n",
       "  font-size: 1rem;\n",
       "  line-height: 1em;\n",
       "  font-family: monospace;\n",
       "  background-color: var(--sklearn-color-background);\n",
       "  border-radius: 1rem;\n",
       "  height: 1rem;\n",
       "  width: 1rem;\n",
       "  text-decoration: none;\n",
       "  /* unfitted */\n",
       "  color: var(--sklearn-color-unfitted-level-1);\n",
       "  border: var(--sklearn-color-unfitted-level-1) 1pt solid;\n",
       "}\n",
       "\n",
       "#sk-container-id-2 a.estimator_doc_link.fitted {\n",
       "  /* fitted */\n",
       "  border: var(--sklearn-color-fitted-level-1) 1pt solid;\n",
       "  color: var(--sklearn-color-fitted-level-1);\n",
       "}\n",
       "\n",
       "/* On hover */\n",
       "#sk-container-id-2 a.estimator_doc_link:hover {\n",
       "  /* unfitted */\n",
       "  background-color: var(--sklearn-color-unfitted-level-3);\n",
       "  color: var(--sklearn-color-background);\n",
       "  text-decoration: none;\n",
       "}\n",
       "\n",
       "#sk-container-id-2 a.estimator_doc_link.fitted:hover {\n",
       "  /* fitted */\n",
       "  background-color: var(--sklearn-color-fitted-level-3);\n",
       "}\n",
       "</style><div id=\"sk-container-id-2\" class=\"sk-top-container\"><div class=\"sk-text-repr-fallback\"><pre>Pipeline(steps=[(&#x27;column_transformer&#x27;,\n",
       "                 ColumnTransformer(transformers=[(&#x27;binned_numeric&#x27;,\n",
       "                                                  KBinsDiscretizer(n_bins=7,\n",
       "                                                                   random_state=0),\n",
       "                                                  [&#x27;edad&#x27;]),\n",
       "                                                 (&#x27;onehot_categorical&#x27;,\n",
       "                                                  OneHotEncoder(),\n",
       "                                                  [&#x27;forma_pago&#x27;,\n",
       "                                                   &#x27;localizacion&#x27;]),\n",
       "                                                 (&#x27;ordinal_encoder&#x27;,\n",
       "                                                  OrdinalEncoder(),\n",
       "                                                  [&#x27;contactos_ult_año&#x27;])],\n",
       "                                   verbose_feature_names_out=False)),\n",
       "                (&#x27;modelo_coste&#x27;,\n",
       "                 TweedieRegressor(power=1.5, solver=&#x27;newton-cholesky&#x27;))])</pre><b>In a Jupyter environment, please rerun this cell to show the HTML representation or trust the notebook. <br />On GitHub, the HTML representation is unable to render, please try loading this page with nbviewer.org.</b></div><div class=\"sk-container\" hidden><div class=\"sk-item sk-dashed-wrapped\"><div class=\"sk-label-container\"><div class=\"sk-label fitted sk-toggleable\"><input class=\"sk-toggleable__control sk-hidden--visually\" id=\"sk-estimator-id-10\" type=\"checkbox\" ><label for=\"sk-estimator-id-10\" class=\"sk-toggleable__label fitted sk-toggleable__label-arrow\"><div><div>Pipeline</div></div><div><a class=\"sk-estimator-doc-link fitted\" rel=\"noreferrer\" target=\"_blank\" href=\"https://scikit-learn.org/1.6/modules/generated/sklearn.pipeline.Pipeline.html\">?<span>Documentation for Pipeline</span></a><span class=\"sk-estimator-doc-link fitted\">i<span>Fitted</span></span></div></label><div class=\"sk-toggleable__content fitted\"><pre>Pipeline(steps=[(&#x27;column_transformer&#x27;,\n",
       "                 ColumnTransformer(transformers=[(&#x27;binned_numeric&#x27;,\n",
       "                                                  KBinsDiscretizer(n_bins=7,\n",
       "                                                                   random_state=0),\n",
       "                                                  [&#x27;edad&#x27;]),\n",
       "                                                 (&#x27;onehot_categorical&#x27;,\n",
       "                                                  OneHotEncoder(),\n",
       "                                                  [&#x27;forma_pago&#x27;,\n",
       "                                                   &#x27;localizacion&#x27;]),\n",
       "                                                 (&#x27;ordinal_encoder&#x27;,\n",
       "                                                  OrdinalEncoder(),\n",
       "                                                  [&#x27;contactos_ult_año&#x27;])],\n",
       "                                   verbose_feature_names_out=False)),\n",
       "                (&#x27;modelo_coste&#x27;,\n",
       "                 TweedieRegressor(power=1.5, solver=&#x27;newton-cholesky&#x27;))])</pre></div> </div></div><div class=\"sk-serial\"><div class=\"sk-item sk-dashed-wrapped\"><div class=\"sk-label-container\"><div class=\"sk-label fitted sk-toggleable\"><input class=\"sk-toggleable__control sk-hidden--visually\" id=\"sk-estimator-id-11\" type=\"checkbox\" ><label for=\"sk-estimator-id-11\" class=\"sk-toggleable__label fitted sk-toggleable__label-arrow\"><div><div>column_transformer: ColumnTransformer</div></div><div><a class=\"sk-estimator-doc-link fitted\" rel=\"noreferrer\" target=\"_blank\" href=\"https://scikit-learn.org/1.6/modules/generated/sklearn.compose.ColumnTransformer.html\">?<span>Documentation for column_transformer: ColumnTransformer</span></a></div></label><div class=\"sk-toggleable__content fitted\"><pre>ColumnTransformer(transformers=[(&#x27;binned_numeric&#x27;,\n",
       "                                 KBinsDiscretizer(n_bins=7, random_state=0),\n",
       "                                 [&#x27;edad&#x27;]),\n",
       "                                (&#x27;onehot_categorical&#x27;, OneHotEncoder(),\n",
       "                                 [&#x27;forma_pago&#x27;, &#x27;localizacion&#x27;]),\n",
       "                                (&#x27;ordinal_encoder&#x27;, OrdinalEncoder(),\n",
       "                                 [&#x27;contactos_ult_año&#x27;])],\n",
       "                  verbose_feature_names_out=False)</pre></div> </div></div><div class=\"sk-parallel\"><div class=\"sk-parallel-item\"><div class=\"sk-item\"><div class=\"sk-label-container\"><div class=\"sk-label fitted sk-toggleable\"><input class=\"sk-toggleable__control sk-hidden--visually\" id=\"sk-estimator-id-12\" type=\"checkbox\" ><label for=\"sk-estimator-id-12\" class=\"sk-toggleable__label fitted sk-toggleable__label-arrow\"><div><div>binned_numeric</div></div></label><div class=\"sk-toggleable__content fitted\"><pre>[&#x27;edad&#x27;]</pre></div> </div></div><div class=\"sk-serial\"><div class=\"sk-item\"><div class=\"sk-estimator fitted sk-toggleable\"><input class=\"sk-toggleable__control sk-hidden--visually\" id=\"sk-estimator-id-13\" type=\"checkbox\" ><label for=\"sk-estimator-id-13\" class=\"sk-toggleable__label fitted sk-toggleable__label-arrow\"><div><div>KBinsDiscretizer</div></div><div><a class=\"sk-estimator-doc-link fitted\" rel=\"noreferrer\" target=\"_blank\" href=\"https://scikit-learn.org/1.6/modules/generated/sklearn.preprocessing.KBinsDiscretizer.html\">?<span>Documentation for KBinsDiscretizer</span></a></div></label><div class=\"sk-toggleable__content fitted\"><pre>KBinsDiscretizer(n_bins=7, random_state=0)</pre></div> </div></div></div></div></div><div class=\"sk-parallel-item\"><div class=\"sk-item\"><div class=\"sk-label-container\"><div class=\"sk-label fitted sk-toggleable\"><input class=\"sk-toggleable__control sk-hidden--visually\" id=\"sk-estimator-id-14\" type=\"checkbox\" ><label for=\"sk-estimator-id-14\" class=\"sk-toggleable__label fitted sk-toggleable__label-arrow\"><div><div>onehot_categorical</div></div></label><div class=\"sk-toggleable__content fitted\"><pre>[&#x27;forma_pago&#x27;, &#x27;localizacion&#x27;]</pre></div> </div></div><div class=\"sk-serial\"><div class=\"sk-item\"><div class=\"sk-estimator fitted sk-toggleable\"><input class=\"sk-toggleable__control sk-hidden--visually\" id=\"sk-estimator-id-15\" type=\"checkbox\" ><label for=\"sk-estimator-id-15\" class=\"sk-toggleable__label fitted sk-toggleable__label-arrow\"><div><div>OneHotEncoder</div></div><div><a class=\"sk-estimator-doc-link fitted\" rel=\"noreferrer\" target=\"_blank\" href=\"https://scikit-learn.org/1.6/modules/generated/sklearn.preprocessing.OneHotEncoder.html\">?<span>Documentation for OneHotEncoder</span></a></div></label><div class=\"sk-toggleable__content fitted\"><pre>OneHotEncoder()</pre></div> </div></div></div></div></div><div class=\"sk-parallel-item\"><div class=\"sk-item\"><div class=\"sk-label-container\"><div class=\"sk-label fitted sk-toggleable\"><input class=\"sk-toggleable__control sk-hidden--visually\" id=\"sk-estimator-id-16\" type=\"checkbox\" ><label for=\"sk-estimator-id-16\" class=\"sk-toggleable__label fitted sk-toggleable__label-arrow\"><div><div>ordinal_encoder</div></div></label><div class=\"sk-toggleable__content fitted\"><pre>[&#x27;contactos_ult_año&#x27;]</pre></div> </div></div><div class=\"sk-serial\"><div class=\"sk-item\"><div class=\"sk-estimator fitted sk-toggleable\"><input class=\"sk-toggleable__control sk-hidden--visually\" id=\"sk-estimator-id-17\" type=\"checkbox\" ><label for=\"sk-estimator-id-17\" class=\"sk-toggleable__label fitted sk-toggleable__label-arrow\"><div><div>OrdinalEncoder</div></div><div><a class=\"sk-estimator-doc-link fitted\" rel=\"noreferrer\" target=\"_blank\" href=\"https://scikit-learn.org/1.6/modules/generated/sklearn.preprocessing.OrdinalEncoder.html\">?<span>Documentation for OrdinalEncoder</span></a></div></label><div class=\"sk-toggleable__content fitted\"><pre>OrdinalEncoder()</pre></div> </div></div></div></div></div></div></div><div class=\"sk-item\"><div class=\"sk-estimator fitted sk-toggleable\"><input class=\"sk-toggleable__control sk-hidden--visually\" id=\"sk-estimator-id-18\" type=\"checkbox\" ><label for=\"sk-estimator-id-18\" class=\"sk-toggleable__label fitted sk-toggleable__label-arrow\"><div><div>TweedieRegressor</div></div><div><a class=\"sk-estimator-doc-link fitted\" rel=\"noreferrer\" target=\"_blank\" href=\"https://scikit-learn.org/1.6/modules/generated/sklearn.linear_model.TweedieRegressor.html\">?<span>Documentation for TweedieRegressor</span></a></div></label><div class=\"sk-toggleable__content fitted\"><pre>TweedieRegressor(power=1.5, solver=&#x27;newton-cholesky&#x27;)</pre></div> </div></div></div></div></div></div>"
      ],
      "text/plain": [
       "Pipeline(steps=[('column_transformer',\n",
       "                 ColumnTransformer(transformers=[('binned_numeric',\n",
       "                                                  KBinsDiscretizer(n_bins=7,\n",
       "                                                                   random_state=0),\n",
       "                                                  ['edad']),\n",
       "                                                 ('onehot_categorical',\n",
       "                                                  OneHotEncoder(),\n",
       "                                                  ['forma_pago',\n",
       "                                                   'localizacion']),\n",
       "                                                 ('ordinal_encoder',\n",
       "                                                  OrdinalEncoder(),\n",
       "                                                  ['contactos_ult_año'])],\n",
       "                                   verbose_feature_names_out=False)),\n",
       "                ('modelo_coste',\n",
       "                 TweedieRegressor(power=1.5, solver='newton-cholesky'))])"
      ]
     },
     "execution_count": 125,
     "metadata": {},
     "output_type": "execute_result"
    }
   ],
   "source": [
    "preprocessor_cost.fit(X_train,y_train)"
   ]
  },
  {
   "cell_type": "markdown",
   "id": "51020f80",
   "metadata": {},
   "source": [
    "At this point, we have to age the numeric variables for the correct calculation of the CLTV along the period of analysis."
   ]
  },
  {
   "cell_type": "code",
   "execution_count": 126,
   "id": "f71c764f",
   "metadata": {},
   "outputs": [],
   "source": [
    "X=df.copy()\n",
    "for i in range(0,5):\n",
    "    column_name = f'House_Cost_y_{i+1}'\n",
    "    X[[\"edad\"]]+=1\n",
    "    X[column_name] = preprocessor_cost.predict(X)"
   ]
  },
  {
   "cell_type": "code",
   "execution_count": 127,
   "id": "4bc5b25b",
   "metadata": {},
   "outputs": [
    {
     "data": {
      "application/vnd.microsoft.datawrangler.viewer.v0+json": {
       "columns": [
        {
         "name": "index",
         "rawType": "int64",
         "type": "integer"
        },
        {
         "name": "cliente",
         "rawType": "object",
         "type": "string"
        },
        {
         "name": "Prod",
         "rawType": "object",
         "type": "string"
        },
        {
         "name": "contactos_ult_año",
         "rawType": "category",
         "type": "unknown"
        },
        {
         "name": "forma_pago",
         "rawType": "object",
         "type": "string"
        },
        {
         "name": "valor_continente",
         "rawType": "float64",
         "type": "float"
        },
        {
         "name": "valor_contenido",
         "rawType": "float64",
         "type": "float"
        },
        {
         "name": "prima",
         "rawType": "float64",
         "type": "float"
        },
        {
         "name": "productos",
         "rawType": "object",
         "type": "string"
        },
        {
         "name": "id_oficina",
         "rawType": "object",
         "type": "string"
        },
        {
         "name": "localizacion",
         "rawType": "object",
         "type": "string"
        },
        {
         "name": "coste_siniestro",
         "rawType": "float64",
         "type": "float"
        },
        {
         "name": "edad",
         "rawType": "int64",
         "type": "integer"
        },
        {
         "name": "exposicion",
         "rawType": "int64",
         "type": "integer"
        },
        {
         "name": "PrimaPura",
         "rawType": "float64",
         "type": "float"
        },
        {
         "name": "NSin",
         "rawType": "float64",
         "type": "float"
        },
        {
         "name": "Multiplier",
         "rawType": "float64",
         "type": "float"
        },
        {
         "name": "House_Cost_y_1",
         "rawType": "float64",
         "type": "float"
        },
        {
         "name": "House_Cost_y_2",
         "rawType": "float64",
         "type": "float"
        },
        {
         "name": "House_Cost_y_3",
         "rawType": "float64",
         "type": "float"
        },
        {
         "name": "House_Cost_y_4",
         "rawType": "float64",
         "type": "float"
        },
        {
         "name": "House_Cost_y_5",
         "rawType": "float64",
         "type": "float"
        }
       ],
       "ref": "1909da80-5e7b-42fc-9f5f-7aeee9e9cc4c",
       "rows": [
        [
         "0",
         "A1500471SD",
         "Ambos",
         "0",
         "ANUAL",
         "300000.0",
         "40000.0",
         "358.45",
         "201H",
         "sucursal4",
         "Andalucia",
         "0.0",
         "40",
         "1",
         "0.0",
         "0.0",
         "1.0",
         "415.0588154505057",
         "415.0588154505057",
         "415.0588154505057",
         "415.0588154505057",
         "415.0588154505057"
        ],
        [
         "1",
         "A1508494TS",
         "Ambos",
         "1",
         "ANUAL",
         "61000.0",
         "21100.0",
         "170.21",
         "201H",
         "Canalonline",
         "Asturias",
         "0.0",
         "66",
         "1",
         "0.0",
         "0.0",
         "1.0",
         "49.13487491575466",
         "49.13487491575466",
         "49.13487491575466",
         "49.13487491575466",
         "47.7181405367095"
        ],
        [
         "2",
         "A1515609BI",
         "Ambos",
         "1",
         "ANUAL",
         "144800.0",
         "45000.0",
         "238.55",
         "201H",
         "sucursal7",
         "Canarias",
         "0.0",
         "53",
         "1",
         "0.0",
         "0.0",
         "1.0",
         "93.32554637984879",
         "93.32554637984879",
         "93.32554637984879",
         "93.32554637984879",
         "93.32554637984879"
        ],
        [
         "3",
         "A1522302NJ",
         "Ambos",
         "2",
         "ANUAL",
         "96000.0",
         "25000.0",
         "201.85",
         "201H",
         "sucursal10",
         "País Vasco",
         "0.0",
         "56",
         "1",
         "0.0",
         "0.0",
         "1.0",
         "98.83201948940635",
         "98.83201948940635",
         "46.7218239279081",
         "46.7218239279081",
         "46.7218239279081"
        ],
        [
         "4",
         "A1529153OQ",
         "Ambos",
         "0",
         "ANUAL",
         "184000.0",
         "36000.0",
         "270.66",
         "201H",
         "sucursal5",
         "Aragon",
         "0.0",
         "81",
         "1",
         "0.0",
         "0.0",
         "1.0",
         "37.74221281730302",
         "37.74221281730302",
         "37.74221281730302",
         "37.02540070190448",
         "37.02540070190448"
        ],
        [
         "5",
         "A1538905LH",
         "Ambos",
         "3",
         "ANUAL",
         "72000.0",
         "21500.0",
         "182.96",
         "201H",
         "Canalonline",
         "Asturias",
         "0.0",
         "90",
         "1",
         "0.0",
         "0.0",
         "1.0",
         "49.58730977972213",
         "49.58730977972213",
         "49.58730977972213",
         "49.58730977972213",
         "49.58730977972213"
        ],
        [
         "6",
         "A1553565FU",
         "Ambos",
         "1",
         "MENOR",
         "164000.0",
         "27000.0",
         "257.02",
         "201H",
         "sucursal2",
         "Asturias",
         "0.0",
         "86",
         "1",
         "0.0",
         "0.0",
         "1.0",
         "45.5374109810791",
         "45.5374109810791",
         "45.5374109810791",
         "45.5374109810791",
         "45.5374109810791"
        ],
        [
         "7",
         "A1588377NL",
         "Ambos",
         "5",
         "ANUAL",
         "177000.0",
         "30000.0",
         "258.05",
         "201H",
         "sucursal4",
         "Andalucia",
         "0.0",
         "53",
         "1",
         "0.0",
         "0.0",
         "1.0",
         "130.8049221965823",
         "130.8049221965823",
         "130.8049221965823",
         "130.8049221965823",
         "130.8049221965823"
        ],
        [
         "8",
         "A1591530GL",
         "Ambos",
         "1",
         "ANUAL",
         "175000.0",
         "60000.0",
         "266.74",
         "201H",
         "sucursal7",
         "Canarias",
         "0.0",
         "67",
         "1",
         "0.0",
         "0.0",
         "1.0",
         "25.72973420214106",
         "25.72973420214106",
         "25.72973420214106",
         "24.987853835693244",
         "24.987853835693244"
        ],
        [
         "9",
         "A1594436KQ",
         "Ambos",
         "0",
         "SEMESTRAL",
         "65795.18",
         "28000.0",
         "182.81",
         "201H",
         "sucursal5",
         "Aragon",
         "0.0",
         "82",
         "1",
         "0.0",
         "0.0",
         "1.0",
         "46.361046046354886",
         "46.361046046354886",
         "45.48054230775742",
         "45.48054230775742",
         "45.48054230775742"
        ],
        [
         "10",
         "A1611380XK",
         "Ambos",
         "5",
         "ANUAL",
         "96000.0",
         "36500.0",
         "205.14",
         "201H",
         "sucursal10",
         "País Vasco",
         "0.0",
         "57",
         "1",
         "0.0",
         "0.0",
         "1.0",
         "124.88938832970526",
         "59.04017789123572",
         "59.04017789123572",
         "59.04017789123572",
         "59.04017789123572"
        ],
        [
         "11",
         "A1625270SS",
         "Ambos",
         "2",
         "ANUAL",
         "272000.0",
         "33000.0",
         "393.36",
         "201H",
         "sucursal3",
         "Madrid",
         "0.0",
         "74",
         "1",
         "0.0",
         "0.0",
         "1.0",
         "17.34107858118591",
         "17.34107858118591",
         "15.715884234891547",
         "15.715884234891547",
         "15.715884234891547"
        ],
        [
         "12",
         "A1630268DV",
         "Ambos",
         "1",
         "ANUAL",
         "180000.0",
         "30000.0",
         "259.07",
         "201H",
         "sucursal1",
         "Castilla y León",
         "0.0",
         "61",
         "1",
         "0.0",
         "0.0",
         "1.0",
         "29.29285658684982",
         "29.29285658684982",
         "29.29285658684982",
         "17.083402177344603",
         "17.083402177344603"
        ],
        [
         "13",
         "A1632110VC",
         "Ambos",
         "1",
         "ANUAL",
         "88800.0",
         "36600.0",
         "194.72",
         "201H",
         "sucursal5",
         "Aragon",
         "0.0",
         "60",
         "1",
         "0.0",
         "0.0",
         "1.0",
         "79.49399144334942",
         "79.49399144334942",
         "79.49399144334942",
         "79.49399144334942",
         "46.36037535235727"
        ],
        [
         "14",
         "A1633768NB",
         "Ambos",
         "0",
         "ANUAL",
         "46000.0",
         "15000.0",
         "161.85",
         "201H",
         "sucursal9",
         "Cataluña",
         "0.0",
         "67",
         "1",
         "0.0",
         "0.0",
         "1.0",
         "23.90723375542769",
         "23.90723375542769",
         "23.90723375542769",
         "23.217902602610945",
         "23.217902602610945"
        ],
        [
         "15",
         "A1645340AO",
         "Ambos",
         "0",
         "ANUAL",
         "90000.0",
         "27600.0",
         "191.45",
         "201H",
         "Canalonline",
         "Asturias",
         "0.0",
         "53",
         "1",
         "0.0",
         "0.0",
         "1.0",
         "164.84627574433782",
         "164.84627574433782",
         "164.84627574433782",
         "164.84627574433782",
         "164.84627574433782"
        ],
        [
         "16",
         "A1649716YG",
         "Ambos",
         "2",
         "ANUAL",
         "45000.0",
         "18000.0",
         "156.73",
         "201H",
         "sucursal5",
         "Aragon",
         "0.0",
         "56",
         "1",
         "0.0",
         "0.0",
         "1.0",
         "181.79759818063047",
         "181.79759818063047",
         "85.94295064083404",
         "85.94295064083404",
         "85.94295064083404"
        ],
        [
         "17",
         "A1649877TS",
         "Ambos",
         "1",
         "SEMESTRAL",
         "57000.0",
         "19000.0",
         "162.43",
         "201H",
         "sucursal10",
         "País Vasco",
         "0.0",
         "49",
         "1",
         "0.0",
         "0.0",
         "1.0",
         "526.2752153077937",
         "526.2752153077937",
         "112.29168030817495",
         "112.29168030817495",
         "112.29168030817495"
        ],
        [
         "18",
         "A1657793HI",
         "Ambos",
         "1",
         "ANUAL",
         "91000.0",
         "18000.0",
         "197.41",
         "201H",
         "sucursal10",
         "País Vasco",
         "0.0",
         "59",
         "1",
         "0.0",
         "0.0",
         "1.0",
         "43.2159268892744",
         "43.2159268892744",
         "43.2159268892744",
         "43.2159268892744",
         "43.2159268892744"
        ],
        [
         "19",
         "A1698719CI",
         "Ambos",
         "2",
         "ANUAL",
         "135000.0",
         "48000.0",
         "242.59",
         "201H",
         "sucursal8",
         "Cantabria",
         "0.0",
         "88",
         "1",
         "0.0",
         "0.0",
         "1.0",
         "27.52272992511984",
         "27.52272992511984",
         "27.52272992511984",
         "27.52272992511984",
         "27.52272992511984"
        ],
        [
         "20",
         "A1700563RX",
         "Ambos",
         "1",
         "ANUAL",
         "117000.0",
         "30000.0",
         "213.02",
         "201H",
         "sucursal8",
         "Cantabria",
         "0.0",
         "62",
         "1",
         "0.0",
         "0.0",
         "1.0",
         "50.55616613261981",
         "50.55616613261981",
         "29.48402509081048",
         "29.48402509081048",
         "29.48402509081048"
        ],
        [
         "21",
         "A1707832ZB",
         "Ambos",
         "1",
         "ANUAL",
         "111000.0",
         "35000.0",
         "203.99",
         "201H",
         "sucursal1",
         "Castilla y León",
         "0.0",
         "47",
         "1",
         "0.0",
         "0.0",
         "1.0",
         "290.4055711265714",
         "290.4055711265714",
         "290.4055711265714",
         "290.4055711265714",
         "61.964023013293115"
        ],
        [
         "22",
         "A1710272PD",
         "Ambos",
         "1",
         "ANUAL",
         "76768.0",
         "30530.0",
         "177.26",
         "201H",
         "sucursal6",
         "Islas Baleares",
         "0.0",
         "41",
         "1",
         "0.0",
         "0.0",
         "1.0",
         "433.5329789567887",
         "433.5329789567887",
         "433.5329789567887",
         "433.5329789567887",
         "433.5329789567887"
        ],
        [
         "23",
         "A1711751EY",
         "Ambos",
         "1",
         "MENOR",
         "80000.0",
         "25300.0",
         "194.4",
         "201H",
         "sucursal10",
         "País Vasco",
         "0.0",
         "67",
         "1",
         "0.0",
         "0.0",
         "1.0",
         "27.05242317096214",
         "27.05242317096214",
         "27.05242317096214",
         "26.27240494544527",
         "26.27240494544527"
        ],
        [
         "24",
         "A1711817JC",
         "Ambos",
         "1",
         "ANUAL",
         "100100.0",
         "19000.0",
         "201.24",
         "201H",
         "sucursal9",
         "Cataluña",
         "0.0",
         "56",
         "1",
         "0.0",
         "0.0",
         "1.0",
         "93.74983793479257",
         "93.74983793479257",
         "44.319274703567125",
         "44.319274703567125",
         "44.319274703567125"
        ],
        [
         "25",
         "A1735142OK",
         "Ambos",
         "1",
         "ANUAL",
         "152000.0",
         "32000.0",
         "250.32",
         "201H",
         "sucursal8",
         "Cantabria",
         "0.0",
         "65",
         "1",
         "0.0",
         "0.0",
         "1.0",
         "29.48402509081048",
         "29.48402509081048",
         "29.48402509081048",
         "29.48402509081048",
         "29.48402509081048"
        ],
        [
         "26",
         "A1736334FB",
         "Ambos",
         "3",
         "ANUAL",
         "60000.0",
         "11800.0",
         "168.87",
         "201H",
         "sucursal5",
         "Aragon",
         "3433.95",
         "35",
         "1",
         "3433.95",
         "1.0",
         "1.0",
         "921.1480447167021",
         "921.1480447167021",
         "921.1480447167021",
         "921.1480447167021",
         "921.1480447167021"
        ],
        [
         "27",
         "A1739090GR",
         "Ambos",
         "3",
         "ANUAL",
         "56700.0",
         "6000.0",
         "168.46",
         "201H",
         "sucursal3",
         "Madrid",
         "0.0",
         "63",
         "1",
         "0.0",
         "0.0",
         "1.0",
         "33.10135452154479",
         "19.304493238132043",
         "19.304493238132043",
         "19.304493238132043",
         "19.304493238132043"
        ],
        [
         "28",
         "A1739652WD",
         "Ambos",
         "5",
         "ANUAL",
         "80000.0",
         "25000.0",
         "191.38",
         "201H",
         "sucursal1",
         "Castilla y León",
         "0.0",
         "73",
         "1",
         "0.0",
         "0.0",
         "1.0",
         "22.6658415027104",
         "22.6658415027104",
         "22.6658415027104",
         "20.541613918379255",
         "20.541613918379255"
        ],
        [
         "29",
         "A1740020BX",
         "Ambos",
         "0",
         "ANUAL",
         "65000.0",
         "30000.0",
         "175.35",
         "201H",
         "sucursal8",
         "Cantabria",
         "0.0",
         "65",
         "1",
         "0.0",
         "0.0",
         "1.0",
         "27.271612398780924",
         "27.271612398780924",
         "27.271612398780924",
         "27.271612398780924",
         "27.271612398780924"
        ],
        [
         "30",
         "A1757998CW",
         "Ambos",
         "1",
         "MENOR",
         "80000.0",
         "30600.0",
         "184.21",
         "201H",
         "sucursal3",
         "Madrid",
         "0.0",
         "49",
         "1",
         "0.0",
         "0.0",
         "1.0",
         "301.3608080231904",
         "301.3608080231904",
         "64.30154893796737",
         "64.30154893796737",
         "64.30154893796737"
        ],
        [
         "31",
         "A1762594BF",
         "Ambos",
         "2",
         "SEMESTRAL",
         "60000.0",
         "30300.0",
         "167.1",
         "201H",
         "sucursal5",
         "Aragon",
         "3854.41",
         "39",
         "1",
         "3854.41",
         "1.0",
         "1.0",
         "1046.596662581762",
         "1046.596662581762",
         "1046.596662581762",
         "1046.596662581762",
         "1046.596662581762"
        ],
        [
         "32",
         "A1762805QA",
         "Ambos",
         "0",
         "MENOR",
         "111000.0",
         "35000.0",
         "213.81",
         "201H",
         "sucursal5",
         "Aragon",
         "4215.22",
         "47",
         "1",
         "4215.22",
         "1.0",
         "1.0",
         "782.4403992942772",
         "782.4403992942772",
         "782.4403992942772",
         "782.4403992942772",
         "166.9498099513724"
        ],
        [
         "33",
         "A1763687UD",
         "Ambos",
         "0",
         "SEMESTRAL",
         "100000.0",
         "10000.0",
         "199.24",
         "201H",
         "sucursal1",
         "Castilla y León",
         "0.0",
         "52",
         "1",
         "0.0",
         "0.0",
         "1.0",
         "70.40273282651002",
         "70.40273282651002",
         "70.40273282651002",
         "70.40273282651002",
         "70.40273282651002"
        ],
        [
         "34",
         "A1772321FY",
         "Ambos",
         "0",
         "ANUAL",
         "257400.0",
         "20000.0",
         "318.24",
         "201H",
         "sucursal4",
         "Andalucia",
         "0.0",
         "67",
         "1",
         "0.0",
         "0.0",
         "1.0",
         "24.416255666468743",
         "24.416255666468743",
         "24.416255666468743",
         "23.712247589322892",
         "23.712247589322892"
        ],
        [
         "35",
         "A1775396KE",
         "Ambos",
         "2",
         "SEMESTRAL",
         "135200.0",
         "47000.0",
         "228.79",
         "201H",
         "sucursal8",
         "Cantabria",
         "0.0",
         "63",
         "1",
         "0.0",
         "0.0",
         "1.0",
         "67.13916811988166",
         "39.15512327873099",
         "39.15512327873099",
         "39.15512327873099",
         "39.15512327873099"
        ],
        [
         "36",
         "A1791668OU",
         "Ambos",
         "0",
         "ANUAL",
         "130000.0",
         "32300.0",
         "231.03",
         "201H",
         "sucursal3",
         "Madrid",
         "0.0",
         "53",
         "1",
         "0.0",
         "0.0",
         "1.0",
         "55.41097320583613",
         "55.41097320583613",
         "55.41097320583613",
         "55.41097320583613",
         "55.41097320583613"
        ],
        [
         "37",
         "A1822128XR",
         "Ambos",
         "0",
         "ANUAL",
         "82200.0",
         "10000.0",
         "177.5",
         "201H",
         "sucursal6",
         "Islas Baleares",
         "14057.3",
         "34",
         "1",
         "14057.3",
         "1.0",
         "1.0",
         "401.00167218631884",
         "401.00167218631884",
         "401.00167218631884",
         "401.00167218631884",
         "401.00167218631884"
        ],
        [
         "38",
         "A1822453ST",
         "Ambos",
         "0",
         "ANUAL",
         "85000.0",
         "25000.0",
         "192.51",
         "201H",
         "sucursal2",
         "Asturias",
         "0.0",
         "53",
         "1",
         "0.0",
         "0.0",
         "1.0",
         "164.84627574433782",
         "164.84627574433782",
         "164.84627574433782",
         "164.84627574433782",
         "164.84627574433782"
        ],
        [
         "39",
         "A1827586CJ",
         "Ambos",
         "0",
         "ANUAL",
         "87000.0",
         "13200.0",
         "184.34",
         "201H",
         "Canalonline",
         "Asturias",
         "0.0",
         "60",
         "1",
         "0.0",
         "0.0",
         "1.0",
         "77.92938675429879",
         "77.92938675429879",
         "77.92938675429879",
         "77.92938675429879",
         "45.44790814137143"
        ],
        [
         "40",
         "A1830078VP",
         "Ambos",
         "2",
         "ANUAL",
         "110000.0",
         "30000.0",
         "209.69",
         "201H",
         "sucursal5",
         "Aragon",
         "0.0",
         "69",
         "1",
         "0.0",
         "0.0",
         "1.0",
         "50.12136613416357",
         "48.67618768100317",
         "48.67618768100317",
         "48.67618768100317",
         "48.67618768100317"
        ],
        [
         "41",
         "A1844842WO",
         "Ambos",
         "1",
         "ANUAL",
         "110000.0",
         "52500.0",
         "215.4",
         "201H",
         "sucursal8",
         "Cantabria",
         "0.0",
         "57",
         "1",
         "0.0",
         "0.0",
         "1.0",
         "106.94291396325755",
         "50.55616613261981",
         "50.55616613261981",
         "50.55616613261981",
         "50.55616613261981"
        ],
        [
         "42",
         "A1847760KS",
         "Ambos",
         "1",
         "ANUAL",
         "45000.0",
         "12000.0",
         "158.39",
         "201H",
         "sucursal8",
         "Cantabria",
         "0.0",
         "58",
         "1",
         "0.0",
         "0.0",
         "1.0",
         "50.55616613261981",
         "50.55616613261981",
         "50.55616613261981",
         "50.55616613261981",
         "50.55616613261981"
        ],
        [
         "43",
         "A1868499EM",
         "Ambos",
         "1",
         "ANUAL",
         "160000.0",
         "17000.0",
         "246.57",
         "201H",
         "sucursal3",
         "Madrid",
         "0.0",
         "71",
         "1",
         "0.0",
         "0.0",
         "1.0",
         "16.039844362712294",
         "16.039844362712294",
         "16.039844362712294",
         "16.039844362712294",
         "16.039844362712294"
        ],
        [
         "44",
         "A1871014MT",
         "Ambos",
         "0",
         "MENOR",
         "291000.0",
         "30000.0",
         "353.21",
         "201H",
         "sucursal8",
         "Cantabria",
         "0.0",
         "46",
         "1",
         "0.0",
         "0.0",
         "1.0",
         "497.6122861283784",
         "497.6122861283784",
         "497.6122861283784",
         "497.6122861283784",
         "497.6122861283784"
        ],
        [
         "45",
         "A1871324XR",
         "Ambos",
         "0",
         "ANUAL",
         "138000.0",
         "25000.0",
         "225.87",
         "201H",
         "sucursal2",
         "Asturias",
         "3390.87",
         "41",
         "1",
         "3390.87",
         "1.0",
         "1.0",
         "772.5818067905739",
         "772.5818067905739",
         "772.5818067905739",
         "772.5818067905739",
         "772.5818067905739"
        ],
        [
         "46",
         "A1875958FG",
         "Ambos",
         "3",
         "ANUAL",
         "45000.0",
         "18000.0",
         "153.94",
         "201H",
         "sucursal8",
         "Cantabria",
         "0.0",
         "50",
         "1",
         "0.0",
         "0.0",
         "1.0",
         "585.8268371720009",
         "124.99824806910945",
         "124.99824806910945",
         "124.99824806910945",
         "124.99824806910945"
        ],
        [
         "47",
         "A1878974IY",
         "Ambos",
         "1",
         "ANUAL",
         "170000.0",
         "31500.0",
         "265.5",
         "201H",
         "sucursal3",
         "Madrid",
         "0.0",
         "84",
         "1",
         "0.0",
         "0.0",
         "1.0",
         "14.260517073213903",
         "14.260517073213903",
         "14.260517073213903",
         "14.260517073213903",
         "14.260517073213903"
        ],
        [
         "48",
         "A1890266NT",
         "Ambos",
         "2",
         "ANUAL",
         "84795.0",
         "15000.0",
         "182.14",
         "201H",
         "sucursal2",
         "Asturias",
         "759.09",
         "45",
         "1",
         "759.09",
         "1.0",
         "1.0",
         "903.0179631356224",
         "903.0179631356224",
         "903.0179631356224",
         "903.0179631356224",
         "903.0179631356224"
        ],
        [
         "49",
         "A1893511OD",
         "Ambos",
         "2",
         "MENOR",
         "96500.0",
         "28500.0",
         "206.65",
         "201H",
         "sucursal5",
         "Aragon",
         "0.0",
         "67",
         "1",
         "0.0",
         "0.0",
         "1.0",
         "53.798801429247604",
         "53.798801429247604",
         "53.798801429247604",
         "52.24758934888875",
         "52.24758934888875"
        ]
       ],
       "shape": {
        "columns": 21,
        "rows": 58533
       }
      },
      "text/html": [
       "<div>\n",
       "<style scoped>\n",
       "    .dataframe tbody tr th:only-of-type {\n",
       "        vertical-align: middle;\n",
       "    }\n",
       "\n",
       "    .dataframe tbody tr th {\n",
       "        vertical-align: top;\n",
       "    }\n",
       "\n",
       "    .dataframe thead th {\n",
       "        text-align: right;\n",
       "    }\n",
       "</style>\n",
       "<table border=\"1\" class=\"dataframe\">\n",
       "  <thead>\n",
       "    <tr style=\"text-align: right;\">\n",
       "      <th></th>\n",
       "      <th>cliente</th>\n",
       "      <th>Prod</th>\n",
       "      <th>contactos_ult_año</th>\n",
       "      <th>forma_pago</th>\n",
       "      <th>valor_continente</th>\n",
       "      <th>valor_contenido</th>\n",
       "      <th>prima</th>\n",
       "      <th>productos</th>\n",
       "      <th>id_oficina</th>\n",
       "      <th>localizacion</th>\n",
       "      <th>...</th>\n",
       "      <th>edad</th>\n",
       "      <th>exposicion</th>\n",
       "      <th>PrimaPura</th>\n",
       "      <th>NSin</th>\n",
       "      <th>Multiplier</th>\n",
       "      <th>House_Cost_y_1</th>\n",
       "      <th>House_Cost_y_2</th>\n",
       "      <th>House_Cost_y_3</th>\n",
       "      <th>House_Cost_y_4</th>\n",
       "      <th>House_Cost_y_5</th>\n",
       "    </tr>\n",
       "  </thead>\n",
       "  <tbody>\n",
       "    <tr>\n",
       "      <th>0</th>\n",
       "      <td>A1500471SD</td>\n",
       "      <td>Ambos</td>\n",
       "      <td>0</td>\n",
       "      <td>ANUAL</td>\n",
       "      <td>300000.0</td>\n",
       "      <td>40000.0</td>\n",
       "      <td>358.45</td>\n",
       "      <td>201H</td>\n",
       "      <td>sucursal4</td>\n",
       "      <td>Andalucia</td>\n",
       "      <td>...</td>\n",
       "      <td>40</td>\n",
       "      <td>1</td>\n",
       "      <td>0.0</td>\n",
       "      <td>0.0</td>\n",
       "      <td>1.0</td>\n",
       "      <td>415.058815</td>\n",
       "      <td>415.058815</td>\n",
       "      <td>415.058815</td>\n",
       "      <td>415.058815</td>\n",
       "      <td>415.058815</td>\n",
       "    </tr>\n",
       "    <tr>\n",
       "      <th>1</th>\n",
       "      <td>A1508494TS</td>\n",
       "      <td>Ambos</td>\n",
       "      <td>1</td>\n",
       "      <td>ANUAL</td>\n",
       "      <td>61000.0</td>\n",
       "      <td>21100.0</td>\n",
       "      <td>170.21</td>\n",
       "      <td>201H</td>\n",
       "      <td>Canalonline</td>\n",
       "      <td>Asturias</td>\n",
       "      <td>...</td>\n",
       "      <td>66</td>\n",
       "      <td>1</td>\n",
       "      <td>0.0</td>\n",
       "      <td>0.0</td>\n",
       "      <td>1.0</td>\n",
       "      <td>49.134875</td>\n",
       "      <td>49.134875</td>\n",
       "      <td>49.134875</td>\n",
       "      <td>49.134875</td>\n",
       "      <td>47.718141</td>\n",
       "    </tr>\n",
       "    <tr>\n",
       "      <th>2</th>\n",
       "      <td>A1515609BI</td>\n",
       "      <td>Ambos</td>\n",
       "      <td>1</td>\n",
       "      <td>ANUAL</td>\n",
       "      <td>144800.0</td>\n",
       "      <td>45000.0</td>\n",
       "      <td>238.55</td>\n",
       "      <td>201H</td>\n",
       "      <td>sucursal7</td>\n",
       "      <td>Canarias</td>\n",
       "      <td>...</td>\n",
       "      <td>53</td>\n",
       "      <td>1</td>\n",
       "      <td>0.0</td>\n",
       "      <td>0.0</td>\n",
       "      <td>1.0</td>\n",
       "      <td>93.325546</td>\n",
       "      <td>93.325546</td>\n",
       "      <td>93.325546</td>\n",
       "      <td>93.325546</td>\n",
       "      <td>93.325546</td>\n",
       "    </tr>\n",
       "    <tr>\n",
       "      <th>3</th>\n",
       "      <td>A1522302NJ</td>\n",
       "      <td>Ambos</td>\n",
       "      <td>2</td>\n",
       "      <td>ANUAL</td>\n",
       "      <td>96000.0</td>\n",
       "      <td>25000.0</td>\n",
       "      <td>201.85</td>\n",
       "      <td>201H</td>\n",
       "      <td>sucursal10</td>\n",
       "      <td>País Vasco</td>\n",
       "      <td>...</td>\n",
       "      <td>56</td>\n",
       "      <td>1</td>\n",
       "      <td>0.0</td>\n",
       "      <td>0.0</td>\n",
       "      <td>1.0</td>\n",
       "      <td>98.832019</td>\n",
       "      <td>98.832019</td>\n",
       "      <td>46.721824</td>\n",
       "      <td>46.721824</td>\n",
       "      <td>46.721824</td>\n",
       "    </tr>\n",
       "    <tr>\n",
       "      <th>4</th>\n",
       "      <td>A1529153OQ</td>\n",
       "      <td>Ambos</td>\n",
       "      <td>0</td>\n",
       "      <td>ANUAL</td>\n",
       "      <td>184000.0</td>\n",
       "      <td>36000.0</td>\n",
       "      <td>270.66</td>\n",
       "      <td>201H</td>\n",
       "      <td>sucursal5</td>\n",
       "      <td>Aragon</td>\n",
       "      <td>...</td>\n",
       "      <td>81</td>\n",
       "      <td>1</td>\n",
       "      <td>0.0</td>\n",
       "      <td>0.0</td>\n",
       "      <td>1.0</td>\n",
       "      <td>37.742213</td>\n",
       "      <td>37.742213</td>\n",
       "      <td>37.742213</td>\n",
       "      <td>37.025401</td>\n",
       "      <td>37.025401</td>\n",
       "    </tr>\n",
       "    <tr>\n",
       "      <th>...</th>\n",
       "      <td>...</td>\n",
       "      <td>...</td>\n",
       "      <td>...</td>\n",
       "      <td>...</td>\n",
       "      <td>...</td>\n",
       "      <td>...</td>\n",
       "      <td>...</td>\n",
       "      <td>...</td>\n",
       "      <td>...</td>\n",
       "      <td>...</td>\n",
       "      <td>...</td>\n",
       "      <td>...</td>\n",
       "      <td>...</td>\n",
       "      <td>...</td>\n",
       "      <td>...</td>\n",
       "      <td>...</td>\n",
       "      <td>...</td>\n",
       "      <td>...</td>\n",
       "      <td>...</td>\n",
       "      <td>...</td>\n",
       "      <td>...</td>\n",
       "    </tr>\n",
       "    <tr>\n",
       "      <th>59773</th>\n",
       "      <td>Z88912285BH</td>\n",
       "      <td>Solo Hogar</td>\n",
       "      <td>1</td>\n",
       "      <td>ANUAL</td>\n",
       "      <td>75598.0</td>\n",
       "      <td>32224.0</td>\n",
       "      <td>186.88</td>\n",
       "      <td>201H</td>\n",
       "      <td>sucursal4</td>\n",
       "      <td>Andalucia</td>\n",
       "      <td>...</td>\n",
       "      <td>81</td>\n",
       "      <td>1</td>\n",
       "      <td>0.0</td>\n",
       "      <td>0.0</td>\n",
       "      <td>1.0</td>\n",
       "      <td>23.233326</td>\n",
       "      <td>23.233326</td>\n",
       "      <td>23.233326</td>\n",
       "      <td>22.792072</td>\n",
       "      <td>22.792072</td>\n",
       "    </tr>\n",
       "    <tr>\n",
       "      <th>59774</th>\n",
       "      <td>Z88920719HB</td>\n",
       "      <td>Solo Hogar</td>\n",
       "      <td>2</td>\n",
       "      <td>ANUAL</td>\n",
       "      <td>55000.0</td>\n",
       "      <td>15000.0</td>\n",
       "      <td>169.58</td>\n",
       "      <td>201H</td>\n",
       "      <td>sucursal3</td>\n",
       "      <td>Madrid</td>\n",
       "      <td>...</td>\n",
       "      <td>56</td>\n",
       "      <td>1</td>\n",
       "      <td>0.0</td>\n",
       "      <td>0.0</td>\n",
       "      <td>1.0</td>\n",
       "      <td>64.766092</td>\n",
       "      <td>64.766092</td>\n",
       "      <td>30.617506</td>\n",
       "      <td>30.617506</td>\n",
       "      <td>30.617506</td>\n",
       "    </tr>\n",
       "    <tr>\n",
       "      <th>59775</th>\n",
       "      <td>Z88944263NF</td>\n",
       "      <td>Solo Hogar</td>\n",
       "      <td>2</td>\n",
       "      <td>ANUAL</td>\n",
       "      <td>101700.0</td>\n",
       "      <td>24000.0</td>\n",
       "      <td>210.66</td>\n",
       "      <td>201H</td>\n",
       "      <td>sucursal10</td>\n",
       "      <td>País Vasco</td>\n",
       "      <td>...</td>\n",
       "      <td>81</td>\n",
       "      <td>1</td>\n",
       "      <td>0.0</td>\n",
       "      <td>0.0</td>\n",
       "      <td>1.0</td>\n",
       "      <td>23.982188</td>\n",
       "      <td>23.982188</td>\n",
       "      <td>23.982188</td>\n",
       "      <td>23.526710</td>\n",
       "      <td>23.526710</td>\n",
       "    </tr>\n",
       "    <tr>\n",
       "      <th>59776</th>\n",
       "      <td>Z88944665QP</td>\n",
       "      <td>Solo Hogar</td>\n",
       "      <td>2</td>\n",
       "      <td>ANUAL</td>\n",
       "      <td>90000.0</td>\n",
       "      <td>15000.0</td>\n",
       "      <td>194.35</td>\n",
       "      <td>201H</td>\n",
       "      <td>sucursal5</td>\n",
       "      <td>Aragon</td>\n",
       "      <td>...</td>\n",
       "      <td>68</td>\n",
       "      <td>1</td>\n",
       "      <td>0.0</td>\n",
       "      <td>0.0</td>\n",
       "      <td>1.0</td>\n",
       "      <td>50.121366</td>\n",
       "      <td>50.121366</td>\n",
       "      <td>48.676188</td>\n",
       "      <td>48.676188</td>\n",
       "      <td>48.676188</td>\n",
       "    </tr>\n",
       "    <tr>\n",
       "      <th>59777</th>\n",
       "      <td>Z88975418LC</td>\n",
       "      <td>Solo Hogar</td>\n",
       "      <td>2</td>\n",
       "      <td>ANUAL</td>\n",
       "      <td>68000.0</td>\n",
       "      <td>10000.0</td>\n",
       "      <td>176.80</td>\n",
       "      <td>201H</td>\n",
       "      <td>sucursal3</td>\n",
       "      <td>Madrid</td>\n",
       "      <td>...</td>\n",
       "      <td>66</td>\n",
       "      <td>1</td>\n",
       "      <td>0.0</td>\n",
       "      <td>0.0</td>\n",
       "      <td>1.0</td>\n",
       "      <td>17.855929</td>\n",
       "      <td>17.855929</td>\n",
       "      <td>17.855929</td>\n",
       "      <td>17.855929</td>\n",
       "      <td>17.341079</td>\n",
       "    </tr>\n",
       "  </tbody>\n",
       "</table>\n",
       "<p>58533 rows × 21 columns</p>\n",
       "</div>"
      ],
      "text/plain": [
       "           cliente        Prod contactos_ult_año forma_pago  valor_continente  \\\n",
       "0       A1500471SD       Ambos                 0      ANUAL          300000.0   \n",
       "1       A1508494TS       Ambos                 1      ANUAL           61000.0   \n",
       "2       A1515609BI       Ambos                 1      ANUAL          144800.0   \n",
       "3       A1522302NJ       Ambos                 2      ANUAL           96000.0   \n",
       "4       A1529153OQ       Ambos                 0      ANUAL          184000.0   \n",
       "...            ...         ...               ...        ...               ...   \n",
       "59773  Z88912285BH  Solo Hogar                 1      ANUAL           75598.0   \n",
       "59774  Z88920719HB  Solo Hogar                 2      ANUAL           55000.0   \n",
       "59775  Z88944263NF  Solo Hogar                 2      ANUAL          101700.0   \n",
       "59776  Z88944665QP  Solo Hogar                 2      ANUAL           90000.0   \n",
       "59777  Z88975418LC  Solo Hogar                 2      ANUAL           68000.0   \n",
       "\n",
       "       valor_contenido   prima productos   id_oficina localizacion  ...  edad  \\\n",
       "0              40000.0  358.45      201H    sucursal4    Andalucia  ...    40   \n",
       "1              21100.0  170.21      201H  Canalonline     Asturias  ...    66   \n",
       "2              45000.0  238.55      201H    sucursal7     Canarias  ...    53   \n",
       "3              25000.0  201.85      201H   sucursal10   País Vasco  ...    56   \n",
       "4              36000.0  270.66      201H    sucursal5       Aragon  ...    81   \n",
       "...                ...     ...       ...          ...          ...  ...   ...   \n",
       "59773          32224.0  186.88      201H    sucursal4    Andalucia  ...    81   \n",
       "59774          15000.0  169.58      201H    sucursal3       Madrid  ...    56   \n",
       "59775          24000.0  210.66      201H   sucursal10   País Vasco  ...    81   \n",
       "59776          15000.0  194.35      201H    sucursal5       Aragon  ...    68   \n",
       "59777          10000.0  176.80      201H    sucursal3       Madrid  ...    66   \n",
       "\n",
       "       exposicion  PrimaPura  NSin  Multiplier  House_Cost_y_1  \\\n",
       "0               1        0.0   0.0         1.0      415.058815   \n",
       "1               1        0.0   0.0         1.0       49.134875   \n",
       "2               1        0.0   0.0         1.0       93.325546   \n",
       "3               1        0.0   0.0         1.0       98.832019   \n",
       "4               1        0.0   0.0         1.0       37.742213   \n",
       "...           ...        ...   ...         ...             ...   \n",
       "59773           1        0.0   0.0         1.0       23.233326   \n",
       "59774           1        0.0   0.0         1.0       64.766092   \n",
       "59775           1        0.0   0.0         1.0       23.982188   \n",
       "59776           1        0.0   0.0         1.0       50.121366   \n",
       "59777           1        0.0   0.0         1.0       17.855929   \n",
       "\n",
       "       House_Cost_y_2  House_Cost_y_3  House_Cost_y_4  House_Cost_y_5  \n",
       "0          415.058815      415.058815      415.058815      415.058815  \n",
       "1           49.134875       49.134875       49.134875       47.718141  \n",
       "2           93.325546       93.325546       93.325546       93.325546  \n",
       "3           98.832019       46.721824       46.721824       46.721824  \n",
       "4           37.742213       37.742213       37.025401       37.025401  \n",
       "...               ...             ...             ...             ...  \n",
       "59773       23.233326       23.233326       22.792072       22.792072  \n",
       "59774       64.766092       30.617506       30.617506       30.617506  \n",
       "59775       23.982188       23.982188       23.526710       23.526710  \n",
       "59776       50.121366       48.676188       48.676188       48.676188  \n",
       "59777       17.855929       17.855929       17.855929       17.341079  \n",
       "\n",
       "[58533 rows x 21 columns]"
      ]
     },
     "execution_count": 127,
     "metadata": {},
     "output_type": "execute_result"
    }
   ],
   "source": [
    "X"
   ]
  },
  {
   "cell_type": "code",
   "execution_count": null,
   "id": "8f3d89c6",
   "metadata": {},
   "outputs": [],
   "source": [
    "X.drop(columns=['mes_trans','mes_sini','id_oficina'],axis=1,inplace=True)"
   ]
  },
  {
   "cell_type": "markdown",
   "id": "1a6d80ac",
   "metadata": {},
   "source": [
    "No vamos a introducir el modelo de cross selling por falta de datos en las bbdd. No contamos con la marca, el tipo de vehículo o la antigüedad del carnet.\n",
    "\n",
    "Unir el modelo de coste de hogar al de autos. En el merge si contamos con el df_final de hogar a la izquierda y el de autos a la derecha entonces el how='left'."
   ]
  }
 ],
 "metadata": {
  "kernelspec": {
   "display_name": "Python 3",
   "language": "python",
   "name": "python3"
  },
  "language_info": {
   "codemirror_mode": {
    "name": "ipython",
    "version": 3
   },
   "file_extension": ".py",
   "mimetype": "text/x-python",
   "name": "python",
   "nbconvert_exporter": "python",
   "pygments_lexer": "ipython3",
   "version": "3.12.2"
  }
 },
 "nbformat": 4,
 "nbformat_minor": 5
}
